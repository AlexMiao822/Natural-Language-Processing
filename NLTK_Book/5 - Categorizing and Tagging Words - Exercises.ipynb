{
 "cells": [
  {
   "cell_type": "code",
   "execution_count": 208,
   "metadata": {
    "collapsed": true
   },
   "outputs": [],
   "source": [
    "import nltk\n",
    "from nltk import word_tokenize\n",
    "from nltk import FreqDist # need this to access \"most_common\" method\n",
    "\n",
    "import urllib2\n",
    "\n",
    "from IPython.display import Image\n",
    "\n",
    "import re\n",
    "\n",
    "import random\n",
    "\n",
    "import numpy as np\n",
    "\n",
    "from __future__  import division"
   ]
  },
  {
   "cell_type": "markdown",
   "metadata": {},
   "source": [
    "Penn POS Tags:\n",
    "\n",
    "https://cs.nyu.edu/grishman/jet/guide/PennPOS.html"
   ]
  },
  {
   "cell_type": "markdown",
   "metadata": {},
   "source": [
    "#### 1. ☼ Search the web for \"spoof newspaper headlines\", to find such gems as: British Left Waffles on Falkland Islands, and Juvenile Court to Try Shooting Defendant. Manually tag these headlines to see if knowledge of the part-of-speech tags removes the ambiguity."
   ]
  },
  {
   "cell_type": "code",
   "execution_count": 209,
   "metadata": {
    "collapsed": false
   },
   "outputs": [
    {
     "data": {
      "text/plain": [
       "[('British', 'JJ'),\n",
       " ('Left', 'NNP'),\n",
       " ('Waffles', 'NNP'),\n",
       " ('on', 'IN'),\n",
       " ('Falkland', 'NNP'),\n",
       " ('Islands', 'NNP')]"
      ]
     },
     "execution_count": 209,
     "metadata": {},
     "output_type": "execute_result"
    }
   ],
   "source": [
    "sent1 = \"British Left Waffles on Falkland Islands\"\n",
    "tokens1 = nltk.word_tokenize(sent1)\n",
    "nltk.pos_tag(tokens1)"
   ]
  },
  {
   "cell_type": "code",
   "execution_count": 210,
   "metadata": {
    "collapsed": false
   },
   "outputs": [
    {
     "data": {
      "text/plain": [
       "[('Juvenile', 'NNP'),\n",
       " ('Court', 'NNP'),\n",
       " ('to', 'TO'),\n",
       " ('Try', 'VB'),\n",
       " ('Shooting', 'NNP'),\n",
       " ('Defendant', 'NNP')]"
      ]
     },
     "execution_count": 210,
     "metadata": {},
     "output_type": "execute_result"
    }
   ],
   "source": [
    "sent2 = \"Juvenile Court to Try Shooting Defendant\"\n",
    "tokens2 = nltk.word_tokenize(sent2)\n",
    "nltk.pos_tag(tokens2)"
   ]
  },
  {
   "cell_type": "markdown",
   "metadata": {},
   "source": [
    "The POS tagging did NOT remove the ambiguity."
   ]
  },
  {
   "cell_type": "markdown",
   "metadata": {},
   "source": [
    "#### 3. ☼ Tokenize and tag the following sentence: They wind back the clock, while we chase after the wind. What different pronunciations and parts of speech are involved?"
   ]
  },
  {
   "cell_type": "code",
   "execution_count": 211,
   "metadata": {
    "collapsed": false
   },
   "outputs": [
    {
     "data": {
      "text/plain": [
       "[('They', 'PRP'),\n",
       " ('wind', 'VBP'),\n",
       " ('back', 'RB'),\n",
       " ('the', 'DT'),\n",
       " ('clock', 'NN'),\n",
       " (',', ','),\n",
       " ('while', 'IN'),\n",
       " ('we', 'PRP'),\n",
       " ('chase', 'VBP'),\n",
       " ('after', 'IN'),\n",
       " ('the', 'DT'),\n",
       " ('wind', 'NN')]"
      ]
     },
     "execution_count": 211,
     "metadata": {},
     "output_type": "execute_result"
    }
   ],
   "source": [
    "sent = \"They wind back the clock, while we chase after the wind\"\n",
    "tokens = nltk.word_tokenize(sent)\n",
    "nltk.pos_tag(tokens)"
   ]
  },
  {
   "cell_type": "markdown",
   "metadata": {},
   "source": [
    "Different part of speech: PRP, VBP, RB, DT, NN, IN."
   ]
  },
  {
   "cell_type": "raw",
   "metadata": {},
   "source": [
    "PRP: Personal Pronoun\n",
    "VBP: Verb, non-3rd person singular present\n",
    "RB : Adverb\n",
    "DT : Determiner\n",
    "NN : Noun, singular or mass\n",
    "IN : Preposition or subordinating conjunction"
   ]
  },
  {
   "cell_type": "markdown",
   "metadata": {},
   "source": [
    "#### 5. ☼ Using the Python interpreter in interactive mode, experiment with the dictionary examples in this chapter. Create a dictionary d, and add some entries. What happens if you try to access a non-existent entry, e.g. d['xyz']?"
   ]
  },
  {
   "cell_type": "code",
   "execution_count": 212,
   "metadata": {
    "collapsed": false
   },
   "outputs": [
    {
     "data": {
      "text/plain": [
       "{}"
      ]
     },
     "execution_count": 212,
     "metadata": {},
     "output_type": "execute_result"
    }
   ],
   "source": [
    "dict1 = dict()# or {}\n",
    "dict1"
   ]
  },
  {
   "cell_type": "code",
   "execution_count": 213,
   "metadata": {
    "collapsed": false
   },
   "outputs": [
    {
     "data": {
      "text/plain": [
       "{'a': 1, 'b': 2}"
      ]
     },
     "execution_count": 213,
     "metadata": {},
     "output_type": "execute_result"
    }
   ],
   "source": [
    "dict1['a'] = 1\n",
    "dict1['b'] = 2\n",
    "dict1"
   ]
  },
  {
   "cell_type": "code",
   "execution_count": 214,
   "metadata": {
    "collapsed": false
   },
   "outputs": [
    {
     "name": "stdout",
     "output_type": "stream",
     "text": [
      "Key not found\n"
     ]
    }
   ],
   "source": [
    "try:\n",
    "    dict1['xyz']\n",
    "except KeyError:\n",
    "    print \"Key not found\""
   ]
  },
  {
   "cell_type": "markdown",
   "metadata": {},
   "source": [
    "Now let's do default dictionaries:"
   ]
  },
  {
   "cell_type": "code",
   "execution_count": 215,
   "metadata": {
    "collapsed": false
   },
   "outputs": [
    {
     "data": {
      "text/plain": [
       "defaultdict(int, {'a': 1, 'b': 2})"
      ]
     },
     "execution_count": 215,
     "metadata": {},
     "output_type": "execute_result"
    }
   ],
   "source": [
    "from collections import defaultdict\n",
    "\n",
    "dict2 = defaultdict(int)\n",
    "dict2['a'] = 1\n",
    "dict2['b'] = 2\n",
    "dict2"
   ]
  },
  {
   "cell_type": "code",
   "execution_count": 216,
   "metadata": {
    "collapsed": false
   },
   "outputs": [
    {
     "name": "stdout",
     "output_type": "stream",
     "text": [
      "0\n"
     ]
    }
   ],
   "source": [
    "try:\n",
    "    print dict2['xyz']\n",
    "except KeyError:\n",
    "    print \"Key not found\""
   ]
  },
  {
   "cell_type": "markdown",
   "metadata": {},
   "source": [
    "#### 6. ☼ Try deleting an element from a dictionary d, using the syntax del d['abc']. Check that the item was deleted."
   ]
  },
  {
   "cell_type": "code",
   "execution_count": 217,
   "metadata": {
    "collapsed": false
   },
   "outputs": [
    {
     "data": {
      "text/plain": [
       "{'a': 1, 'b': 2}"
      ]
     },
     "execution_count": 217,
     "metadata": {},
     "output_type": "execute_result"
    }
   ],
   "source": [
    "dict1"
   ]
  },
  {
   "cell_type": "code",
   "execution_count": 218,
   "metadata": {
    "collapsed": true
   },
   "outputs": [],
   "source": [
    "del dict1['a']"
   ]
  },
  {
   "cell_type": "code",
   "execution_count": 219,
   "metadata": {
    "collapsed": false
   },
   "outputs": [
    {
     "data": {
      "text/plain": [
       "{'b': 2}"
      ]
     },
     "execution_count": 219,
     "metadata": {},
     "output_type": "execute_result"
    }
   ],
   "source": [
    "dict1"
   ]
  },
  {
   "cell_type": "markdown",
   "metadata": {},
   "source": [
    "Interesting to see how to delete element from dict."
   ]
  },
  {
   "cell_type": "markdown",
   "metadata": {},
   "source": [
    "#### 7. ☼ Create two dictionaries, d1 and d2, and add some entries to each. Now issue the command d1.update(d2). What did this do? What might it be useful for?"
   ]
  },
  {
   "cell_type": "code",
   "execution_count": 220,
   "metadata": {
    "collapsed": false
   },
   "outputs": [
    {
     "data": {
      "text/plain": [
       "{'a': [1, 2, 3], 'b': 'interesting', 'c': {'vvv': 2, 'zzz': 1}}"
      ]
     },
     "execution_count": 220,
     "metadata": {},
     "output_type": "execute_result"
    }
   ],
   "source": [
    "d1 = {'a':[1,2,3], 'b':'interesting', 'c':{'zzz':1, 'vvv':2}}\n",
    "d1"
   ]
  },
  {
   "cell_type": "code",
   "execution_count": 221,
   "metadata": {
    "collapsed": true
   },
   "outputs": [],
   "source": [
    "d2 = {'ggg':2, 'that':'this'}"
   ]
  },
  {
   "cell_type": "code",
   "execution_count": 222,
   "metadata": {
    "collapsed": false
   },
   "outputs": [
    {
     "data": {
      "text/plain": [
       "{'a': [1, 2, 3],\n",
       " 'b': 'interesting',\n",
       " 'c': {'vvv': 2, 'zzz': 1},\n",
       " 'ggg': 2,\n",
       " 'that': 'this'}"
      ]
     },
     "execution_count": 222,
     "metadata": {},
     "output_type": "execute_result"
    }
   ],
   "source": [
    "d1.update(d2)\n",
    "d1"
   ]
  },
  {
   "cell_type": "code",
   "execution_count": 223,
   "metadata": {
    "collapsed": false
   },
   "outputs": [
    {
     "data": {
      "text/plain": [
       "{'ggg': 2, 'that': 'this'}"
      ]
     },
     "execution_count": 223,
     "metadata": {},
     "output_type": "execute_result"
    }
   ],
   "source": [
    "d2"
   ]
  },
  {
   "cell_type": "markdown",
   "metadata": {},
   "source": [
    "\"d1.update(variable)\" is used to add element to dictionaries. Here we update d1 using d2 basically add all element from d2 to d1."
   ]
  },
  {
   "cell_type": "markdown",
   "metadata": {},
   "source": [
    "#### 10. ☼ Train a unigram tagger and run it on some new text. Observe that some words are not assigned a tag. Why not?"
   ]
  },
  {
   "cell_type": "code",
   "execution_count": 224,
   "metadata": {
    "collapsed": false
   },
   "outputs": [],
   "source": [
    "length = len(nltk.corpus.brown.tagged_sents())\n",
    "train_size = int(length*0.8)\n",
    "test_size = int(length*0.2)"
   ]
  },
  {
   "cell_type": "code",
   "execution_count": 225,
   "metadata": {
    "collapsed": false
   },
   "outputs": [
    {
     "data": {
      "text/plain": [
       "45872"
      ]
     },
     "execution_count": 225,
     "metadata": {},
     "output_type": "execute_result"
    }
   ],
   "source": [
    "# make sure use \"int()\" to make it integers. \n",
    "train_size"
   ]
  },
  {
   "cell_type": "code",
   "execution_count": 334,
   "metadata": {
    "collapsed": false
   },
   "outputs": [
    {
     "data": {
      "text/plain": [
       "[(u'The', u'AT'),\n",
       " (u'Fulton', u'NP-TL'),\n",
       " (u'County', u'NN-TL'),\n",
       " (u'Grand', u'JJ-TL'),\n",
       " (u'Jury', u'NN-TL'),\n",
       " (u'said', u'VBD'),\n",
       " (u'Friday', u'NR'),\n",
       " (u'an', u'AT'),\n",
       " (u'investigation', u'NN'),\n",
       " (u'of', u'IN'),\n",
       " (u\"Atlanta's\", u'NP$'),\n",
       " (u'recent', u'JJ'),\n",
       " (u'primary', u'NN'),\n",
       " (u'election', u'NN'),\n",
       " (u'produced', u'VBD'),\n",
       " (u'``', u'``'),\n",
       " (u'no', u'AT'),\n",
       " (u'evidence', u'NN'),\n",
       " (u\"''\", u\"''\"),\n",
       " (u'that', u'CS'),\n",
       " (u'any', u'DTI'),\n",
       " (u'irregularities', u'NNS'),\n",
       " (u'took', u'VBD'),\n",
       " (u'place', u'NN'),\n",
       " (u'.', u'.')]"
      ]
     },
     "execution_count": 334,
     "metadata": {},
     "output_type": "execute_result"
    }
   ],
   "source": [
    "training_set_sents = nltk.corpus.brown.tagged_sents()[:train_size]\n",
    "test_set_sents = nltk.corpus.brown.tagged_sents()[train_size:]\n",
    "\n",
    "\n",
    "training_set_sents[0]\n"
   ]
  },
  {
   "cell_type": "code",
   "execution_count": 227,
   "metadata": {
    "collapsed": false
   },
   "outputs": [
    {
     "data": {
      "text/plain": [
       "<UnigramTagger: size=51461>"
      ]
     },
     "execution_count": 227,
     "metadata": {},
     "output_type": "execute_result"
    }
   ],
   "source": [
    "# train unigram taggers\n",
    "unigram_tagger = nltk.UnigramTagger(training_set_sents)\n",
    "unigram_tagger"
   ]
  },
  {
   "cell_type": "code",
   "execution_count": 228,
   "metadata": {
    "collapsed": false
   },
   "outputs": [
    {
     "data": {
      "text/plain": [
       "[(u'The', u'AT'),\n",
       " (u'September-October', u'NP'),\n",
       " (u'term', u'NN'),\n",
       " (u'jury', u'NN'),\n",
       " (u'had', u'HVD'),\n",
       " (u'been', u'BEN'),\n",
       " (u'charged', u'VBN'),\n",
       " (u'by', u'IN'),\n",
       " (u'Fulton', u'NP-TL'),\n",
       " (u'Superior', u'JJ-TL'),\n",
       " (u'Court', u'NN-TL'),\n",
       " (u'Judge', u'NN-TL'),\n",
       " (u'Durwood', u'NP'),\n",
       " (u'Pye', u'NP'),\n",
       " (u'to', u'TO'),\n",
       " (u'investigate', u'VB'),\n",
       " (u'reports', u'NNS'),\n",
       " (u'of', u'IN'),\n",
       " (u'possible', u'JJ'),\n",
       " (u'``', u'``'),\n",
       " (u'irregularities', u'NNS'),\n",
       " (u\"''\", u\"''\"),\n",
       " (u'in', u'IN'),\n",
       " (u'the', u'AT'),\n",
       " (u'hard-fought', u'JJ'),\n",
       " (u'primary', u'JJ'),\n",
       " (u'which', u'WDT'),\n",
       " (u'was', u'BEDZ'),\n",
       " (u'won', u'VBD'),\n",
       " (u'by', u'IN'),\n",
       " (u'Mayor-nominate', u'NN-TL'),\n",
       " (u'Ivan', u'NP'),\n",
       " (u'Allen', u'NP'),\n",
       " (u'Jr.', u'NP'),\n",
       " (u'.', u'.')]"
      ]
     },
     "execution_count": 228,
     "metadata": {},
     "output_type": "execute_result"
    }
   ],
   "source": [
    "# Use trained unigram taggers to tag sentence\n",
    "\n",
    "unigram_tagger.tag(nltk.corpus.brown.sents()[2])"
   ]
  },
  {
   "cell_type": "code",
   "execution_count": 229,
   "metadata": {
    "collapsed": false
   },
   "outputs": [
    {
     "data": {
      "text/plain": [
       "0.8771110352197239"
      ]
     },
     "execution_count": 229,
     "metadata": {},
     "output_type": "execute_result"
    }
   ],
   "source": [
    "# Look at accuracy score\n",
    "unigram_tagger.evaluate(test_set_sents)\n"
   ]
  },
  {
   "cell_type": "raw",
   "metadata": {},
   "source": [
    "To summarize:\n",
    "\n",
    "1. Get the tagged sents\n",
    "2. Training the unigram tagger: nltk.UnigramTagger(tagged_sents)\n",
    "3. Tag the article: tagger.tag(sent_to_be_tagged)\n",
    "4. Accuracy score: tagger.evaluate(tagged_sents)"
   ]
  },
  {
   "cell_type": "markdown",
   "metadata": {},
   "source": [
    "#### Let's combine multiple taggers"
   ]
  },
  {
   "cell_type": "code",
   "execution_count": 230,
   "metadata": {
    "collapsed": false
   },
   "outputs": [
    {
     "data": {
      "text/plain": [
       "0.9071034338404592"
      ]
     },
     "execution_count": 230,
     "metadata": {},
     "output_type": "execute_result"
    }
   ],
   "source": [
    "t0 = nltk.DefaultTagger('NN')\n",
    "t1 = nltk.UnigramTagger(training_set_sents, backoff=t0)\n",
    "t2 = nltk.BigramTagger(training_set_sents, backoff=t1)\n",
    "t2.evaluate(test_set_sents)"
   ]
  },
  {
   "cell_type": "markdown",
   "metadata": {},
   "source": [
    "As you can see combining different taggers together will improve accuracy score"
   ]
  },
  {
   "cell_type": "markdown",
   "metadata": {},
   "source": [
    "#### What if we add trigram?"
   ]
  },
  {
   "cell_type": "code",
   "execution_count": 231,
   "metadata": {
    "collapsed": false
   },
   "outputs": [
    {
     "data": {
      "text/plain": [
       "0.9009727562160554"
      ]
     },
     "execution_count": 231,
     "metadata": {},
     "output_type": "execute_result"
    }
   ],
   "source": [
    "t0 = nltk.DefaultTagger('NN')\n",
    "t1 = nltk.UnigramTagger(training_set_sents, backoff=t0)\n",
    "t2 = nltk.BigramTagger(training_set_sents, backoff=t1)\n",
    "t3 = nltk.TrigramTagger(training_set_sents, backoff=t1)\n",
    "t3.evaluate(test_set_sents)"
   ]
  },
  {
   "cell_type": "markdown",
   "metadata": {},
   "source": [
    "In this case trigram perform the same as bigram."
   ]
  },
  {
   "cell_type": "markdown",
   "metadata": {},
   "source": [
    "#### 15. ◑ Write programs to process the Brown Corpus and find answers to the following questions:\n",
    "\n",
    "1. Which nouns are more common in their plural form, rather than their singular form? (Only consider regular plurals, formed with the -s suffix.)\n",
    "2. Which word has the greatest number of distinct tags. What are they, and what do they represent?\n",
    "3. List tags in order of decreasing frequency. What do the 20 most frequent tags represent?\n",
    "4. Which tags are nouns most commonly found after? What do these tags represent?"
   ]
  },
  {
   "cell_type": "markdown",
   "metadata": {},
   "source": [
    "First get the tags for all words and see the most common ones:"
   ]
  },
  {
   "cell_type": "code",
   "execution_count": 232,
   "metadata": {
    "collapsed": false
   },
   "outputs": [
    {
     "data": {
      "text/plain": [
       "[(u'The', u'AT'),\n",
       " (u'Fulton', u'NP-TL'),\n",
       " (u'County', u'NN-TL'),\n",
       " (u'Grand', u'JJ-TL'),\n",
       " (u'Jury', u'NN-TL'),\n",
       " (u'said', u'VBD'),\n",
       " (u'Friday', u'NR'),\n",
       " (u'an', u'AT'),\n",
       " (u'investigation', u'NN'),\n",
       " (u'of', u'IN')]"
      ]
     },
     "execution_count": 232,
     "metadata": {},
     "output_type": "execute_result"
    }
   ],
   "source": [
    "word_tags = nltk.corpus.brown.tagged_words()\n",
    "word_tags[:10]"
   ]
  },
  {
   "cell_type": "code",
   "execution_count": 233,
   "metadata": {
    "collapsed": false
   },
   "outputs": [
    {
     "data": {
      "text/plain": [
       "[(u'NN', 152470),\n",
       " (u'IN', 120557),\n",
       " (u'AT', 97959),\n",
       " (u'JJ', 64028),\n",
       " (u'.', 60638),\n",
       " (u',', 58156),\n",
       " (u'NNS', 55110),\n",
       " (u'CC', 37718),\n",
       " (u'RB', 36464),\n",
       " (u'NP', 34476)]"
      ]
     },
     "execution_count": 233,
     "metadata": {},
     "output_type": "execute_result"
    }
   ],
   "source": [
    "tag_freq = nltk.FreqDist([tag for (word, tag) in word_tags])\n",
    "tag_most_common = tag_freq.most_common()\n",
    "tag_most_common[:10]"
   ]
  },
  {
   "cell_type": "code",
   "execution_count": 234,
   "metadata": {
    "collapsed": false
   },
   "outputs": [
    {
     "data": {
      "text/plain": [
       "nltk.collections.LazySubsequence"
      ]
     },
     "execution_count": 234,
     "metadata": {},
     "output_type": "execute_result"
    }
   ],
   "source": [
    "training_set_sents = nltk.corpus.brown.tagged_sents()[:train_size]\n",
    "test_set_sents = nltk.corpus.brown.tagged_sents()[train_size:]\n",
    "\n",
    "\n",
    "type(training_set_sents)\n"
   ]
  },
  {
   "cell_type": "code",
   "execution_count": 235,
   "metadata": {
    "collapsed": false
   },
   "outputs": [
    {
     "data": {
      "text/plain": [
       "[(u'The', u'AT'), (u'Fulton', u'NP-TL'), ...]"
      ]
     },
     "execution_count": 235,
     "metadata": {},
     "output_type": "execute_result"
    }
   ],
   "source": [
    "training_set_words = nltk.corpus.brown.tagged_words()[:train_size]\n",
    "test_set_sents = nltk.corpus.brown.tagged_sents()[train_size:]\n",
    "\n",
    "\n",
    "training_set_words[:100]"
   ]
  },
  {
   "cell_type": "code",
   "execution_count": 236,
   "metadata": {
    "collapsed": false
   },
   "outputs": [
    {
     "data": {
      "text/plain": [
       "nltk.collections.LazySubsequence"
      ]
     },
     "execution_count": 236,
     "metadata": {},
     "output_type": "execute_result"
    }
   ],
   "source": [
    "type(training_set_words)"
   ]
  },
  {
   "cell_type": "raw",
   "metadata": {},
   "source": [
    "Answer the first question:\n",
    "\n",
    "Which nouns are more common in their plural form, rather than their singular form? (Only consider regular plurals, formed with the -s suffix.)"
   ]
  },
  {
   "cell_type": "code",
   "execution_count": 260,
   "metadata": {
    "collapsed": false
   },
   "outputs": [],
   "source": [
    "word_tag_nn = [word for (word, tag) in \n",
    "               nltk.corpus.brown.tagged_words()\n",
    "               if tag == 'NN'\n",
    "               ]\n",
    "word_tag_nn_fd = nltk.FreqDist(word_tag_nn)"
   ]
  },
  {
   "cell_type": "code",
   "execution_count": 261,
   "metadata": {
    "collapsed": false
   },
   "outputs": [],
   "source": [
    "plural_singular = [word for word in word_tag_nn_fd.keys()\n",
    "                   if word_tag_nn_fd[word] < word_tag_nn_fd[word+'s']]"
   ]
  },
  {
   "cell_type": "code",
   "execution_count": 266,
   "metadata": {
    "collapsed": false,
    "scrolled": true
   },
   "outputs": [
    {
     "data": {
      "text/plain": [
       "[u'ethic', u'metaphysic', u'barrack', u'mean', u'bicep', u'headquarter']"
      ]
     },
     "execution_count": 266,
     "metadata": {},
     "output_type": "execute_result"
    }
   ],
   "source": [
    "plural_singular"
   ]
  },
  {
   "cell_type": "markdown",
   "metadata": {},
   "source": [
    "Let's check the results:"
   ]
  },
  {
   "cell_type": "code",
   "execution_count": 267,
   "metadata": {
    "collapsed": false
   },
   "outputs": [
    {
     "data": {
      "text/plain": [
       "4"
      ]
     },
     "execution_count": 267,
     "metadata": {},
     "output_type": "execute_result"
    }
   ],
   "source": [
    "word_tag_nn_fd['ethic']"
   ]
  },
  {
   "cell_type": "code",
   "execution_count": 268,
   "metadata": {
    "collapsed": false
   },
   "outputs": [
    {
     "data": {
      "text/plain": [
       "6"
      ]
     },
     "execution_count": 268,
     "metadata": {},
     "output_type": "execute_result"
    }
   ],
   "source": [
    "word_tag_nn_fd['ethics']"
   ]
  },
  {
   "cell_type": "code",
   "execution_count": 269,
   "metadata": {
    "collapsed": false
   },
   "outputs": [
    {
     "name": "stdout",
     "output_type": "stream",
     "text": [
      "12 74\n"
     ]
    }
   ],
   "source": [
    "print word_tag_nn_fd['mean'], word_tag_nn_fd['means']"
   ]
  },
  {
   "cell_type": "raw",
   "metadata": {},
   "source": [
    "Second question:\n",
    "\n",
    "Which word has the greatest number of distinct tags. What are they, and what do they represent?"
   ]
  },
  {
   "cell_type": "code",
   "execution_count": 273,
   "metadata": {
    "collapsed": false
   },
   "outputs": [],
   "source": [
    "distinct_word_tag = set([(word, tag) for (word, tag) in\n",
    "                         nltk.corpus.brown.tagged_words()\n",
    "                        ])\n"
   ]
  },
  {
   "cell_type": "code",
   "execution_count": 277,
   "metadata": {
    "collapsed": false
   },
   "outputs": [
    {
     "data": {
      "text/plain": [
       "[(u'that', 12), (u'A', 11), (u'in', 10), (u'to', 10), (u':', 9)]"
      ]
     },
     "execution_count": 277,
     "metadata": {},
     "output_type": "execute_result"
    }
   ],
   "source": [
    "distict_tags_per_word = [word for (word, tag) in distinct_word_tag]\n",
    "distict_tags_per_word = nltk.FreqDist(distict_tags_per_word)\n",
    "distict_tags_per_word.most_common()[:5]"
   ]
  },
  {
   "cell_type": "markdown",
   "metadata": {},
   "source": [
    "It turns out that the word \"that\" has the most tags"
   ]
  },
  {
   "cell_type": "code",
   "execution_count": 280,
   "metadata": {
    "collapsed": false
   },
   "outputs": [
    {
     "data": {
      "text/plain": [
       "{u'CS',\n",
       " u'CS-HL',\n",
       " u'CS-NC',\n",
       " u'DT',\n",
       " u'DT-NC',\n",
       " u'NIL',\n",
       " u'QL',\n",
       " u'WPO',\n",
       " u'WPO-NC',\n",
       " u'WPS',\n",
       " u'WPS-HL',\n",
       " u'WPS-NC'}"
      ]
     },
     "execution_count": 280,
     "metadata": {},
     "output_type": "execute_result"
    }
   ],
   "source": [
    "tags_for_word_that = set([tag for (word, tag) in \n",
    "                          nltk.corpus.brown.tagged_words()\n",
    "                          if word == 'that'])\n",
    "tags_for_word_that"
   ]
  },
  {
   "cell_type": "markdown",
   "metadata": {},
   "source": [
    "Not sure what these means. Searched a few lists they don't have 'CS', 'WPO', etc.."
   ]
  },
  {
   "cell_type": "raw",
   "metadata": {},
   "source": [
    "The 3rd question:\n",
    "\n",
    "List tags in order of decreasing frequency. What do the 20 most frequent tags represent?"
   ]
  },
  {
   "cell_type": "code",
   "execution_count": 282,
   "metadata": {
    "collapsed": false
   },
   "outputs": [
    {
     "data": {
      "text/plain": [
       "[(u'NN', 152470),\n",
       " (u'IN', 120557),\n",
       " (u'AT', 97959),\n",
       " (u'JJ', 64028),\n",
       " (u'.', 60638),\n",
       " (u',', 58156),\n",
       " (u'NNS', 55110),\n",
       " (u'CC', 37718),\n",
       " (u'RB', 36464),\n",
       " (u'NP', 34476),\n",
       " (u'VB', 33693),\n",
       " (u'VBN', 29186),\n",
       " (u'VBD', 26167),\n",
       " (u'CS', 22143),\n",
       " (u'PPS', 18253),\n",
       " (u'VBG', 17893),\n",
       " (u'PP$', 16872),\n",
       " (u'TO', 14918),\n",
       " (u'PPSS', 13802),\n",
       " (u'CD', 13510)]"
      ]
     },
     "execution_count": 282,
     "metadata": {},
     "output_type": "execute_result"
    }
   ],
   "source": [
    "tags = [tag for (word, tag) in nltk.corpus.brown.tagged_words()]\n",
    "tag_freq = nltk.FreqDist(tags)\n",
    "tag_most_common = tag_freq.most_common()\n",
    "tag_most_common[:20]"
   ]
  },
  {
   "cell_type": "markdown",
   "metadata": {},
   "source": [
    "How about write this in one single statement?"
   ]
  },
  {
   "cell_type": "code",
   "execution_count": 283,
   "metadata": {
    "collapsed": false
   },
   "outputs": [
    {
     "data": {
      "text/plain": [
       "[(u'NN', 152470),\n",
       " (u'IN', 120557),\n",
       " (u'AT', 97959),\n",
       " (u'JJ', 64028),\n",
       " (u'.', 60638),\n",
       " (u',', 58156),\n",
       " (u'NNS', 55110),\n",
       " (u'CC', 37718),\n",
       " (u'RB', 36464),\n",
       " (u'NP', 34476),\n",
       " (u'VB', 33693),\n",
       " (u'VBN', 29186),\n",
       " (u'VBD', 26167),\n",
       " (u'CS', 22143),\n",
       " (u'PPS', 18253),\n",
       " (u'VBG', 17893),\n",
       " (u'PP$', 16872),\n",
       " (u'TO', 14918),\n",
       " (u'PPSS', 13802),\n",
       " (u'CD', 13510)]"
      ]
     },
     "execution_count": 283,
     "metadata": {},
     "output_type": "execute_result"
    }
   ],
   "source": [
    "nltk.FreqDist([tag for (word, tag) \n",
    "                          in nltk.corpus.brown.tagged_words()\n",
    "              ]).most_common()[:20]\n"
   ]
  },
  {
   "cell_type": "markdown",
   "metadata": {},
   "source": [
    "#### ◑ Write code to search the Brown Corpus for particular words and phrases according to tags, to answer the following questions:\n",
    "\n",
    "1. Produce an alphabetically sorted list of the distinct words tagged as MD.\n",
    "2. Identify words that can be plural nouns or third person singular verbs (e.g. deals, flies).\n",
    "3. Identify three-word prepositional phrases of the form IN + DET + NN (eg. in the lab).\n",
    "4. What is the ratio of masculine to feminine pronouns?"
   ]
  },
  {
   "cell_type": "raw",
   "metadata": {},
   "source": [
    "1st question:\n",
    "\n",
    "Produce an alphabetically sorted list of the distinct words tagged as MD."
   ]
  },
  {
   "cell_type": "code",
   "execution_count": 284,
   "metadata": {
    "collapsed": false
   },
   "outputs": [
    {
     "data": {
      "text/plain": [
       "[u'Can',\n",
       " u'Could',\n",
       " u'May',\n",
       " u'Might',\n",
       " u'Must',\n",
       " u'Ought',\n",
       " u'Shall',\n",
       " u'Should',\n",
       " u'Will',\n",
       " u'Would',\n",
       " u\"c'n\",\n",
       " u'can',\n",
       " u'colde',\n",
       " u'could',\n",
       " u'dare',\n",
       " u'kin',\n",
       " u'maht',\n",
       " u'mai',\n",
       " u'may',\n",
       " u'maye',\n",
       " u'mayst',\n",
       " u'might',\n",
       " u'must',\n",
       " u'need',\n",
       " u'ought',\n",
       " u'shall',\n",
       " u'should',\n",
       " u'shuld',\n",
       " u'shulde',\n",
       " u'wil',\n",
       " u'will',\n",
       " u'wilt',\n",
       " u'wod',\n",
       " u'wold',\n",
       " u'wolde',\n",
       " u'would']"
      ]
     },
     "execution_count": 284,
     "metadata": {},
     "output_type": "execute_result"
    }
   ],
   "source": [
    "sorted(set([word for (word, tag) \n",
    "            in nltk.corpus.brown.tagged_words()\n",
    "            if tag == 'MD']))"
   ]
  },
  {
   "cell_type": "raw",
   "metadata": {},
   "source": [
    "2nd question:\n",
    "\n",
    "Identify words that can be plural nouns or third person singular verbs (e.g. deals, flies)."
   ]
  },
  {
   "cell_type": "code",
   "execution_count": 314,
   "metadata": {
    "collapsed": true
   },
   "outputs": [],
   "source": [
    "unique_word_tag = set([(word, tag) for (word, tag)\n",
    "                       in nltk.corpus.brown.tagged_words()\n",
    "                       if word.endswith('s')])"
   ]
  },
  {
   "cell_type": "code",
   "execution_count": 327,
   "metadata": {
    "collapsed": false
   },
   "outputs": [
    {
     "data": {
      "text/plain": [
       "[u'VBZ', u'VBZ-HL', u'NNS']"
      ]
     },
     "execution_count": 327,
     "metadata": {},
     "output_type": "execute_result"
    }
   ],
   "source": [
    "x = {}\n",
    "for tup in unique_word_tag:\n",
    "    x.setdefault(tup[0], []).append(tup[1])\n",
    "x['flies'] # list one since the dict is too big"
   ]
  },
  {
   "cell_type": "code",
   "execution_count": 329,
   "metadata": {
    "collapsed": false
   },
   "outputs": [
    {
     "data": {
      "text/plain": [
       "[u'tires', u'kids', u'purges']"
      ]
     },
     "execution_count": 329,
     "metadata": {},
     "output_type": "execute_result"
    }
   ],
   "source": [
    "nns_vbz_words = [ele for ele in x \n",
    "                 if x[ele] == ['NNS', 'VBZ']]\n",
    "nns_vbz_words[:3]"
   ]
  },
  {
   "cell_type": "code",
   "execution_count": 332,
   "metadata": {
    "collapsed": false
   },
   "outputs": [
    {
     "data": {
      "text/plain": [
       "{(u'tires', u'NNS'), (u'tires', u'VBZ')}"
      ]
     },
     "execution_count": 332,
     "metadata": {},
     "output_type": "execute_result"
    }
   ],
   "source": [
    "# Let's test the resut with words we found\n",
    "set([(word, tag) for (word, tag) \n",
    "     in nltk.corpus.brown.tagged_words()\n",
    "     if word == 'tires'])"
   ]
  },
  {
   "cell_type": "raw",
   "metadata": {},
   "source": [
    "3rd question:\n",
    "\n",
    "Identify three-word prepositional phrases of the form IN + DET + NN (eg. in the lab)."
   ]
  },
  {
   "cell_type": "code",
   "execution_count": 343,
   "metadata": {
    "collapsed": false
   },
   "outputs": [
    {
     "ename": "SyntaxError",
     "evalue": "invalid syntax (<ipython-input-343-7a6fee3eedd3>, line 1)",
     "output_type": "error",
     "traceback": [
      "\u001b[0;36m  File \u001b[0;32m\"<ipython-input-343-7a6fee3eedd3>\"\u001b[0;36m, line \u001b[0;32m1\u001b[0m\n\u001b[0;31m    [w1, w2, w3 for (w1, t1), (w2, t2), (w3, t3)\u001b[0m\n\u001b[0m                  ^\u001b[0m\n\u001b[0;31mSyntaxError\u001b[0m\u001b[0;31m:\u001b[0m invalid syntax\n"
     ]
    }
   ],
   "source": [
    "[w1, w2, w3 for (w1, t1), (w2, t2), (w3, t3) \n",
    " in nltk.trigrams(nltk.corpus.brown.tagged_sents())\n",
    " if t1 == 'IN'\n",
    " if t2 == 'DET'\n",
    " if t3 == 'NN']"
   ]
  },
  {
   "cell_type": "code",
   "execution_count": 346,
   "metadata": {
    "collapsed": false
   },
   "outputs": [
    {
     "ename": "ValueError",
     "evalue": "too many values to unpack",
     "output_type": "error",
     "traceback": [
      "\u001b[0;31m---------------------------------------------------------------------------\u001b[0m",
      "\u001b[0;31mValueError\u001b[0m                                Traceback (most recent call last)",
      "\u001b[0;32m<ipython-input-346-580bf65a7d6a>\u001b[0m in \u001b[0;36m<module>\u001b[0;34m()\u001b[0m\n\u001b[0;32m----> 1\u001b[0;31m \u001b[0;32mfor\u001b[0m \u001b[0;34m(\u001b[0m\u001b[0mw1\u001b[0m\u001b[0;34m,\u001b[0m \u001b[0mt1\u001b[0m\u001b[0;34m)\u001b[0m\u001b[0;34m,\u001b[0m \u001b[0;34m(\u001b[0m\u001b[0mw2\u001b[0m\u001b[0;34m,\u001b[0m \u001b[0mt2\u001b[0m\u001b[0;34m)\u001b[0m\u001b[0;34m,\u001b[0m \u001b[0;34m(\u001b[0m\u001b[0mw3\u001b[0m\u001b[0;34m,\u001b[0m \u001b[0mt3\u001b[0m\u001b[0;34m)\u001b[0m \u001b[0;32min\u001b[0m \u001b[0mnltk\u001b[0m\u001b[0;34m.\u001b[0m\u001b[0mtrigrams\u001b[0m\u001b[0;34m(\u001b[0m\u001b[0mnltk\u001b[0m\u001b[0;34m.\u001b[0m\u001b[0mcorpus\u001b[0m\u001b[0;34m.\u001b[0m\u001b[0mbrown\u001b[0m\u001b[0;34m.\u001b[0m\u001b[0mtagged_sents\u001b[0m\u001b[0;34m(\u001b[0m\u001b[0;34m)\u001b[0m\u001b[0;34m)\u001b[0m\u001b[0;34m:\u001b[0m\u001b[0;34m\u001b[0m\u001b[0m\n\u001b[0m\u001b[1;32m      2\u001b[0m     \u001b[0;32mprint\u001b[0m \u001b[0mw1\u001b[0m\u001b[0;34m,\u001b[0m \u001b[0mw2\u001b[0m\u001b[0;34m,\u001b[0m \u001b[0mw3\u001b[0m\u001b[0;34m\u001b[0m\u001b[0m\n\u001b[1;32m      3\u001b[0m     \u001b[0;31m#if t1 == 'IN' and t2 == 'DET' and t3 == 'NN':\u001b[0m\u001b[0;34m\u001b[0m\u001b[0;34m\u001b[0m\u001b[0m\n\u001b[1;32m      4\u001b[0m         \u001b[0;31m# print w1, w2, w3\u001b[0m\u001b[0;34m\u001b[0m\u001b[0;34m\u001b[0m\u001b[0m\n",
      "\u001b[0;31mValueError\u001b[0m: too many values to unpack"
     ]
    }
   ],
   "source": [
    "for (w1, t1), (w2, t2), (w3, t3) in nltk.trigrams(nltk.corpus.brown.tagged_sents()):\n",
    "    print w1, w2, w3\n",
    "    #if t1 == 'IN' and t2 == 'DET' and t3 == 'NN':\n",
    "        # print w1, w2, w3"
   ]
  },
  {
   "cell_type": "code",
   "execution_count": null,
   "metadata": {
    "collapsed": true
   },
   "outputs": [],
   "source": []
  },
  {
   "cell_type": "code",
   "execution_count": null,
   "metadata": {
    "collapsed": true
   },
   "outputs": [],
   "source": []
  },
  {
   "cell_type": "code",
   "execution_count": null,
   "metadata": {
    "collapsed": true
   },
   "outputs": [],
   "source": []
  },
  {
   "cell_type": "code",
   "execution_count": null,
   "metadata": {
    "collapsed": true
   },
   "outputs": [],
   "source": []
  },
  {
   "cell_type": "code",
   "execution_count": null,
   "metadata": {
    "collapsed": true
   },
   "outputs": [],
   "source": []
  },
  {
   "cell_type": "code",
   "execution_count": null,
   "metadata": {
    "collapsed": true
   },
   "outputs": [],
   "source": []
  },
  {
   "cell_type": "code",
   "execution_count": null,
   "metadata": {
    "collapsed": true
   },
   "outputs": [],
   "source": []
  },
  {
   "cell_type": "code",
   "execution_count": null,
   "metadata": {
    "collapsed": true
   },
   "outputs": [],
   "source": []
  }
 ],
 "metadata": {
  "kernelspec": {
   "display_name": "Python 2",
   "language": "python",
   "name": "python2"
  },
  "language_info": {
   "codemirror_mode": {
    "name": "ipython",
    "version": 2
   },
   "file_extension": ".py",
   "mimetype": "text/x-python",
   "name": "python",
   "nbconvert_exporter": "python",
   "pygments_lexer": "ipython2",
   "version": "2.7.13"
  }
 },
 "nbformat": 4,
 "nbformat_minor": 2
}
