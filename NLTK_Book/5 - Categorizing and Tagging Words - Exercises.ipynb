{
 "cells": [
  {
   "cell_type": "code",
   "execution_count": 347,
   "metadata": {
    "collapsed": true
   },
   "outputs": [],
   "source": [
    "import nltk\n",
    "from nltk import word_tokenize\n",
    "from nltk import FreqDist # need this to access \"most_common\" method\n",
    "\n",
    "import urllib2\n",
    "\n",
    "from IPython.display import Image\n",
    "\n",
    "import re\n",
    "\n",
    "import random\n",
    "\n",
    "import numpy as np\n",
    "\n",
    "from __future__  import division"
   ]
  },
  {
   "cell_type": "markdown",
   "metadata": {},
   "source": [
    "Penn POS Tags:\n",
    "\n",
    "https://cs.nyu.edu/grishman/jet/guide/PennPOS.html"
   ]
  },
  {
   "cell_type": "markdown",
   "metadata": {},
   "source": [
    "#### 1. ☼ Search the web for \"spoof newspaper headlines\", to find such gems as: British Left Waffles on Falkland Islands, and Juvenile Court to Try Shooting Defendant. Manually tag these headlines to see if knowledge of the part-of-speech tags removes the ambiguity."
   ]
  },
  {
   "cell_type": "code",
   "execution_count": 348,
   "metadata": {
    "collapsed": false
   },
   "outputs": [
    {
     "data": {
      "text/plain": [
       "[('British', 'JJ'),\n",
       " ('Left', 'NNP'),\n",
       " ('Waffles', 'NNP'),\n",
       " ('on', 'IN'),\n",
       " ('Falkland', 'NNP'),\n",
       " ('Islands', 'NNP')]"
      ]
     },
     "execution_count": 348,
     "metadata": {},
     "output_type": "execute_result"
    }
   ],
   "source": [
    "sent1 = \"British Left Waffles on Falkland Islands\"\n",
    "tokens1 = nltk.word_tokenize(sent1)\n",
    "nltk.pos_tag(tokens1)"
   ]
  },
  {
   "cell_type": "code",
   "execution_count": 349,
   "metadata": {
    "collapsed": false
   },
   "outputs": [
    {
     "data": {
      "text/plain": [
       "[('Juvenile', 'NNP'),\n",
       " ('Court', 'NNP'),\n",
       " ('to', 'TO'),\n",
       " ('Try', 'VB'),\n",
       " ('Shooting', 'NNP'),\n",
       " ('Defendant', 'NNP')]"
      ]
     },
     "execution_count": 349,
     "metadata": {},
     "output_type": "execute_result"
    }
   ],
   "source": [
    "sent2 = \"Juvenile Court to Try Shooting Defendant\"\n",
    "tokens2 = nltk.word_tokenize(sent2)\n",
    "nltk.pos_tag(tokens2)"
   ]
  },
  {
   "cell_type": "markdown",
   "metadata": {},
   "source": [
    "The POS tagging did NOT remove the ambiguity."
   ]
  },
  {
   "cell_type": "markdown",
   "metadata": {},
   "source": [
    "#### 3. ☼ Tokenize and tag the following sentence: They wind back the clock, while we chase after the wind. What different pronunciations and parts of speech are involved?"
   ]
  },
  {
   "cell_type": "code",
   "execution_count": 350,
   "metadata": {
    "collapsed": false
   },
   "outputs": [
    {
     "data": {
      "text/plain": [
       "[('They', 'PRP'),\n",
       " ('wind', 'VBP'),\n",
       " ('back', 'RB'),\n",
       " ('the', 'DT'),\n",
       " ('clock', 'NN'),\n",
       " (',', ','),\n",
       " ('while', 'IN'),\n",
       " ('we', 'PRP'),\n",
       " ('chase', 'VBP'),\n",
       " ('after', 'IN'),\n",
       " ('the', 'DT'),\n",
       " ('wind', 'NN')]"
      ]
     },
     "execution_count": 350,
     "metadata": {},
     "output_type": "execute_result"
    }
   ],
   "source": [
    "sent = \"They wind back the clock, while we chase after the wind\"\n",
    "tokens = nltk.word_tokenize(sent)\n",
    "nltk.pos_tag(tokens)"
   ]
  },
  {
   "cell_type": "markdown",
   "metadata": {},
   "source": [
    "Different part of speech: PRP, VBP, RB, DT, NN, IN."
   ]
  },
  {
   "cell_type": "raw",
   "metadata": {},
   "source": [
    "PRP: Personal Pronoun\n",
    "VBP: Verb, non-3rd person singular present\n",
    "RB : Adverb\n",
    "DT : Determiner\n",
    "NN : Noun, singular or mass\n",
    "IN : Preposition or subordinating conjunction"
   ]
  },
  {
   "cell_type": "markdown",
   "metadata": {},
   "source": [
    "#### 5. ☼ Using the Python interpreter in interactive mode, experiment with the dictionary examples in this chapter. Create a dictionary d, and add some entries. What happens if you try to access a non-existent entry, e.g. d['xyz']?"
   ]
  },
  {
   "cell_type": "code",
   "execution_count": 351,
   "metadata": {
    "collapsed": false
   },
   "outputs": [
    {
     "data": {
      "text/plain": [
       "{}"
      ]
     },
     "execution_count": 351,
     "metadata": {},
     "output_type": "execute_result"
    }
   ],
   "source": [
    "dict1 = dict()# or {}\n",
    "dict1"
   ]
  },
  {
   "cell_type": "code",
   "execution_count": 352,
   "metadata": {
    "collapsed": false
   },
   "outputs": [
    {
     "data": {
      "text/plain": [
       "{'a': 1, 'b': 2}"
      ]
     },
     "execution_count": 352,
     "metadata": {},
     "output_type": "execute_result"
    }
   ],
   "source": [
    "dict1['a'] = 1\n",
    "dict1['b'] = 2\n",
    "dict1"
   ]
  },
  {
   "cell_type": "code",
   "execution_count": 353,
   "metadata": {
    "collapsed": false
   },
   "outputs": [
    {
     "name": "stdout",
     "output_type": "stream",
     "text": [
      "Key not found\n"
     ]
    }
   ],
   "source": [
    "try:\n",
    "    dict1['xyz']\n",
    "except KeyError:\n",
    "    print \"Key not found\""
   ]
  },
  {
   "cell_type": "markdown",
   "metadata": {},
   "source": [
    "Now let's do default dictionaries:"
   ]
  },
  {
   "cell_type": "code",
   "execution_count": 354,
   "metadata": {
    "collapsed": false
   },
   "outputs": [
    {
     "data": {
      "text/plain": [
       "defaultdict(int, {'a': 1, 'b': 2})"
      ]
     },
     "execution_count": 354,
     "metadata": {},
     "output_type": "execute_result"
    }
   ],
   "source": [
    "from collections import defaultdict\n",
    "\n",
    "dict2 = defaultdict(int)\n",
    "dict2['a'] = 1\n",
    "dict2['b'] = 2\n",
    "dict2"
   ]
  },
  {
   "cell_type": "code",
   "execution_count": 355,
   "metadata": {
    "collapsed": false
   },
   "outputs": [
    {
     "name": "stdout",
     "output_type": "stream",
     "text": [
      "0\n"
     ]
    }
   ],
   "source": [
    "try:\n",
    "    print dict2['xyz']\n",
    "except KeyError:\n",
    "    print \"Key not found\""
   ]
  },
  {
   "cell_type": "markdown",
   "metadata": {},
   "source": [
    "#### 6. ☼ Try deleting an element from a dictionary d, using the syntax del d['abc']. Check that the item was deleted."
   ]
  },
  {
   "cell_type": "code",
   "execution_count": 356,
   "metadata": {
    "collapsed": false
   },
   "outputs": [
    {
     "data": {
      "text/plain": [
       "{'a': 1, 'b': 2}"
      ]
     },
     "execution_count": 356,
     "metadata": {},
     "output_type": "execute_result"
    }
   ],
   "source": [
    "dict1"
   ]
  },
  {
   "cell_type": "code",
   "execution_count": 357,
   "metadata": {
    "collapsed": true
   },
   "outputs": [],
   "source": [
    "del dict1['a']"
   ]
  },
  {
   "cell_type": "code",
   "execution_count": 358,
   "metadata": {
    "collapsed": false
   },
   "outputs": [
    {
     "data": {
      "text/plain": [
       "{'b': 2}"
      ]
     },
     "execution_count": 358,
     "metadata": {},
     "output_type": "execute_result"
    }
   ],
   "source": [
    "dict1"
   ]
  },
  {
   "cell_type": "markdown",
   "metadata": {},
   "source": [
    "Interesting to see how to delete element from dict."
   ]
  },
  {
   "cell_type": "markdown",
   "metadata": {},
   "source": [
    "#### 7. ☼ Create two dictionaries, d1 and d2, and add some entries to each. Now issue the command d1.update(d2). What did this do? What might it be useful for?"
   ]
  },
  {
   "cell_type": "code",
   "execution_count": 359,
   "metadata": {
    "collapsed": false
   },
   "outputs": [
    {
     "data": {
      "text/plain": [
       "{'a': [1, 2, 3], 'b': 'interesting', 'c': {'vvv': 2, 'zzz': 1}}"
      ]
     },
     "execution_count": 359,
     "metadata": {},
     "output_type": "execute_result"
    }
   ],
   "source": [
    "d1 = {'a':[1,2,3], 'b':'interesting', 'c':{'zzz':1, 'vvv':2}}\n",
    "d1"
   ]
  },
  {
   "cell_type": "code",
   "execution_count": 360,
   "metadata": {
    "collapsed": true
   },
   "outputs": [],
   "source": [
    "d2 = {'ggg':2, 'that':'this'}"
   ]
  },
  {
   "cell_type": "code",
   "execution_count": 361,
   "metadata": {
    "collapsed": false
   },
   "outputs": [
    {
     "data": {
      "text/plain": [
       "{'a': [1, 2, 3],\n",
       " 'b': 'interesting',\n",
       " 'c': {'vvv': 2, 'zzz': 1},\n",
       " 'ggg': 2,\n",
       " 'that': 'this'}"
      ]
     },
     "execution_count": 361,
     "metadata": {},
     "output_type": "execute_result"
    }
   ],
   "source": [
    "d1.update(d2)\n",
    "d1"
   ]
  },
  {
   "cell_type": "code",
   "execution_count": 362,
   "metadata": {
    "collapsed": false
   },
   "outputs": [
    {
     "data": {
      "text/plain": [
       "{'ggg': 2, 'that': 'this'}"
      ]
     },
     "execution_count": 362,
     "metadata": {},
     "output_type": "execute_result"
    }
   ],
   "source": [
    "d2"
   ]
  },
  {
   "cell_type": "markdown",
   "metadata": {},
   "source": [
    "\"d1.update(variable)\" is used to add element to dictionaries. Here we update d1 using d2 basically add all element from d2 to d1."
   ]
  },
  {
   "cell_type": "markdown",
   "metadata": {},
   "source": [
    "#### 10. ☼ Train a unigram tagger and run it on some new text. Observe that some words are not assigned a tag. Why not?"
   ]
  },
  {
   "cell_type": "code",
   "execution_count": 363,
   "metadata": {
    "collapsed": false
   },
   "outputs": [],
   "source": [
    "length = len(nltk.corpus.brown.tagged_sents())\n",
    "train_size = int(length*0.8)\n",
    "test_size = int(length*0.2)"
   ]
  },
  {
   "cell_type": "code",
   "execution_count": 364,
   "metadata": {
    "collapsed": false
   },
   "outputs": [
    {
     "data": {
      "text/plain": [
       "45872"
      ]
     },
     "execution_count": 364,
     "metadata": {},
     "output_type": "execute_result"
    }
   ],
   "source": [
    "# make sure use \"int()\" to make it integers. \n",
    "train_size"
   ]
  },
  {
   "cell_type": "code",
   "execution_count": 365,
   "metadata": {
    "collapsed": false
   },
   "outputs": [
    {
     "data": {
      "text/plain": [
       "[(u'The', u'AT'),\n",
       " (u'Fulton', u'NP-TL'),\n",
       " (u'County', u'NN-TL'),\n",
       " (u'Grand', u'JJ-TL'),\n",
       " (u'Jury', u'NN-TL'),\n",
       " (u'said', u'VBD'),\n",
       " (u'Friday', u'NR'),\n",
       " (u'an', u'AT'),\n",
       " (u'investigation', u'NN'),\n",
       " (u'of', u'IN'),\n",
       " (u\"Atlanta's\", u'NP$'),\n",
       " (u'recent', u'JJ'),\n",
       " (u'primary', u'NN'),\n",
       " (u'election', u'NN'),\n",
       " (u'produced', u'VBD'),\n",
       " (u'``', u'``'),\n",
       " (u'no', u'AT'),\n",
       " (u'evidence', u'NN'),\n",
       " (u\"''\", u\"''\"),\n",
       " (u'that', u'CS'),\n",
       " (u'any', u'DTI'),\n",
       " (u'irregularities', u'NNS'),\n",
       " (u'took', u'VBD'),\n",
       " (u'place', u'NN'),\n",
       " (u'.', u'.')]"
      ]
     },
     "execution_count": 365,
     "metadata": {},
     "output_type": "execute_result"
    }
   ],
   "source": [
    "training_set_sents = nltk.corpus.brown.tagged_sents()[:train_size]\n",
    "test_set_sents = nltk.corpus.brown.tagged_sents()[train_size:]\n",
    "\n",
    "\n",
    "training_set_sents[0]\n"
   ]
  },
  {
   "cell_type": "code",
   "execution_count": 366,
   "metadata": {
    "collapsed": false
   },
   "outputs": [
    {
     "data": {
      "text/plain": [
       "<UnigramTagger: size=51461>"
      ]
     },
     "execution_count": 366,
     "metadata": {},
     "output_type": "execute_result"
    }
   ],
   "source": [
    "# train unigram taggers\n",
    "unigram_tagger = nltk.UnigramTagger(training_set_sents)\n",
    "unigram_tagger"
   ]
  },
  {
   "cell_type": "code",
   "execution_count": 367,
   "metadata": {
    "collapsed": false
   },
   "outputs": [
    {
     "data": {
      "text/plain": [
       "[(u'The', u'AT'),\n",
       " (u'September-October', u'NP'),\n",
       " (u'term', u'NN'),\n",
       " (u'jury', u'NN'),\n",
       " (u'had', u'HVD'),\n",
       " (u'been', u'BEN'),\n",
       " (u'charged', u'VBN'),\n",
       " (u'by', u'IN'),\n",
       " (u'Fulton', u'NP-TL'),\n",
       " (u'Superior', u'JJ-TL'),\n",
       " (u'Court', u'NN-TL'),\n",
       " (u'Judge', u'NN-TL'),\n",
       " (u'Durwood', u'NP'),\n",
       " (u'Pye', u'NP'),\n",
       " (u'to', u'TO'),\n",
       " (u'investigate', u'VB'),\n",
       " (u'reports', u'NNS'),\n",
       " (u'of', u'IN'),\n",
       " (u'possible', u'JJ'),\n",
       " (u'``', u'``'),\n",
       " (u'irregularities', u'NNS'),\n",
       " (u\"''\", u\"''\"),\n",
       " (u'in', u'IN'),\n",
       " (u'the', u'AT'),\n",
       " (u'hard-fought', u'JJ'),\n",
       " (u'primary', u'JJ'),\n",
       " (u'which', u'WDT'),\n",
       " (u'was', u'BEDZ'),\n",
       " (u'won', u'VBD'),\n",
       " (u'by', u'IN'),\n",
       " (u'Mayor-nominate', u'NN-TL'),\n",
       " (u'Ivan', u'NP'),\n",
       " (u'Allen', u'NP'),\n",
       " (u'Jr.', u'NP'),\n",
       " (u'.', u'.')]"
      ]
     },
     "execution_count": 367,
     "metadata": {},
     "output_type": "execute_result"
    }
   ],
   "source": [
    "# Use trained unigram taggers to tag sentence\n",
    "\n",
    "unigram_tagger.tag(nltk.corpus.brown.sents()[2])"
   ]
  },
  {
   "cell_type": "code",
   "execution_count": 368,
   "metadata": {
    "collapsed": false
   },
   "outputs": [
    {
     "data": {
      "text/plain": [
       "0.8771110352197239"
      ]
     },
     "execution_count": 368,
     "metadata": {},
     "output_type": "execute_result"
    }
   ],
   "source": [
    "# Look at accuracy score\n",
    "unigram_tagger.evaluate(test_set_sents)\n"
   ]
  },
  {
   "cell_type": "raw",
   "metadata": {},
   "source": [
    "To summarize:\n",
    "\n",
    "1. Get the tagged sents\n",
    "2. Training the unigram tagger: nltk.UnigramTagger(tagged_sents)\n",
    "3. Tag the article: tagger.tag(sent_to_be_tagged)\n",
    "4. Accuracy score: tagger.evaluate(tagged_sents)"
   ]
  },
  {
   "cell_type": "markdown",
   "metadata": {},
   "source": [
    "#### Let's combine multiple taggers"
   ]
  },
  {
   "cell_type": "code",
   "execution_count": 369,
   "metadata": {
    "collapsed": false
   },
   "outputs": [
    {
     "data": {
      "text/plain": [
       "0.9071034338404592"
      ]
     },
     "execution_count": 369,
     "metadata": {},
     "output_type": "execute_result"
    }
   ],
   "source": [
    "t0 = nltk.DefaultTagger('NN')\n",
    "t1 = nltk.UnigramTagger(training_set_sents, backoff=t0)\n",
    "t2 = nltk.BigramTagger(training_set_sents, backoff=t1)\n",
    "t2.evaluate(test_set_sents)"
   ]
  },
  {
   "cell_type": "markdown",
   "metadata": {},
   "source": [
    "As you can see combining different taggers together will improve accuracy score"
   ]
  },
  {
   "cell_type": "markdown",
   "metadata": {},
   "source": [
    "#### What if we add trigram?"
   ]
  },
  {
   "cell_type": "code",
   "execution_count": 370,
   "metadata": {
    "collapsed": false
   },
   "outputs": [
    {
     "data": {
      "text/plain": [
       "0.9009727562160554"
      ]
     },
     "execution_count": 370,
     "metadata": {},
     "output_type": "execute_result"
    }
   ],
   "source": [
    "t0 = nltk.DefaultTagger('NN')\n",
    "t1 = nltk.UnigramTagger(training_set_sents, backoff=t0)\n",
    "t2 = nltk.BigramTagger(training_set_sents, backoff=t1)\n",
    "t3 = nltk.TrigramTagger(training_set_sents, backoff=t1)\n",
    "t3.evaluate(test_set_sents)"
   ]
  },
  {
   "cell_type": "markdown",
   "metadata": {},
   "source": [
    "In this case trigram perform the same as bigram."
   ]
  },
  {
   "cell_type": "markdown",
   "metadata": {},
   "source": [
    "#### 15. ◑ Write programs to process the Brown Corpus and find answers to the following questions:\n",
    "\n",
    "1. Which nouns are more common in their plural form, rather than their singular form? (Only consider regular plurals, formed with the -s suffix.)\n",
    "2. Which word has the greatest number of distinct tags. What are they, and what do they represent?\n",
    "3. List tags in order of decreasing frequency. What do the 20 most frequent tags represent?\n",
    "4. Which tags are nouns most commonly found after? What do these tags represent?"
   ]
  },
  {
   "cell_type": "markdown",
   "metadata": {},
   "source": [
    "First get the tags for all words and see the most common ones:"
   ]
  },
  {
   "cell_type": "code",
   "execution_count": 371,
   "metadata": {
    "collapsed": false
   },
   "outputs": [
    {
     "data": {
      "text/plain": [
       "[(u'The', u'AT'),\n",
       " (u'Fulton', u'NP-TL'),\n",
       " (u'County', u'NN-TL'),\n",
       " (u'Grand', u'JJ-TL'),\n",
       " (u'Jury', u'NN-TL'),\n",
       " (u'said', u'VBD'),\n",
       " (u'Friday', u'NR'),\n",
       " (u'an', u'AT'),\n",
       " (u'investigation', u'NN'),\n",
       " (u'of', u'IN')]"
      ]
     },
     "execution_count": 371,
     "metadata": {},
     "output_type": "execute_result"
    }
   ],
   "source": [
    "word_tags = nltk.corpus.brown.tagged_words()\n",
    "word_tags[:10]"
   ]
  },
  {
   "cell_type": "code",
   "execution_count": 372,
   "metadata": {
    "collapsed": false
   },
   "outputs": [
    {
     "data": {
      "text/plain": [
       "[(u'NN', 152470),\n",
       " (u'IN', 120557),\n",
       " (u'AT', 97959),\n",
       " (u'JJ', 64028),\n",
       " (u'.', 60638),\n",
       " (u',', 58156),\n",
       " (u'NNS', 55110),\n",
       " (u'CC', 37718),\n",
       " (u'RB', 36464),\n",
       " (u'NP', 34476)]"
      ]
     },
     "execution_count": 372,
     "metadata": {},
     "output_type": "execute_result"
    }
   ],
   "source": [
    "tag_freq = nltk.FreqDist([tag for (word, tag) in word_tags])\n",
    "tag_most_common = tag_freq.most_common()\n",
    "tag_most_common[:10]"
   ]
  },
  {
   "cell_type": "code",
   "execution_count": 373,
   "metadata": {
    "collapsed": false
   },
   "outputs": [
    {
     "data": {
      "text/plain": [
       "nltk.collections.LazySubsequence"
      ]
     },
     "execution_count": 373,
     "metadata": {},
     "output_type": "execute_result"
    }
   ],
   "source": [
    "training_set_sents = nltk.corpus.brown.tagged_sents()[:train_size]\n",
    "test_set_sents = nltk.corpus.brown.tagged_sents()[train_size:]\n",
    "\n",
    "\n",
    "type(training_set_sents)\n"
   ]
  },
  {
   "cell_type": "code",
   "execution_count": 374,
   "metadata": {
    "collapsed": false
   },
   "outputs": [
    {
     "data": {
      "text/plain": [
       "[(u'The', u'AT'), (u'Fulton', u'NP-TL'), ...]"
      ]
     },
     "execution_count": 374,
     "metadata": {},
     "output_type": "execute_result"
    }
   ],
   "source": [
    "training_set_words = nltk.corpus.brown.tagged_words()[:train_size]\n",
    "test_set_sents = nltk.corpus.brown.tagged_sents()[train_size:]\n",
    "\n",
    "\n",
    "training_set_words[:100]"
   ]
  },
  {
   "cell_type": "code",
   "execution_count": 375,
   "metadata": {
    "collapsed": false
   },
   "outputs": [
    {
     "data": {
      "text/plain": [
       "nltk.collections.LazySubsequence"
      ]
     },
     "execution_count": 375,
     "metadata": {},
     "output_type": "execute_result"
    }
   ],
   "source": [
    "type(training_set_words)"
   ]
  },
  {
   "cell_type": "raw",
   "metadata": {},
   "source": [
    "Answer the first question:\n",
    "\n",
    "Which nouns are more common in their plural form, rather than their singular form? (Only consider regular plurals, formed with the -s suffix.)"
   ]
  },
  {
   "cell_type": "code",
   "execution_count": 376,
   "metadata": {
    "collapsed": false
   },
   "outputs": [],
   "source": [
    "word_tag_nn = [word for (word, tag) in \n",
    "               nltk.corpus.brown.tagged_words()\n",
    "               if tag == 'NN'\n",
    "               ]\n",
    "word_tag_nn_fd = nltk.FreqDist(word_tag_nn)"
   ]
  },
  {
   "cell_type": "code",
   "execution_count": 377,
   "metadata": {
    "collapsed": false
   },
   "outputs": [],
   "source": [
    "plural_singular = [word for word in word_tag_nn_fd.keys()\n",
    "                   if word_tag_nn_fd[word] < word_tag_nn_fd[word+'s']]"
   ]
  },
  {
   "cell_type": "code",
   "execution_count": 378,
   "metadata": {
    "collapsed": false,
    "scrolled": true
   },
   "outputs": [
    {
     "data": {
      "text/plain": [
       "[u'ethic', u'metaphysic', u'barrack', u'mean', u'bicep', u'headquarter']"
      ]
     },
     "execution_count": 378,
     "metadata": {},
     "output_type": "execute_result"
    }
   ],
   "source": [
    "plural_singular"
   ]
  },
  {
   "cell_type": "markdown",
   "metadata": {},
   "source": [
    "Let's check the results:"
   ]
  },
  {
   "cell_type": "code",
   "execution_count": 379,
   "metadata": {
    "collapsed": false
   },
   "outputs": [
    {
     "data": {
      "text/plain": [
       "4"
      ]
     },
     "execution_count": 379,
     "metadata": {},
     "output_type": "execute_result"
    }
   ],
   "source": [
    "word_tag_nn_fd['ethic']"
   ]
  },
  {
   "cell_type": "code",
   "execution_count": 380,
   "metadata": {
    "collapsed": false
   },
   "outputs": [
    {
     "data": {
      "text/plain": [
       "6"
      ]
     },
     "execution_count": 380,
     "metadata": {},
     "output_type": "execute_result"
    }
   ],
   "source": [
    "word_tag_nn_fd['ethics']"
   ]
  },
  {
   "cell_type": "code",
   "execution_count": 381,
   "metadata": {
    "collapsed": false
   },
   "outputs": [
    {
     "name": "stdout",
     "output_type": "stream",
     "text": [
      "12 74\n"
     ]
    }
   ],
   "source": [
    "print word_tag_nn_fd['mean'], word_tag_nn_fd['means']"
   ]
  },
  {
   "cell_type": "raw",
   "metadata": {},
   "source": [
    "Second question:\n",
    "\n",
    "Which word has the greatest number of distinct tags. What are they, and what do they represent?"
   ]
  },
  {
   "cell_type": "code",
   "execution_count": 382,
   "metadata": {
    "collapsed": false
   },
   "outputs": [],
   "source": [
    "distinct_word_tag = set([(word, tag) for (word, tag) in\n",
    "                         nltk.corpus.brown.tagged_words()\n",
    "                        ])\n"
   ]
  },
  {
   "cell_type": "code",
   "execution_count": 383,
   "metadata": {
    "collapsed": false
   },
   "outputs": [
    {
     "data": {
      "text/plain": [
       "[(u'that', 12), (u'A', 11), (u'in', 10), (u'to', 10), (u':', 9)]"
      ]
     },
     "execution_count": 383,
     "metadata": {},
     "output_type": "execute_result"
    }
   ],
   "source": [
    "distict_tags_per_word = [word for (word, tag) in distinct_word_tag]\n",
    "distict_tags_per_word = nltk.FreqDist(distict_tags_per_word)\n",
    "distict_tags_per_word.most_common()[:5]"
   ]
  },
  {
   "cell_type": "markdown",
   "metadata": {},
   "source": [
    "It turns out that the word \"that\" has the most tags"
   ]
  },
  {
   "cell_type": "code",
   "execution_count": 384,
   "metadata": {
    "collapsed": false
   },
   "outputs": [
    {
     "data": {
      "text/plain": [
       "{u'CS',\n",
       " u'CS-HL',\n",
       " u'CS-NC',\n",
       " u'DT',\n",
       " u'DT-NC',\n",
       " u'NIL',\n",
       " u'QL',\n",
       " u'WPO',\n",
       " u'WPO-NC',\n",
       " u'WPS',\n",
       " u'WPS-HL',\n",
       " u'WPS-NC'}"
      ]
     },
     "execution_count": 384,
     "metadata": {},
     "output_type": "execute_result"
    }
   ],
   "source": [
    "tags_for_word_that = set([tag for (word, tag) in \n",
    "                          nltk.corpus.brown.tagged_words()\n",
    "                          if word == 'that'])\n",
    "tags_for_word_that"
   ]
  },
  {
   "cell_type": "markdown",
   "metadata": {},
   "source": [
    "Not sure what these means. Searched a few lists they don't have 'CS', 'WPO', etc.."
   ]
  },
  {
   "cell_type": "raw",
   "metadata": {},
   "source": [
    "The 3rd question:\n",
    "\n",
    "List tags in order of decreasing frequency. What do the 20 most frequent tags represent?"
   ]
  },
  {
   "cell_type": "code",
   "execution_count": 385,
   "metadata": {
    "collapsed": false
   },
   "outputs": [
    {
     "data": {
      "text/plain": [
       "[(u'NN', 152470),\n",
       " (u'IN', 120557),\n",
       " (u'AT', 97959),\n",
       " (u'JJ', 64028),\n",
       " (u'.', 60638),\n",
       " (u',', 58156),\n",
       " (u'NNS', 55110),\n",
       " (u'CC', 37718),\n",
       " (u'RB', 36464),\n",
       " (u'NP', 34476),\n",
       " (u'VB', 33693),\n",
       " (u'VBN', 29186),\n",
       " (u'VBD', 26167),\n",
       " (u'CS', 22143),\n",
       " (u'PPS', 18253),\n",
       " (u'VBG', 17893),\n",
       " (u'PP$', 16872),\n",
       " (u'TO', 14918),\n",
       " (u'PPSS', 13802),\n",
       " (u'CD', 13510)]"
      ]
     },
     "execution_count": 385,
     "metadata": {},
     "output_type": "execute_result"
    }
   ],
   "source": [
    "tags = [tag for (word, tag) in nltk.corpus.brown.tagged_words()]\n",
    "tag_freq = nltk.FreqDist(tags)\n",
    "tag_most_common = tag_freq.most_common()\n",
    "tag_most_common[:20]"
   ]
  },
  {
   "cell_type": "markdown",
   "metadata": {},
   "source": [
    "How about write this in one single statement?"
   ]
  },
  {
   "cell_type": "code",
   "execution_count": 386,
   "metadata": {
    "collapsed": false
   },
   "outputs": [
    {
     "data": {
      "text/plain": [
       "[(u'NN', 152470),\n",
       " (u'IN', 120557),\n",
       " (u'AT', 97959),\n",
       " (u'JJ', 64028),\n",
       " (u'.', 60638),\n",
       " (u',', 58156),\n",
       " (u'NNS', 55110),\n",
       " (u'CC', 37718),\n",
       " (u'RB', 36464),\n",
       " (u'NP', 34476),\n",
       " (u'VB', 33693),\n",
       " (u'VBN', 29186),\n",
       " (u'VBD', 26167),\n",
       " (u'CS', 22143),\n",
       " (u'PPS', 18253),\n",
       " (u'VBG', 17893),\n",
       " (u'PP$', 16872),\n",
       " (u'TO', 14918),\n",
       " (u'PPSS', 13802),\n",
       " (u'CD', 13510)]"
      ]
     },
     "execution_count": 386,
     "metadata": {},
     "output_type": "execute_result"
    }
   ],
   "source": [
    "nltk.FreqDist([tag for (word, tag) \n",
    "                          in nltk.corpus.brown.tagged_words()\n",
    "              ]).most_common()[:20]\n"
   ]
  },
  {
   "cell_type": "markdown",
   "metadata": {},
   "source": [
    "#### 20. ◑ Write code to search the Brown Corpus for particular words and phrases according to tags, to answer the following questions:\n",
    "\n",
    "1. Produce an alphabetically sorted list of the distinct words tagged as MD.\n",
    "2. Identify words that can be plural nouns or third person singular verbs (e.g. deals, flies).\n",
    "3. Identify three-word prepositional phrases of the form IN + DET + NN (eg. in the lab).\n",
    "4. What is the ratio of masculine to feminine pronouns?"
   ]
  },
  {
   "cell_type": "raw",
   "metadata": {},
   "source": [
    "1st question:\n",
    "\n",
    "Produce an alphabetically sorted list of the distinct words tagged as MD."
   ]
  },
  {
   "cell_type": "code",
   "execution_count": 387,
   "metadata": {
    "collapsed": false
   },
   "outputs": [
    {
     "data": {
      "text/plain": [
       "[u'Can',\n",
       " u'Could',\n",
       " u'May',\n",
       " u'Might',\n",
       " u'Must',\n",
       " u'Ought',\n",
       " u'Shall',\n",
       " u'Should',\n",
       " u'Will',\n",
       " u'Would',\n",
       " u\"c'n\",\n",
       " u'can',\n",
       " u'colde',\n",
       " u'could',\n",
       " u'dare',\n",
       " u'kin',\n",
       " u'maht',\n",
       " u'mai',\n",
       " u'may',\n",
       " u'maye',\n",
       " u'mayst',\n",
       " u'might',\n",
       " u'must',\n",
       " u'need',\n",
       " u'ought',\n",
       " u'shall',\n",
       " u'should',\n",
       " u'shuld',\n",
       " u'shulde',\n",
       " u'wil',\n",
       " u'will',\n",
       " u'wilt',\n",
       " u'wod',\n",
       " u'wold',\n",
       " u'wolde',\n",
       " u'would']"
      ]
     },
     "execution_count": 387,
     "metadata": {},
     "output_type": "execute_result"
    }
   ],
   "source": [
    "sorted(set([word for (word, tag) \n",
    "            in nltk.corpus.brown.tagged_words()\n",
    "            if tag == 'MD']))"
   ]
  },
  {
   "cell_type": "raw",
   "metadata": {},
   "source": [
    "2nd question:\n",
    "\n",
    "Identify words that can be plural nouns or third person singular verbs (e.g. deals, flies)."
   ]
  },
  {
   "cell_type": "code",
   "execution_count": 388,
   "metadata": {
    "collapsed": true
   },
   "outputs": [],
   "source": [
    "unique_word_tag = set([(word, tag) for (word, tag)\n",
    "                       in nltk.corpus.brown.tagged_words()\n",
    "                       if word.endswith('s')])"
   ]
  },
  {
   "cell_type": "code",
   "execution_count": 389,
   "metadata": {
    "collapsed": false
   },
   "outputs": [
    {
     "data": {
      "text/plain": [
       "[u'VBZ', u'VBZ-HL', u'NNS']"
      ]
     },
     "execution_count": 389,
     "metadata": {},
     "output_type": "execute_result"
    }
   ],
   "source": [
    "x = {}\n",
    "for tup in unique_word_tag:\n",
    "    x.setdefault(tup[0], []).append(tup[1])\n",
    "x['flies'] # check the value of one key since the dict is too big"
   ]
  },
  {
   "cell_type": "code",
   "execution_count": 390,
   "metadata": {
    "collapsed": false
   },
   "outputs": [
    {
     "data": {
      "text/plain": [
       "[u'tires', u'kids', u'purges']"
      ]
     },
     "execution_count": 390,
     "metadata": {},
     "output_type": "execute_result"
    }
   ],
   "source": [
    "nns_vbz_words = [ele for ele in x \n",
    "                 if x[ele] == ['NNS', 'VBZ']]\n",
    "nns_vbz_words[:3]"
   ]
  },
  {
   "cell_type": "code",
   "execution_count": 391,
   "metadata": {
    "collapsed": false
   },
   "outputs": [
    {
     "data": {
      "text/plain": [
       "{(u'tires', u'NNS'), (u'tires', u'VBZ')}"
      ]
     },
     "execution_count": 391,
     "metadata": {},
     "output_type": "execute_result"
    }
   ],
   "source": [
    "# Let's test the resut with words we found\n",
    "set([(word, tag) for (word, tag) \n",
    "     in nltk.corpus.brown.tagged_words()\n",
    "     if word == 'tires'])"
   ]
  },
  {
   "cell_type": "raw",
   "metadata": {},
   "source": [
    "3rd question:\n",
    "\n",
    "Identify three-word prepositional phrases of the form IN + DET + NN (eg. in the lab)."
   ]
  },
  {
   "cell_type": "markdown",
   "metadata": {},
   "source": [
    "#### !!!!"
   ]
  },
  {
   "cell_type": "raw",
   "metadata": {},
   "source": [
    "4th question:\n",
    "\n",
    "What is the ratio of masculine to feminine pronouns?"
   ]
  },
  {
   "cell_type": "markdown",
   "metadata": {},
   "source": [
    "#### 21. ◑ In 3.1 we saw a table involving frequency counts for the verbs adore, love, like, prefer and preceding qualifiers absolutely and definitely. Investigate the full range of adverbs that appear before these four verbs."
   ]
  },
  {
   "cell_type": "code",
   "execution_count": 416,
   "metadata": {
    "collapsed": false
   },
   "outputs": [
    {
     "data": {
      "text/plain": [
       "[(u'just', u'like'),\n",
       " (u'always', u'like'),\n",
       " (u'together', u'like'),\n",
       " (u'just', u'like'),\n",
       " (u'somewhat', u'like'),\n",
       " (u'increasingly', u'like'),\n",
       " (u'just', u'like'),\n",
       " (u'around', u'like'),\n",
       " (u'just', u'like'),\n",
       " (u'much', u'like'),\n",
       " (u'much', u'like'),\n",
       " (u'somewhat', u'like'),\n",
       " (u'just', u'like'),\n",
       " (u'just', u'like'),\n",
       " (u'much', u'like'),\n",
       " (u'around', u'like'),\n",
       " (u'jist', u'like'),\n",
       " (u'much', u'like'),\n",
       " (u'much', u'like'),\n",
       " (u'exactly', u'like'),\n",
       " (u'roughly', u'like'),\n",
       " (u'together', u'like'),\n",
       " (u'so', u'like'),\n",
       " (u'gloriously', u'like'),\n",
       " (u'somewhat', u'like'),\n",
       " (u'deceptively', u'like'),\n",
       " (u'remarkably', u'like'),\n",
       " (u'just', u'like'),\n",
       " (u'just', u'like'),\n",
       " (u'simply', u'like'),\n",
       " (u'close', u'like'),\n",
       " (u'together', u'like'),\n",
       " (u'just', u'like'),\n",
       " (u'exactly', u'like'),\n",
       " (u'much', u'like'),\n",
       " (u'quick', u'like'),\n",
       " (u'alone', u'like'),\n",
       " (u'here', u'like'),\n",
       " (u'particularly', u'like'),\n",
       " (u'just', u'like'),\n",
       " (u'Kinda', u'like'),\n",
       " (u'just', u'like'),\n",
       " (u'just', u'like'),\n",
       " (u'always', u'like'),\n",
       " (u'just', u'like'),\n",
       " (u'much', u'like'),\n",
       " (u'almost', u'like'),\n",
       " (u'just', u'like'),\n",
       " (u'always', u'like'),\n",
       " (u'almost', u'like'),\n",
       " (u'much', u'like'),\n",
       " (u'together', u'like'),\n",
       " (u'by', u'like'),\n",
       " (u'sure', u'like'),\n",
       " (u'Just', u'like'),\n",
       " (u'often', u'like'),\n",
       " (u'almost', u'like'),\n",
       " (u'wildly', u'like'),\n",
       " (u'yet', u'like'),\n",
       " (u'Jist', u'like'),\n",
       " (u'just', u'like'),\n",
       " (u'exactly', u'like'),\n",
       " (u'just', u'like'),\n",
       " (u'just', u'like'),\n",
       " (u'Just', u'like'),\n",
       " (u'there', u'like'),\n",
       " (u'abreast', u'like'),\n",
       " (u'much', u'like'),\n",
       " (u'even', u'like'),\n",
       " (u'even', u'like'),\n",
       " (u'rather', u'like'),\n",
       " (u'just', u'love'),\n",
       " (u'dearly', u'love'),\n",
       " (u'always', u'love'),\n",
       " (u'generally', u'prefer'),\n",
       " (u'much', u'prefer'),\n",
       " (u'spontaneously', u'prefer'),\n",
       " (u'only', u'think'),\n",
       " (u'then', u'think'),\n",
       " (u'Then', u'think'),\n",
       " (u'usually', u'think'),\n",
       " (u'now', u'think'),\n",
       " (u'never', u'think'),\n",
       " (u'really', u'think'),\n",
       " (u'ever', u'think'),\n",
       " (u'rather', u'think'),\n",
       " (u'hardly', u'think'),\n",
       " (u'never', u'think'),\n",
       " (u'really', u'think'),\n",
       " (u'Just', u'think'),\n",
       " (u'still', u'think'),\n",
       " (u'really', u'think'),\n",
       " (u'only', u'think')]"
      ]
     },
     "execution_count": 416,
     "metadata": {},
     "output_type": "execute_result"
    }
   ],
   "source": [
    "word_list = ['think', 'love', 'like', 'prefer']\n",
    "\n",
    "adverb_list = [(w1, w2) for (w1, t1), (w2, t2) \n",
    " in list(nltk.ngrams(nltk.corpus.brown.tagged_words(), 2))\n",
    " if w2 in word_list\n",
    " if t1 == 'RB']\n",
    "\n",
    "# sort the list by 2nd element in each tuple\n",
    "sorted(adverb_list, key=lambda x:x[1])"
   ]
  },
  {
   "cell_type": "code",
   "execution_count": null,
   "metadata": {
    "collapsed": true
   },
   "outputs": [],
   "source": []
  },
  {
   "cell_type": "markdown",
   "metadata": {},
   "source": [
    "#### 24. ◑ How serious is the sparse data problem? Investigate the performance of n-gram taggers as n increases from 1 to 6. Tabulate the accuracy score. Estimate the training data required for these taggers, assuming a vocabulary size of 105 and a tagset size of 102."
   ]
  },
  {
   "cell_type": "code",
   "execution_count": 427,
   "metadata": {
    "collapsed": false
   },
   "outputs": [],
   "source": [
    "length = len(nltk.corpus.brown.tagged_sents())\n",
    "train_size = int(length*0.8)\n",
    "test_size = int(length*0.2)\n",
    "\n",
    "training_set_sents = nltk.corpus.brown.tagged_sents()[:train_size]\n",
    "test_set_sents = nltk.corpus.brown.tagged_sents()[train_size:]\n",
    "\n",
    "def ngramtagger_accuracy_score(ngramtagger):\n",
    "    tagger = ngramtagger(training_set_sents)\n",
    "    print tagger.evaluate(test_set_sents)\n",
    "\n"
   ]
  },
  {
   "cell_type": "code",
   "execution_count": 426,
   "metadata": {
    "collapsed": false
   },
   "outputs": [
    {
     "name": "stdout",
     "output_type": "stream",
     "text": [
      "0.87711103522\n"
     ]
    }
   ],
   "source": [
    "# train unigram taggers\n",
    "ngramtagger_accuracy_score(nltk.UnigramTagger)"
   ]
  },
  {
   "cell_type": "code",
   "execution_count": 428,
   "metadata": {
    "collapsed": false
   },
   "outputs": [
    {
     "name": "stdout",
     "output_type": "stream",
     "text": [
      "0.339175746092\n"
     ]
    }
   ],
   "source": [
    "# train bigram taggers\n",
    "ngramtagger_accuracy_score(nltk.BigramTagger)"
   ]
  },
  {
   "cell_type": "code",
   "execution_count": 429,
   "metadata": {
    "collapsed": false
   },
   "outputs": [
    {
     "name": "stdout",
     "output_type": "stream",
     "text": [
      "0.191813645027\n"
     ]
    }
   ],
   "source": [
    "# train trigram taggers\n",
    "ngramtagger_accuracy_score(nltk.TrigramTagger)"
   ]
  },
  {
   "cell_type": "markdown",
   "metadata": {},
   "source": [
    "#### 26. ◑ 4.1 plotted a curve showing change in the performance of a lookup tagger as the model size was increased. Plot the performance curve for a unigram tagger, as the amount of training data is varied."
   ]
  },
  {
   "cell_type": "code",
   "execution_count": 442,
   "metadata": {
    "collapsed": true
   },
   "outputs": [],
   "source": [
    "def accuracy_score_size(size):\n",
    "    \"\"\"\n",
    "    For different size, test the UnigramTagger accuracy score.\n",
    "    Force the size to be two decimal points by using round(wor, 2)\n",
    "    \"\"\"\n",
    "    size = round(size, 2)\n",
    "    length = len(nltk.corpus.brown.tagged_sents())\n",
    "    train_size = int(length*size)\n",
    "    test_size = int(length*size)\n",
    "    \n",
    "    train_data_set = nltk.corpus.brown.tagged_sents()[:train_size]\n",
    "    test_data_set = nltk.corpus.brown.tagged_sents()[train_size:]\n",
    "    \n",
    "    tagger = nltk.UnigramTagger(train_data_set)\n",
    "    print tagger.evaluate(test_data_set)"
   ]
  },
  {
   "cell_type": "code",
   "execution_count": 443,
   "metadata": {
    "collapsed": false
   },
   "outputs": [
    {
     "name": "stdout",
     "output_type": "stream",
     "text": [
      "0.840070397175\n"
     ]
    }
   ],
   "source": [
    "accuracy_score_size(0.2)"
   ]
  },
  {
   "cell_type": "code",
   "execution_count": 444,
   "metadata": {
    "collapsed": false
   },
   "outputs": [
    {
     "name": "stdout",
     "output_type": "stream",
     "text": [
      "0.863411751906\n"
     ]
    }
   ],
   "source": [
    "accuracy_score_size(0.4)"
   ]
  },
  {
   "cell_type": "code",
   "execution_count": 447,
   "metadata": {
    "collapsed": false
   },
   "outputs": [
    {
     "name": "stdout",
     "output_type": "stream",
     "text": [
      "0.840070397175\n",
      "0.863411751906\n",
      "0.869686554676\n",
      "0.87711103522\n",
      "0.885218247732\n"
     ]
    }
   ],
   "source": [
    "size_list = [0.2, 0.4, 0.6, 0.8, 0.9]\n",
    "accuracy_score_list = [accuracy_score_size(size) for size in size_list]"
   ]
  },
  {
   "cell_type": "code",
   "execution_count": 456,
   "metadata": {
    "collapsed": false
   },
   "outputs": [
    {
     "data": {
      "text/plain": [
       "[<matplotlib.lines.Line2D at 0x11ee9b050>,\n",
       " <matplotlib.lines.Line2D at 0x11ee9b390>]"
      ]
     },
     "execution_count": 456,
     "metadata": {},
     "output_type": "execute_result"
    },
    {
     "data": {
      "image/png": "[encoded data removed]",
      "text/plain": [
       "<matplotlib.figure.Figure at 0x124261d10>"
      ]
     },
     "metadata": {},
     "output_type": "display_data"
    }
   ],
   "source": [
    "import matplotlib.pyplot as plt\n",
    "%matplotlib inline\n",
    "\n",
    "size_score = zip(size_list, accuracy_score_list)\n",
    "plt.plot(size_score)"
   ]
  },
  {
   "cell_type": "code",
   "execution_count": null,
   "metadata": {
    "collapsed": true
   },
   "outputs": [],
   "source": []
  },
  {
   "cell_type": "code",
   "execution_count": null,
   "metadata": {
    "collapsed": true
   },
   "outputs": [],
   "source": []
  },
  {
   "cell_type": "code",
   "execution_count": null,
   "metadata": {
    "collapsed": true
   },
   "outputs": [],
   "source": []
  },
  {
   "cell_type": "code",
   "execution_count": null,
   "metadata": {
    "collapsed": true
   },
   "outputs": [],
   "source": []
  },
  {
   "cell_type": "code",
   "execution_count": null,
   "metadata": {
    "collapsed": true
   },
   "outputs": [],
   "source": []
  },
  {
   "cell_type": "code",
   "execution_count": null,
   "metadata": {
    "collapsed": true
   },
   "outputs": [],
   "source": []
  },
  {
   "cell_type": "code",
   "execution_count": null,
   "metadata": {
    "collapsed": true
   },
   "outputs": [],
   "source": []
  },
  {
   "cell_type": "code",
   "execution_count": null,
   "metadata": {
    "collapsed": true
   },
   "outputs": [],
   "source": []
  },
  {
   "cell_type": "code",
   "execution_count": null,
   "metadata": {
    "collapsed": true
   },
   "outputs": [],
   "source": []
  },
  {
   "cell_type": "code",
   "execution_count": null,
   "metadata": {
    "collapsed": true
   },
   "outputs": [],
   "source": []
  },
  {
   "cell_type": "code",
   "execution_count": null,
   "metadata": {
    "collapsed": true
   },
   "outputs": [],
   "source": []
  },
  {
   "cell_type": "code",
   "execution_count": 445,
   "metadata": {
    "collapsed": false
   },
   "outputs": [
    {
     "data": {
      "text/plain": [
       "ConditionalFreqDist(nltk.probability.FreqDist,\n",
       "                    {u'sunbonnet': FreqDist({u'NN': 1}),\n",
       "                     u'Elevated': FreqDist({u'VBN-TL': 1}),\n",
       "                     u'narcotic': FreqDist({u'JJ': 1, u'NN': 1}),\n",
       "                     u'four': FreqDist({u'CD': 73}),\n",
       "                     u'woods': FreqDist({u'NNS': 4}),\n",
       "                     u'railing': FreqDist({u'NN': 1}),\n",
       "                     u'Until': FreqDist({u'CS': 3, u'IN': 2}),\n",
       "                     u'aggression': FreqDist({u'NN': 1}),\n",
       "                     u'marching': FreqDist({u'VBG': 2}),\n",
       "                     u'increase': FreqDist({u'NN': 15, u'VB': 8, u'VB-HL': 1}),\n",
       "                     u'eligible': FreqDist({u'JJ': 4}),\n",
       "                     u'electricity': FreqDist({u'NN': 1}),\n",
       "                     u'$25-a-plate': FreqDist({u'NN': 1}),\n",
       "                     u'wheeled': FreqDist({u'VBD': 2}),\n",
       "                     u'Casey': FreqDist({u'NP': 6}),\n",
       "                     u'all-county': FreqDist({u'JJ': 1}),\n",
       "                     u'Belgians': FreqDist({u'NPS': 20}),\n",
       "                     u'Western': FreqDist({u'JJ-TL': 7}),\n",
       "                     u'dependency': FreqDist({u'NN': 2}),\n",
       "                     u'1959-60': FreqDist({u'CD': 1}),\n",
       "                     u'Duhagon': FreqDist({u'NP': 1}),\n",
       "                     u'sinking': FreqDist({u'VBG': 1}),\n",
       "                     u'1,119': FreqDist({u'CD': 1}),\n",
       "                     u'co-operation': FreqDist({u'NN': 1}),\n",
       "                     u'Famed': FreqDist({u'JJ': 1}),\n",
       "                     u'regional': FreqDist({u'JJ': 2}),\n",
       "                     u'Charitable': FreqDist({u'JJ': 1}),\n",
       "                     u'appropriation': FreqDist({u'NN': 2}),\n",
       "                     u'yellow': FreqDist({u'JJ': 3}),\n",
       "                     u'Old': FreqDist({u'JJ': 1, u'JJ-TL': 10}),\n",
       "                     u'Heights': FreqDist({u'NNS-TL': 1}),\n",
       "                     u'bringing': FreqDist({u'VBG': 2}),\n",
       "                     u'Policies': FreqDist({u'NNS': 1, u'NNS-HL': 1}),\n",
       "                     u'prize': FreqDist({u'NN': 5}),\n",
       "                     u'Loen': FreqDist({u'NP': 1}),\n",
       "                     u'Publique': FreqDist({u'FW-JJ-TL': 2}),\n",
       "                     u'wooden': FreqDist({u'JJ': 1}),\n",
       "                     u'Loeb': FreqDist({u'NP': 1}),\n",
       "                     u'specialties': FreqDist({u'NNS': 1}),\n",
       "                     u'Sands': FreqDist({u'NNS-TL': 1}),\n",
       "                     u'succession': FreqDist({u'NN': 1}),\n",
       "                     u'Paul': FreqDist({u'NP': 6}),\n",
       "                     u'shows': FreqDist({u'NNS': 3, u'VBZ': 1}),\n",
       "                     u'commented': FreqDist({u'VBD': 6, u'VBN': 1}),\n",
       "                     u'Screw': FreqDist({u'NN-TL': 1}),\n",
       "                     u'charter': FreqDist({u'NN': 15}),\n",
       "                     u'Oslo': FreqDist({u'NP': 4, u'NP-HL': 1}),\n",
       "                     u'tired': FreqDist({u'VBD': 1, u'VBN': 2}),\n",
       "                     u'pulse': FreqDist({u'NN': 1}),\n",
       "                     u'tires': FreqDist({u'NNS': 3}),\n",
       "                     u'271': FreqDist({u'CD': 1}),\n",
       "                     u'second': FreqDist({u'NN': 1, u'OD': 33, u'QL': 1}),\n",
       "                     u'273': FreqDist({u'CD': 1}),\n",
       "                     u'Pampa': FreqDist({u'NP': 2}),\n",
       "                     u'DiVarco': FreqDist({u'NP': 1}),\n",
       "                     u'errors': FreqDist({u'NNS': 8}),\n",
       "                     u'Initially': FreqDist({u'RB': 1}),\n",
       "                     u'Lucille': FreqDist({u'NP': 2}),\n",
       "                     u'boogie': FreqDist({u'NN': 1}),\n",
       "                     u'contributed': FreqDist({u'VBD': 3, u'VBN': 2}),\n",
       "                     u'Seekonk': FreqDist({u'NP': 2}),\n",
       "                     u'Hamilton': FreqDist({u'NP': 2}),\n",
       "                     u'designing': FreqDist({u'NN': 1, u'VBG': 1}),\n",
       "                     u'College': FreqDist({u'NN': 1, u'NN-TL': 19}),\n",
       "                     u'increasing': FreqDist({u'VBG': 2}),\n",
       "                     u'Presidential': FreqDist({u'JJ-TL': 2}),\n",
       "                     u'dispatched': FreqDist({u'VBD': 2, u'VBN': 1}),\n",
       "                     u'hero': FreqDist({u'NN': 7}),\n",
       "                     u'Sioux': FreqDist({u'NPS': 1}),\n",
       "                     u'Foundation': FreqDist({u'NN-TL': 3}),\n",
       "                     u'Munoz': FreqDist({u'NP': 1}),\n",
       "                     u'error': FreqDist({u'NN': 1, u'NN-HL': 1}),\n",
       "                     u'here': FreqDist({u'RB': 66, u'RB-HL': 1}),\n",
       "                     u'reported': FreqDist({u'VBD': 12,\n",
       "                               u'VBN': 15,\n",
       "                               u'VBN-HL': 1}),\n",
       "                     u'affiliated': FreqDist({u'VBN': 1}),\n",
       "                     u'Footnotes': FreqDist({u'NNS-HL': 1}),\n",
       "                     u'Stephanie': FreqDist({u'NP': 2}),\n",
       "                     u'doldrums': FreqDist({u'NNS': 1}),\n",
       "                     u'cyclical': FreqDist({u'JJ': 1}),\n",
       "                     u'kids': FreqDist({u'NNS': 5, u'VBZ': 1}),\n",
       "                     u'Fernberger': FreqDist({u'NP': 1}),\n",
       "                     u'elaborate': FreqDist({u'VB': 3}),\n",
       "                     u'climbed': FreqDist({u'VBD': 2}),\n",
       "                     u'reports': FreqDist({u'NNS': 9, u'VBZ': 3}),\n",
       "                     u'controversy': FreqDist({u'NN': 5}),\n",
       "                     u'Boxwood': FreqDist({u'NP-TL': 1}),\n",
       "                     u'military': FreqDist({u'JJ': 24, u'NN': 6}),\n",
       "                     u'Walters': FreqDist({u'NP': 1}),\n",
       "                     u'Isles': FreqDist({u'NNS-TL': 1}),\n",
       "                     u'rebel': FreqDist({u'NN': 2, u'VB': 1}),\n",
       "                     u'golden': FreqDist({u'JJ': 4, u'JJ-HL': 1}),\n",
       "                     u'Quincy': FreqDist({u'NP': 1}),\n",
       "                     u'ground': FreqDist({u'NN': 10}),\n",
       "                     u'Harvey': FreqDist({u'NP': 6, u'NP-HL': 1}),\n",
       "                     u'explained': FreqDist({u'VBD': 12, u'VBN': 1}),\n",
       "                     u'precincts': FreqDist({u'NNS': 4}),\n",
       "                     u'Three': FreqDist({u'CD': 3, u'CD-HL': 1}),\n",
       "                     u'replace': FreqDist({u'VB': 4}),\n",
       "                     u'brought': FreqDist({u'VBD': 12, u'VBN': 9}),\n",
       "                     u'beneficiaries': FreqDist({u'NNS': 1}),\n",
       "                     u'Basic': FreqDist({u'JJ': 1}),\n",
       "                     u'Wales': FreqDist({u'NP': 1, u'NP-TL': 1}),\n",
       "                     u'Basin': FreqDist({u'NN-TL': 1, u'NN-TL-HL': 1}),\n",
       "                     u'unit': FreqDist({u'NN': 10}),\n",
       "                     u'opponents': FreqDist({u'NNS': 1}),\n",
       "                     u'Ronald': FreqDist({u'NP': 2}),\n",
       "                     u'Callan': FreqDist({u'NP': 1}),\n",
       "                     u'spoke': FreqDist({u'VBD': 4}),\n",
       "                     u'tardiness': FreqDist({u'NN': 1}),\n",
       "                     u'Slate': FreqDist({u'NN-TL': 5}),\n",
       "                     u'century': FreqDist({u'NN': 2}),\n",
       "                     u'Admitting': FreqDist({u'VBG': 1}),\n",
       "                     u'Anticipated': FreqDist({u'VBN': 1}),\n",
       "                     u'occupying': FreqDist({u'VBG': 1}),\n",
       "                     u'Vernon': FreqDist({u'NP': 3, u'NP-TL': 1}),\n",
       "                     u'Tex.': FreqDist({u'NP': 4, u'NP-HL': 1}),\n",
       "                     u'music': FreqDist({u'NN': 12}),\n",
       "                     u'therefore': FreqDist({u'RB': 7}),\n",
       "                     u'passport': FreqDist({u'NN': 1}),\n",
       "                     u'unfortunately': FreqDist({u'RB': 1}),\n",
       "                     u'strike': FreqDist({u'NN': 10, u'VB': 2}),\n",
       "                     u'heralded': FreqDist({u'VBN': 1}),\n",
       "                     u'until': FreqDist({u'CS': 13, u'IN': 15}),\n",
       "                     u'Tudor': FreqDist({u'NP': 1}),\n",
       "                     u'Stepanovich': FreqDist({u'NP': 2}),\n",
       "                     u'females': FreqDist({u'NNS': 1}),\n",
       "                     u'Christine': FreqDist({u'NP': 2}),\n",
       "                     u'successful': FreqDist({u'JJ': 10}),\n",
       "                     u'brings': FreqDist({u'VBZ': 1}),\n",
       "                     u'whirling': FreqDist({u'VBG': 1}),\n",
       "                     u'Rule': FreqDist({u'NN-TL': 2}),\n",
       "                     u'99': FreqDist({u'CD-TL': 1}),\n",
       "                     u'Person': FreqDist({u'NN-TL': 2}),\n",
       "                     u'menaced': FreqDist({u'VBN': 1}),\n",
       "                     u'tying': FreqDist({u'VBG': 1}),\n",
       "                     u'90': FreqDist({u'CD': 2}),\n",
       "                     u'hole': FreqDist({u'NN': 17}),\n",
       "                     u'hold': FreqDist({u'NN': 1, u'VB': 9}),\n",
       "                     u'95': FreqDist({u'CD': 2, u'CD-TL': 1}),\n",
       "                     u'circumstances': FreqDist({u'NNS': 5}),\n",
       "                     u'locked': FreqDist({u'VBN': 1}),\n",
       "                     u'brutality': FreqDist({u'NN': 2}),\n",
       "                     u'Wilderness': FreqDist({u'NN-TL': 1}),\n",
       "                     u'homemakers': FreqDist({u'NNS': 1}),\n",
       "                     u'famed': FreqDist({u'JJ': 1}),\n",
       "                     u'accomplishment': FreqDist({u'NN': 1}),\n",
       "                     u'Professors': FreqDist({u'NNS-TL': 2}),\n",
       "                     u'Westphalia': FreqDist({u'NP': 2}),\n",
       "                     u'temperatures': FreqDist({u'NNS': 1}),\n",
       "                     u'Travelers': FreqDist({u'NNS-TL': 1}),\n",
       "                     u'centralization': FreqDist({u'NN': 2}),\n",
       "                     u'example': FreqDist({u'NN': 15}),\n",
       "                     u'Le': FreqDist({u'FW-AT-TL': 1}),\n",
       "                     u'La': FreqDist({u'FW-AT-TL': 5, u'NP': 2}),\n",
       "                     u'household': FreqDist({u'NN': 3}),\n",
       "                     u'artillery': FreqDist({u'NN': 2}),\n",
       "                     u'organized': FreqDist({u'VBD': 1, u'VBN': 5}),\n",
       "                     u'Briar': FreqDist({u'NN-TL': 1}),\n",
       "                     u'Smith-Colmer': FreqDist({u'NP': 1}),\n",
       "                     u'currency': FreqDist({u'NN': 1}),\n",
       "                     u'caution': FreqDist({u'NN': 1}),\n",
       "                     u'reviewing': FreqDist({u'VBG': 2}),\n",
       "                     u'want': FreqDist({u'VB': 16}),\n",
       "                     u'counseling': FreqDist({u'NN': 1, u'VBG': 2}),\n",
       "                     u'Easier': FreqDist({u'JJR-HL': 1}),\n",
       "                     u'absolute': FreqDist({u'JJ': 1}),\n",
       "                     u'preferably': FreqDist({u'RB': 1}),\n",
       "                     u'hog': FreqDist({u'NN': 2}),\n",
       "                     u'hoc': FreqDist({u'FW-DT': 1}),\n",
       "                     u'knows': FreqDist({u'VBZ': 6}),\n",
       "                     u'complaining': FreqDist({u'VBG': 1}),\n",
       "                     u'travel': FreqDist({u'NN': 2}),\n",
       "                     u'drying': FreqDist({u'VBG': 2}),\n",
       "                     u'feature': FreqDist({u'NN': 1, u'VB': 3}),\n",
       "                     u'Gardner': FreqDist({u'NP': 1}),\n",
       "                     u'machine': FreqDist({u'NN': 5}),\n",
       "                     u'how': FreqDist({u'QL': 6, u'WRB': 31}),\n",
       "                     u'hot': FreqDist({u'JJ': 9}),\n",
       "                     u'significance': FreqDist({u'NN': 4}),\n",
       "                     u'Comedian': FreqDist({u'NN-TL': 1}),\n",
       "                     u'Gerosa': FreqDist({u'NP': 2}),\n",
       "                     u'preferable': FreqDist({u'JJ': 1}),\n",
       "                     u\"He'll\": FreqDist({u'PPS+MD': 2}),\n",
       "                     u'A': FreqDist({u'AT': 124,\n",
       "                               u'AT-HL': 2,\n",
       "                               u'AT-TL': 3,\n",
       "                               u'NN': 8}),\n",
       "                     u'beauty': FreqDist({u'NN': 4}),\n",
       "                     u'inherent': FreqDist({u'JJ': 2}),\n",
       "                     u'L.': FreqDist({u'NP': 25}),\n",
       "                     u'swing': FreqDist({u'VB': 1}),\n",
       "                     u'outlawed': FreqDist({u'VBN': 1}),\n",
       "                     u'Players': FreqDist({u'NNS-TL': 1}),\n",
       "                     u'modest': FreqDist({u'JJ': 5, u'JJ-HL': 2}),\n",
       "                     u'Reese': FreqDist({u'NP': 3}),\n",
       "                     u'destined': FreqDist({u'VBN': 1}),\n",
       "                     u'fourteen-team': FreqDist({u'JJ': 1}),\n",
       "                     u'sentencing': FreqDist({u'VBG': 1}),\n",
       "                     u'types': FreqDist({u'NNS': 4}),\n",
       "                     u'ballroom': FreqDist({u'NN': 4}),\n",
       "                     u'effective': FreqDist({u'JJ': 15}),\n",
       "                     u'down-payments': FreqDist({u'NNS': 1}),\n",
       "                     u'youths': FreqDist({u'NNS': 4}),\n",
       "                     u'romped': FreqDist({u'VBD': 1}),\n",
       "                     u'revolt': FreqDist({u'NN': 1}),\n",
       "                     u'headquarters': FreqDist({u'NN': 10, u'NNS': 8}),\n",
       "                     u'Walkers': FreqDist({u'NPS': 1}),\n",
       "                     u'baggage': FreqDist({u'NN': 2}),\n",
       "                     u'18th': FreqDist({u'OD': 4}),\n",
       "                     u'4-7/8': FreqDist({u'CD': 1}),\n",
       "                     u'Another': FreqDist({u'DT': 7}),\n",
       "                     u'keeps': FreqDist({u'VBZ': 3}),\n",
       "                     u'democratic': FreqDist({u'JJ': 1}),\n",
       "                     u'wing': FreqDist({u'NN': 4}),\n",
       "                     u'wind': FreqDist({u'NN': 2, u'VB': 2}),\n",
       "                     u'leisurely': FreqDist({u'RB': 1}),\n",
       "                     u'Willy': FreqDist({u'NP': 1}),\n",
       "                     u'senators': FreqDist({u'NNS': 4}),\n",
       "                     u'$840,000': FreqDist({u'NNS': 1}),\n",
       "                     u'welcomed': FreqDist({u'VBN': 2}),\n",
       "                     u'Edith': FreqDist({u'NP': 1}),\n",
       "                     u'Housing': FreqDist({u'NN-TL': 3}),\n",
       "                     u'reforms': FreqDist({u'NNS': 4}),\n",
       "                     u'vary': FreqDist({u'VB': 2}),\n",
       "                     u'kickoff': FreqDist({u'NN': 2}),\n",
       "                     u'thousands': FreqDist({u'NNS': 7}),\n",
       "                     u'Dussa': FreqDist({u'NP': 1}),\n",
       "                     u'Toll': FreqDist({u'NN-TL': 1}),\n",
       "                     u'Ludwig': FreqDist({u'NP': 1}),\n",
       "                     u'Commies': FreqDist({u'NPS': 1}),\n",
       "                     u'His': FreqDist({u'PP$': 29}),\n",
       "                     u'Hit': FreqDist({u'NN-HL': 1}),\n",
       "                     u'surviving': FreqDist({u'VBG': 1}),\n",
       "                     u'fit': FreqDist({u'JJ': 1, u'VB': 1, u'VBN': 1}),\n",
       "                     u'striking': FreqDist({u'NN': 1, u'VBG': 3}),\n",
       "                     u\"Gardner's\": FreqDist({u'NP$': 4}),\n",
       "                     u'secede': FreqDist({u'VB': 1}),\n",
       "                     u'survivors': FreqDist({u'NNS': 1}),\n",
       "                     u'Harris': FreqDist({u'NP': 5, u'NP-HL': 1, u'NP-TL': 2}),\n",
       "                     u'Barber': FreqDist({u'NN-HL': 1, u'NP': 4}),\n",
       "                     u'Palsy': FreqDist({u'NN-TL': 1}),\n",
       "                     u'hidden': FreqDist({u'VBN': 1}),\n",
       "                     u'county-wide': FreqDist({u'JJ': 2}),\n",
       "                     u'Sinfonica': FreqDist({u'FW-JJ-TL': 1}),\n",
       "                     u'slate': FreqDist({u'NN': 1}),\n",
       "                     u'vouchers': FreqDist({u'NNS': 1}),\n",
       "                     u'detachment': FreqDist({u'NN': 1}),\n",
       "                     u'effects': FreqDist({u'NNS': 1, u'NNS-HL': 1}),\n",
       "                     u'schools': FreqDist({u'NNS': 36, u'NNS-HL': 1}),\n",
       "                     u'P.m.': FreqDist({u'RB': 1}),\n",
       "                     u'undeveloped': FreqDist({u'JJ': 1}),\n",
       "                     u'silver': FreqDist({u'JJ': 1, u'NN': 2}),\n",
       "                     u'glutted': FreqDist({u'VBN': 1}),\n",
       "                     u'headboard': FreqDist({u'NN': 1}),\n",
       "                     u'represents': FreqDist({u'VBZ': 2}),\n",
       "                     u'debut': FreqDist({u'NN': 4}),\n",
       "                     u\"road's\": FreqDist({u'NN$': 3}),\n",
       "                     u'skills': FreqDist({u'NNS': 3}),\n",
       "                     u'McCluskey': FreqDist({u'NP': 1}),\n",
       "                     u'4-year-old': FreqDist({u'JJ': 1}),\n",
       "                     u'clientele': FreqDist({u'NN': 1}),\n",
       "                     u'Seidel': FreqDist({u'NP': 2}),\n",
       "                     u\"employers'\": FreqDist({u'NNS$': 1}),\n",
       "                     u'Superior': FreqDist({u'JJ-TL': 5}),\n",
       "                     u'preceded': FreqDist({u'VBD': 1, u'VBN': 2}),\n",
       "                     u'financial': FreqDist({u'JJ': 11}),\n",
       "                     u'reputedly': FreqDist({u'RB': 1}),\n",
       "                     u'series': FreqDist({u'NN': 25}),\n",
       "                     u'finger-paint': FreqDist({u'VB': 1}),\n",
       "                     u'Mongolia': FreqDist({u'NP-TL': 1}),\n",
       "                     u\"NATO's\": FreqDist({u'NN': 1}),\n",
       "                     u'3-to-o': FreqDist({u'NN': 1}),\n",
       "                     u'whiz': FreqDist({u'NN': 2}),\n",
       "                     u\"we'd\": FreqDist({u'PPSS+MD': 1}),\n",
       "                     u'substantially': FreqDist({u'RB': 1}),\n",
       "                     u'laboratory': FreqDist({u'NN': 2}),\n",
       "                     u'tricked': FreqDist({u'VBN': 1}),\n",
       "                     u\"House's\": FreqDist({u'NN$-TL': 1, u'NP$': 1}),\n",
       "                     u'whip': FreqDist({u'VB': 2}),\n",
       "                     u'borne': FreqDist({u'VBN': 1}),\n",
       "                     u'misfortune': FreqDist({u'NN': 2}),\n",
       "                     u'two-and-a-half-mile': FreqDist({u'JJ': 1}),\n",
       "                     u'ten-concert': FreqDist({u'JJ': 1}),\n",
       "                     u'5847': FreqDist({u'CD-TL': 1}),\n",
       "                     u'flooded': FreqDist({u'VBN': 1}),\n",
       "                     u'encourage': FreqDist({u'VB': 3}),\n",
       "                     u'millions': FreqDist({u'NNS': 9}),\n",
       "                     u'Super': FreqDist({u'NN-HL': 1}),\n",
       "                     u\"Simpson's\": FreqDist({u'NP$': 1}),\n",
       "                     u'sexton': FreqDist({u'NN': 1}),\n",
       "                     u'foundation': FreqDist({u'NN': 1}),\n",
       "                     u'inhabitants': FreqDist({u'NNS': 2}),\n",
       "                     u'Word': FreqDist({u'NN': 1}),\n",
       "                     u\"Nugent's\": FreqDist({u'NP$': 1}),\n",
       "                     u'Extension': FreqDist({u'NN': 1}),\n",
       "                     u'sellout': FreqDist({u'NN': 1}),\n",
       "                     u'University': FreqDist({u'NN-TL': 42}),\n",
       "                     u'Work': FreqDist({u'NN': 1}),\n",
       "                     u'threatened': FreqDist({u'VBD': 4}),\n",
       "                     u'3-to-3': FreqDist({u'CD': 1}),\n",
       "                     u'Marcus': FreqDist({u'NP': 1}),\n",
       "                     u'3-run': FreqDist({u'JJ': 1}),\n",
       "                     u'Jacques': FreqDist({u'NP': 1}),\n",
       "                     u'sheet': FreqDist({u'NN': 1}),\n",
       "                     u'estimate': FreqDist({u'NN': 2, u'VB': 1}),\n",
       "                     u'alert': FreqDist({u'JJ': 1}),\n",
       "                     u'substantiation': FreqDist({u'NN': 1}),\n",
       "                     u'cornerstone': FreqDist({u'NN': 1}),\n",
       "                     u'enormous': FreqDist({u'JJ': 1}),\n",
       "                     u'Hord': FreqDist({u'NP': 1}),\n",
       "                     u'shelves': FreqDist({u'NNS': 1}),\n",
       "                     u'24-inch': FreqDist({u'JJ': 1}),\n",
       "                     u'shipped': FreqDist({u'VBD': 1}),\n",
       "                     u'musicians': FreqDist({u'NNS': 3}),\n",
       "                     u'speedy': FreqDist({u'JJ': 1}),\n",
       "                     u'coeds': FreqDist({u'NNS': 1}),\n",
       "                     u'Human': FreqDist({u'JJ': 1, u'JJ-TL': 1}),\n",
       "                     u'1970s': FreqDist({u'NNS': 1}),\n",
       "                     u'reserving': FreqDist({u'VBG': 1}),\n",
       "                     u'repealed': FreqDist({u'VBN': 1}),\n",
       "                     u'Palmer': FreqDist({u'NP': 42}),\n",
       "                     u'hearsay': FreqDist({u'NN-HL': 1}),\n",
       "                     u'Convair': FreqDist({u'NP': 1}),\n",
       "                     u\"Al's\": FreqDist({u'NP$': 1}),\n",
       "                     u'Due': FreqDist({u'JJ-HL': 1}),\n",
       "                     u'channels': FreqDist({u'NNS': 1}),\n",
       "                     u'wash': FreqDist({u'VB': 2}),\n",
       "                     u'$18.9': FreqDist({u'NNS': 1}),\n",
       "                     u'175': FreqDist({u'CD': 1}),\n",
       "                     u'174': FreqDist({u'CD': 1}),\n",
       "                     u'173': FreqDist({u'CD': 1}),\n",
       "                     u'$18.2': FreqDist({u'NNS': 1}),\n",
       "                     u'Steelers': FreqDist({u'NPS': 2}),\n",
       "                     u'basketball': FreqDist({u'NN': 5}),\n",
       "                     u'service': FreqDist({u'NN': 37}),\n",
       "                     u'engagement': FreqDist({u'NN': 4}),\n",
       "                     u'returns': FreqDist({u'NNS': 1, u'NNS-HL': 1}),\n",
       "                     u'needed': FreqDist({u'VBD': 8,\n",
       "                               u'VBN': 15,\n",
       "                               u'VBN-HL': 3}),\n",
       "                     u'Simmons': FreqDist({u'NP': 2}),\n",
       "                     u'master': FreqDist({u'JJS': 1, u'NN': 4}),\n",
       "                     u'listed': FreqDist({u'VBD': 6, u'VBN': 4}),\n",
       "                     u'Dumont': FreqDist({u'NP': 2}),\n",
       "                     u'legs': FreqDist({u'NNS': 3}),\n",
       "                     u'bitter': FreqDist({u'JJ': 5}),\n",
       "                     u'ranging': FreqDist({u'VBG': 3}),\n",
       "                     u'listen': FreqDist({u'VB': 2}),\n",
       "                     u'collapse': FreqDist({u'NN': 1}),\n",
       "                     u'predictably': FreqDist({u'RB': 1}),\n",
       "                     u'convention': FreqDist({u'NN': 2}),\n",
       "                     u'wisdom': FreqDist({u'NN': 5}),\n",
       "                     u'advisement': FreqDist({u'NN': 2}),\n",
       "                     u'task': FreqDist({u'NN': 5}),\n",
       "                     u'ASDIC': FreqDist({u'NN': 1}),\n",
       "                     u'defaulted': FreqDist({u'VBN': 1}),\n",
       "                     u'Bertoia': FreqDist({u'NP': 1}),\n",
       "                     u'peril': FreqDist({u'NN': 1}),\n",
       "                     u'outlay': FreqDist({u'NN': 2}),\n",
       "                     u'showed': FreqDist({u'VBD': 5}),\n",
       "                     u'elegant': FreqDist({u'JJ': 2}),\n",
       "                     u'Carroll': FreqDist({u'NP': 2}),\n",
       "                     u'walloped': FreqDist({u'VBD': 1}),\n",
       "                     u'nations': FreqDist({u'NNS': 12}),\n",
       "                     u'project': FreqDist({u'NN': 25, u'VB': 1}),\n",
       "                     u'percentages': FreqDist({u'NNS': 1}),\n",
       "                     u'idle': FreqDist({u'JJ': 2}),\n",
       "                     u'Ilona': FreqDist({u'NP': 1}),\n",
       "                     u'skimmed': FreqDist({u'VBD': 1}),\n",
       "                     u'feeling': FreqDist({u'NN': 9, u'VBG': 1}),\n",
       "                     u'acquisition': FreqDist({u'NN': 1}),\n",
       "                     u'Cody': FreqDist({u'NP': 1}),\n",
       "                     u'Angelo': FreqDist({u'NP': 3}),\n",
       "                     u'acclaim': FreqDist({u'NN': 1}),\n",
       "                     u'entail': FreqDist({u'VB': 1}),\n",
       "                     u'willingness': FreqDist({u'NN': 2}),\n",
       "                     u'Chicago': FreqDist({u'NP': 12,\n",
       "                               u'NP-HL': 1,\n",
       "                               u'NP-TL': 9}),\n",
       "                     u'Woodyard': FreqDist({u'NP-TL': 1}),\n",
       "                     u'Mullenax': FreqDist({u'NP': 2}),\n",
       "                     u'spent': FreqDist({u'VBD': 3, u'VBN': 9}),\n",
       "                     u'Mont.': FreqDist({u'NP': 1}),\n",
       "                     u\"Lanin's\": FreqDist({u'NP$': 1}),\n",
       "                     u'Gursel': FreqDist({u'NP': 3}),\n",
       "                     u'picks': FreqDist({u'VBZ': 1}),\n",
       "                     u'Angels': FreqDist({u'NNS-TL': 1}),\n",
       "                     u'Williams': FreqDist({u'NP': 14}),\n",
       "                     u'dozen': FreqDist({u'NN': 5}),\n",
       "                     u'Then': FreqDist({u'JJ': 1, u'RB': 16}),\n",
       "                     u'person': FreqDist({u'NN': 9}),\n",
       "                     u'bleachers': FreqDist({u'NNS': 2}),\n",
       "                     u'responsible': FreqDist({u'JJ': 5}),\n",
       "                     u'Myron': FreqDist({u'NP': 1}),\n",
       "                     u'Band': FreqDist({u'NN-TL': 1}),\n",
       "                     u'recommended': FreqDist({u'VBD': 5, u'VBN': 4}),\n",
       "                     u'absorbed': FreqDist({u'VBN': 4}),\n",
       "                     u'Minister': FreqDist({u'NN-TL': 5}),\n",
       "                     u'They': FreqDist({u'PPSS': 62}),\n",
       "                     u'season': FreqDist({u'NN': 43}),\n",
       "                     u'Ask': FreqDist({u'VB-HL': 1}),\n",
       "                     u'grips': FreqDist({u'NNS': 2}),\n",
       "                     u'Missionary': FreqDist({u'NN-HL': 1}),\n",
       "                     u'Jones': FreqDist({u'NP': 19, u'NP-HL': 1, u'NP-TL': 2}),\n",
       "                     u'Lynn': FreqDist({u'NP': 4}),\n",
       "                     u'Wise': FreqDist({u'NP-TL': 1}),\n",
       "                     u'shall': FreqDist({u'MD': 5}),\n",
       "                     u'Wish': FreqDist({u'VB': 1}),\n",
       "                     u'object': FreqDist({u'NN': 1, u'VB': 1}),\n",
       "                     u'vexing': FreqDist({u'VBG': 1}),\n",
       "                     u'debonair': FreqDist({u'JJ': 1}),\n",
       "                     u'affirmation': FreqDist({u'NN': 1}),\n",
       "                     u'mouth': FreqDist({u'NN': 2}),\n",
       "                     u'letter': FreqDist({u'NN': 7}),\n",
       "                     u'conceded': FreqDist({u'VBD': 1}),\n",
       "                     u'putout': FreqDist({u'NN': 1}),\n",
       "                     u'Galveston': FreqDist({u'NP': 2}),\n",
       "                     u'episode': FreqDist({u'NN': 2}),\n",
       "                     u'Texans': FreqDist({u'NPS': 7}),\n",
       "                     u'professor': FreqDist({u'NN': 1}),\n",
       "                     u'camp': FreqDist({u'NN': 3, u'VB': 1}),\n",
       "                     u'Bulloch': FreqDist({u'NP': 2}),\n",
       "                     u'Journal-Bulletin': FreqDist({u'NP': 1}),\n",
       "                     u'ruthless': FreqDist({u'JJ': 1}),\n",
       "                     u'independents': FreqDist({u'NNS': 1}),\n",
       "                     u'prevention': FreqDist({u'NN': 2}),\n",
       "                     u'Mansion': FreqDist({u'NN-TL': 1}),\n",
       "                     u'detriment': FreqDist({u'NN': 1}),\n",
       "                     u'nineteenth': FreqDist({u'OD': 1}),\n",
       "                     u'mating': FreqDist({u'VBG': 1}),\n",
       "                     u'purged': FreqDist({u'VBN': 1}),\n",
       "                     u'incomplete': FreqDist({u'JJ': 1}),\n",
       "                     u'marvel': FreqDist({u'NN': 1, u'VB': 2}),\n",
       "                     u'saying': FreqDist({u'VBG': 8}),\n",
       "                     u'signatures': FreqDist({u'NNS': 5}),\n",
       "                     u'bomb': FreqDist({u'NN': 10}),\n",
       "                     u'reactor': FreqDist({u'NN': 3}),\n",
       "                     u'Symonds': FreqDist({u'NP': 1}),\n",
       "                     u'U-2': FreqDist({u'NN': 1}),\n",
       "                     u'Union': FreqDist({u'NN-TL': 14}),\n",
       "                     u'orchestra': FreqDist({u'NN': 9}),\n",
       "                     u'meetings': FreqDist({u'NNS': 5}),\n",
       "                     u'Agency': FreqDist({u'NN-TL': 1}),\n",
       "                     u'parolees': FreqDist({u'NNS': 2}),\n",
       "                     u'nominated': FreqDist({u'VBN': 2}),\n",
       "                     u'undue': FreqDist({u'JJ': 2}),\n",
       "                     u\"Communism's\": FreqDist({u'NN$-TL': 1}),\n",
       "                     u'cooking': FreqDist({u'NN': 1}),\n",
       "                     u'judgeship': FreqDist({u'NN': 1}),\n",
       "                     u'Paradise': FreqDist({u'NN-TL': 2}),\n",
       "                     u'culminates': FreqDist({u'VBZ': 1}),\n",
       "                     u'driving': FreqDist({u'NN': 3, u'VBG': 9}),\n",
       "                     u'Congressional': FreqDist({u'JJ': 1, u'JJ-TL': 2}),\n",
       "                     u'Meyner': FreqDist({u'NP': 3}),\n",
       "                     u'touches': FreqDist({u'NNS': 1, u'VBZ': 1}),\n",
       "                     u'busy': FreqDist({u'JJ': 3}),\n",
       "                     u'clicked': FreqDist({u'VBN': 1}),\n",
       "                     u'Extend': FreqDist({u'VB': 1}),\n",
       "                     u'695': FreqDist({u'CD': 1}),\n",
       "                     u'headline': FreqDist({u'NN': 2}),\n",
       "                     u'menu': FreqDist({u'NN': 1}),\n",
       "                     u'Moller': FreqDist({u'NP': 1}),\n",
       "                     u'than': FreqDist({u'CS': 68, u'IN': 70}),\n",
       "                     u'Tiao': FreqDist({u'NP': 1}),\n",
       "                     u'theme': FreqDist({u'NN': 5}),\n",
       "                     u'touched': FreqDist({u'VBD': 1, u'VBN': 1}),\n",
       "                     u'rich': FreqDist({u'JJ': 5}),\n",
       "                     u'Coliseum': FreqDist({u'NP-TL': 1}),\n",
       "                     u'submarine-ball': FreqDist({u'NN': 1}),\n",
       "                     u\"Berlin's\": FreqDist({u'NP$': 1}),\n",
       "                     u'plate': FreqDist({u'NN': 5}),\n",
       "                     u'D.C.': FreqDist({u'NP': 3}),\n",
       "                     u'$15': FreqDist({u'NNS': 1}),\n",
       "                     u'Nevertheless': FreqDist({u'RB': 1}),\n",
       "                     u'television': FreqDist({u'NN': 13}),\n",
       "                     u\"AID's\": FreqDist({u'NN': 1}),\n",
       "                     u'pocket': FreqDist({u'NN': 1}),\n",
       "                     u'Mears': FreqDist({u'NP': 1}),\n",
       "                     u\"Ruth's\": FreqDist({u'NP$': 7}),\n",
       "                     u'Sports': FreqDist({u'NNS-TL': 4}),\n",
       "                     u'societies': FreqDist({u'NNS': 2}),\n",
       "                     u'Senators': FreqDist({u'NNS': 1, u'NNS-TL': 3}),\n",
       "                     u'greens': FreqDist({u'NNS': 2}),\n",
       "                     u'bloodstream': FreqDist({u'NN': 1}),\n",
       "                     u'ever': FreqDist({u'RB': 32}),\n",
       "                     u'Rip': FreqDist({u'NP': 1}),\n",
       "                     u'Rio': FreqDist({u'NP': 2}),\n",
       "                     u'three-year': FreqDist({u'JJ': 2}),\n",
       "                     u'flanked': FreqDist({u'VBN': 1}),\n",
       "                     u'release': FreqDist({u'NN': 3}),\n",
       "                     u\"leader's\": FreqDist({u'NN$': 4}),\n",
       "                     u'U-I': FreqDist({u'NN': 1}),\n",
       "                     u'respond': FreqDist({u'VB': 1}),\n",
       "                     u'mandatory': FreqDist({u'JJ': 1}),\n",
       "                     u'disaster': FreqDist({u'NN': 1}),\n",
       "                     u'fair': FreqDist({u'JJ': 6, u'JJ-HL': 1, u'NN': 3}),\n",
       "                     u'Bennington': FreqDist({u'NP': 1}),\n",
       "                     u'transferred': FreqDist({u'VBD': 1}),\n",
       "                     u'pads': FreqDist({u'NNS': 1}),\n",
       "                     u'Brevard': FreqDist({u'NP': 4, u'NP-TL': 1}),\n",
       "                     u'glad': FreqDist({u'JJ': 1}),\n",
       "                     u'result': FreqDist({u'NN': 29, u'VB': 1}),\n",
       "                     u'fail': FreqDist({u'VB': 2}),\n",
       "                     u'Ave.': FreqDist({u'NN-TL': 10}),\n",
       "                     u'resigned': FreqDist({u'VBD': 5}),\n",
       "                     u'best': FreqDist({u'JJT': 26,\n",
       "                               u'JJT-HL': 1,\n",
       "                               u'RBT': 1,\n",
       "                               u'VB': 1}),\n",
       "                     u'pricking': FreqDist({u'VBG': 1}),\n",
       "                     u\"Braves'\": FreqDist({u'NNS$-TL': 1}),\n",
       "                     u'lots': FreqDist({u'NNS': 3}),\n",
       "                     u'Heinkel': FreqDist({u'NP': 2}),\n",
       "                     u'rings': FreqDist({u'NNS': 2}),\n",
       "                     u\"'20's\": FreqDist({u'NNS': 1}),\n",
       "                     u'injuries': FreqDist({u'NNS': 3}),\n",
       "                     u'224-170': FreqDist({u'CD': 1}),\n",
       "                     u'pressures': FreqDist({u'NNS': 1}),\n",
       "                     u'score': FreqDist({u'NN': 9, u'VB': 2}),\n",
       "                     u'Lockies': FreqDist({u'NPS': 2}),\n",
       "                     u'toolmaker': FreqDist({u'NN': 1}),\n",
       "                     u'preserve': FreqDist({u'VB': 4}),\n",
       "                     u'indecisive': FreqDist({u'JJ': 1}),\n",
       "                     u'redistricting': FreqDist({u'VBG': 1}),\n",
       "                     u'never': FreqDist({u'RB': 38}),\n",
       "                     u\"Meyner's\": FreqDist({u'NP$': 1}),\n",
       "                     u'nationwide': FreqDist({u'JJ': 2}),\n",
       "                     u'nature': FreqDist({u'NN': 7}),\n",
       "                     u'rolled': FreqDist({u'VBD': 1, u'VBN': 1}),\n",
       "                     u'punted': FreqDist({u'VBD': 1}),\n",
       "                     u'authorizing': FreqDist({u'VBG': 2}),\n",
       "                     u'lefthanders': FreqDist({u'NNS': 1}),\n",
       "                     u'drew': FreqDist({u'VBD': 6}),\n",
       "                     u'extent': FreqDist({u'NN': 1}),\n",
       "                     u'Bronx': FreqDist({u'NP': 5}),\n",
       "                     u'Peterson': FreqDist({u'NP': 4}),\n",
       "                     u'roller': FreqDist({u'NN': 1}),\n",
       "                     u'Capello': FreqDist({u'FW-NN-TL': 1}),\n",
       "                     u\"war's\": FreqDist({u'NN$': 1}),\n",
       "                     u'accident': FreqDist({u'NN': 7}),\n",
       "                     u'met': FreqDist({u'VBD': 4, u'VBN': 4}),\n",
       "                     u'country': FreqDist({u'NN': 24}),\n",
       "                     u'conclusions': FreqDist({u'NNS': 1}),\n",
       "                     u'demanded': FreqDist({u'VBD': 2, u'VBN': 1}),\n",
       "                     u'Vacancy': FreqDist({u'NN-TL': 1}),\n",
       "                     u'planned': FreqDist({u'VBD': 3,\n",
       "                               u'VBN': 5,\n",
       "                               u'VBN-HL': 1}),\n",
       "                     u'logic': FreqDist({u'NN': 1}),\n",
       "                     u'federalism': FreqDist({u'NN': 1}),\n",
       "                     u'argue': FreqDist({u'VB': 2}),\n",
       "                     u'asked': FreqDist({u'VBD': 19,\n",
       "                               u'VBN': 14,\n",
       "                               u'VBN-HL': 1}),\n",
       "                     u'30th': FreqDist({u'OD-TL': 1}),\n",
       "                     u'Apartment': FreqDist({u'NN-TL': 1}),\n",
       "                     u'liberal-conservative': FreqDist({u'JJ': 1}),\n",
       "                     u'troublesome': FreqDist({u'JJ': 1}),\n",
       "                     u'25%': FreqDist({u'NN': 1}),\n",
       "                     u'102': FreqDist({u'CD': 1}),\n",
       "                     u'month-long': FreqDist({u'JJ': 1}),\n",
       "                     u'250': FreqDist({u'CD': 2}),\n",
       "                     u'255': FreqDist({u'CD-TL': 1}),\n",
       "                     u'relearns': FreqDist({u'VBZ': 1}),\n",
       "                     u'Clarence': FreqDist({u'NP': 3}),\n",
       "                     u'reconsideration': FreqDist({u'NN': 2}),\n",
       "                     u'Sitting': FreqDist({u'VBG': 1}),\n",
       "                     u'union': FreqDist({u'NN': 21}),\n",
       "                     u'Rizzuto': FreqDist({u'NP': 1}),\n",
       "                     u'breakoff': FreqDist({u'NN': 1}),\n",
       "                     u'.': FreqDist({u'.': 4012, u'.-HL': 18}),\n",
       "                     u'Nischwitz': FreqDist({u'NP': 3}),\n",
       "                     u'extraction': FreqDist({u'NN': 1}),\n",
       "                     u'startled': FreqDist({u'VBD': 1}),\n",
       "                     u'stadium': FreqDist({u'NN': 2, u'NN-HL': 1}),\n",
       "                     u'Cherry': FreqDist({u'NN-TL': 3}),\n",
       "                     u'privilege': FreqDist({u'NN': 3}),\n",
       "                     u'one-week-old': FreqDist({u'JJ': 1}),\n",
       "                     u'Flowers': FreqDist({u'NNS-TL': 1, u'NPS': 1}),\n",
       "                     u'dots': FreqDist({u'NNS': 1}),\n",
       "                     u'Precise': FreqDist({u'JJ-HL': 1}),\n",
       "                     u'life': FreqDist({u'NN': 17}),\n",
       "                     u'retrospect': FreqDist({u'NN': 1}),\n",
       "                     u'Tokyo': FreqDist({u'NP': 1}),\n",
       "                     u'worker': FreqDist({u'NN': 2}),\n",
       "                     u'allotting': FreqDist({u'VBG': 1}),\n",
       "                     u'Stella': FreqDist({u'NP': 1}),\n",
       "                     u'1,212,000': FreqDist({u'CD': 1}),\n",
       "                     u'child': FreqDist({u'NN': 9}),\n",
       "                     u'worked': FreqDist({u'VBD': 8, u'VBN': 4}),\n",
       "                     u'Gloriana': FreqDist({u'NP': 3}),\n",
       "                     u'Holmes': FreqDist({u'NP': 9}),\n",
       "                     u'commerce': FreqDist({u'NN': 3}),\n",
       "                     u'presidency': FreqDist({u'NN': 1, u'NN-HL': 1}),\n",
       "                     u'administrative': FreqDist({u'JJ': 3}),\n",
       "                     u'employ': FreqDist({u'NN': 2}),\n",
       "                     u'misconstrued': FreqDist({u'VBN': 1}),\n",
       "                     u'1213-15': FreqDist({u'CD-TL': 1}),\n",
       "                     u'Campbell': FreqDist({u'NP': 1}),\n",
       "                     u\"Gannon's\": FreqDist({u'NP$': 1}),\n",
       "                     u'Brandt': FreqDist({u'NP': 5}),\n",
       "                     u'Zurcher': FreqDist({u'NP': 2}),\n",
       "                     u'played': FreqDist({u'VBD': 12,\n",
       "                               u'VBD-HL': 1,\n",
       "                               u'VBN': 6}),\n",
       "                     u'Innumerable': FreqDist({u'JJ': 1}),\n",
       "                     u'conditioned': FreqDist({u'VBN': 2}),\n",
       "                     u'player': FreqDist({u'NN': 6}),\n",
       "                     u'eighteen': FreqDist({u'CD': 3}),\n",
       "                     u'London-based': FreqDist({u'JJ': 1}),\n",
       "                     u'Courtney': FreqDist({u'NP': 1}),\n",
       "                     u'Puerto': FreqDist({u'NP': 2}),\n",
       "                     u'churchmen': FreqDist({u'NNS': 2}),\n",
       "                     u'doorman': FreqDist({u'NN': 1}),\n",
       "                     u'specter': FreqDist({u'NN': 1}),\n",
       "                     u'trusted': FreqDist({u'VBD': 1, u'VBN': 1}),\n",
       "                     u'Phouma': FreqDist({u'NP': 3}),\n",
       "                     u'damaged': FreqDist({u'VBD': 1, u'VBN': 1}),\n",
       "                     u'Valley': FreqDist({u'NN-TL': 1}),\n",
       "                     u\"Dresbachs'\": FreqDist({u'NPS$': 1}),\n",
       "                     u'things': FreqDist({u'NNS': 10}),\n",
       "                     u'cumulative': FreqDist({u'JJ': 1}),\n",
       "                     u'rebellion': FreqDist({u'NN': 1}),\n",
       "                     u'Newman': FreqDist({u'NP': 1}),\n",
       "                     u'socialized': FreqDist({u'VBN': 1}),\n",
       "                     u'300': FreqDist({u'CD': 6}),\n",
       "                     u'harmony': FreqDist({u'NN': 1}),\n",
       "                     u'babies': FreqDist({u'NNS': 2}),\n",
       "                     u'pre-school': FreqDist({u'JJ': 1}),\n",
       "                     u'fairly': FreqDist({u'QL': 3}),\n",
       "                     u'Budapest': FreqDist({u'NP': 1, u'NP-TL': 1}),\n",
       "                     u'saluted': FreqDist({u'VBN': 1}),\n",
       "                     u'Maybe': FreqDist({u'RB': 2}),\n",
       "                     u'torpedoes': FreqDist({u'NNS': 1}),\n",
       "                     u'Angeles': FreqDist({u'NP': 9, u'NP-TL': 3}),\n",
       "                     u'photographers': FreqDist({u'NNS': 1}),\n",
       "                     u'Peking': FreqDist({u'NP': 1}),\n",
       "                     u'Living': FreqDist({u'VBG-TL': 3}),\n",
       "                     u'5-to-2': FreqDist({u'CD': 1}),\n",
       "                     u'5-to-3': FreqDist({u'CD': 1}),\n",
       "                     u\"Stevenses'\": FreqDist({u'NPS$': 1}),\n",
       "                     u'protected': FreqDist({u'VBN-HL': 1}),\n",
       "                     u'furlough': FreqDist({u'NN': 1}),\n",
       "                     u'matters': FreqDist({u'NNS': 3}),\n",
       "                     u'vice-president': FreqDist({u'NN': 2}),\n",
       "                     u'academic': FreqDist({u'JJ': 9, u'NN': 1}),\n",
       "                     u\"d'etat\": FreqDist({u'FW-IN+NN': 1}),\n",
       "                     u'telephone': FreqDist({u'NN': 8}),\n",
       "                     u'echoes': FreqDist({u'NNS': 1}),\n",
       "                     u'corporate': FreqDist({u'JJ': 3}),\n",
       "                     u'Funeral': FreqDist({u'NN': 3, u'NN-TL': 2}),\n",
       "                     u'fittest': FreqDist({u'JJT': 1}),\n",
       "                     u'opinions': FreqDist({u'NNS': 3}),\n",
       "                     u'spurred': FreqDist({u'VBD': 1}),\n",
       "                     u'provocation': FreqDist({u'NN': 2}),\n",
       "                     u'capitol': FreqDist({u'NN': 1}),\n",
       "                     u'sleeps': FreqDist({u'VBZ': 1}),\n",
       "                     u'Subsequent': FreqDist({u'JJ': 1}),\n",
       "                     u'distribute': FreqDist({u'VB': 2}),\n",
       "                     u'fantastic': FreqDist({u'JJ': 1}),\n",
       "                     u'plight': FreqDist({u'NN': 1}),\n",
       "                     u'rushing': FreqDist({u'VBG': 5}),\n",
       "                     u'succeeding': FreqDist({u'VBG': 1}),\n",
       "                     u'previous': FreqDist({u'JJ': 11}),\n",
       "                     u'ham': FreqDist({u'NN': 2}),\n",
       "                     u'duffer': FreqDist({u'NN': 1}),\n",
       "                     u'Oscar': FreqDist({u'NP': 2}),\n",
       "                     u'ease': FreqDist({u'VB': 2}),\n",
       "                     u'Odell': FreqDist({u'NP': 1}),\n",
       "                     u'had': FreqDist({u'HVD': 260, u'HVD-HL': 1, u'HVN': 18}),\n",
       "                     u'emphasis': FreqDist({u'NN': 5}),\n",
       "                     u'Leonard': FreqDist({u'NP': 6}),\n",
       "                     u'Mohammedanism': FreqDist({u'NP': 1}),\n",
       "                     u'Connecticut': FreqDist({u'NP': 2}),\n",
       "                     u'collections': FreqDist({u'NNS': 4}),\n",
       "                     u'easy': FreqDist({u'JJ': 4}),\n",
       "                     u'prison': FreqDist({u'NN': 7}),\n",
       "                     u'has': FreqDist({u'HVZ': 300}),\n",
       "                     u'hat': FreqDist({u'NN': 1}),\n",
       "                     u'Apart': FreqDist({u'RB': 3}),\n",
       "                     u'municipal': FreqDist({u'JJ': 4}),\n",
       "                     u'mediocre': FreqDist({u'JJ': 1}),\n",
       "                     u'Dawson': FreqDist({u'NP': 1}),\n",
       "                     u'survival': FreqDist({u'NN': 2}),\n",
       "                     u'disagreement': FreqDist({u'NN': 3}),\n",
       "                     u'possible': FreqDist({u'JJ': 28}),\n",
       "                     u\"rocket's\": FreqDist({u'NN$': 2}),\n",
       "                     u'firmer': FreqDist({u'JJR': 3}),\n",
       "                     u'possibly': FreqDist({u'RB': 3}),\n",
       "                     u'opener': FreqDist({u'NN': 3}),\n",
       "                     u'birth': FreqDist({u'NN': 5}),\n",
       "                     u'Missouri': FreqDist({u'NP': 1, u'NP-TL': 2}),\n",
       "                     u'clustered': FreqDist({u'VBN': 1}),\n",
       "                     u'pertinent': FreqDist({u'JJ': 1}),\n",
       "                     u'unique': FreqDist({u'JJ': 1}),\n",
       "                     u'$2,170': FreqDist({u'NNS': 1}),\n",
       "                     u'desire': FreqDist({u'NN': 4}),\n",
       "                     u'county': FreqDist({u'NN': 25, u'NN-TL': 1}),\n",
       "                     u\"bridegroom's\": FreqDist({u'NN$': 2}),\n",
       "                     u'seaside': FreqDist({u'NN': 1}),\n",
       "                     u'misled': FreqDist({u'VBN': 1}),\n",
       "                     u'steps': FreqDist({u'NNS': 8}),\n",
       "                     u'Shrove': FreqDist({u'NP': 1}),\n",
       "                     u\"court's\": FreqDist({u'NN$': 1}),\n",
       "                     u'Further': FreqDist({u'JJR': 2}),\n",
       "                     u'Pentagon': FreqDist({u'NN-TL': 2}),\n",
       "                     u\"Louis's\": FreqDist({u'NP$': 1}),\n",
       "                     u'Warren': FreqDist({u'NP': 12, u'NP-TL': 1}),\n",
       "                     u'attorney': FreqDist({u'NN': 17}),\n",
       "                     u'right': FreqDist({u'JJ': 18,\n",
       "                               u'NN': 8,\n",
       "                               u'QL': 4,\n",
       "                               u'RB': 3}),\n",
       "                     u'old': FreqDist({u'JJ': 23}),\n",
       "                     u'crowd': FreqDist({u'NN': 8}),\n",
       "                     u'$1,000,000,000': FreqDist({u'NNS': 1}),\n",
       "                     u'creed': FreqDist({u'NN': 3}),\n",
       "                     u'Expressways': FreqDist({u'NNS-TL': 1}),\n",
       "                     u'crown': FreqDist({u'NN': 2}),\n",
       "                     u'System': FreqDist({u'NN-TL': 2}),\n",
       "                     u'culpas': FreqDist({u'FW-NNS': 1}),\n",
       "                     u'3,325': FreqDist({u'CD': 1}),\n",
       "                     u'Conservation': FreqDist({u'NN-HL': 1, u'NN-TL': 3}),\n",
       "                     u'glove': FreqDist({u'NN': 4}),\n",
       "                     u'Noel': FreqDist({u'NP': 1}),\n",
       "                     u'Between': FreqDist({u'IN-TL': 1}),\n",
       "                     u'enemies': FreqDist({u'NNS': 1}),\n",
       "                     u'MacDonald': FreqDist({u'NP': 2}),\n",
       "                     u'for': FreqDist({u'CS': 14,\n",
       "                               u'IN': 905,\n",
       "                               u'IN-HL': 12,\n",
       "                               u'IN-TL': 10,\n",
       "                               u'RB': 2}),\n",
       "                     u'bottom': FreqDist({u'NN': 1}),\n",
       "                     u'p.m.': FreqDist({u'RB': 38}),\n",
       "                     u'contributing': FreqDist({u'VBG': 1}),\n",
       "                     u'individuals': FreqDist({u'NNS': 5}),\n",
       "                     u'summoned': FreqDist({u'VBD': 2,\n",
       "                               u'VBN': 1,\n",
       "                               u'VBN-HL': 1}),\n",
       "                     u'pondered': FreqDist({u'VBD': 1}),\n",
       "                     u'Celebration': FreqDist({u'NN-TL': 1}),\n",
       "                     u'Donnelly': FreqDist({u'NP': 1}),\n",
       "                     u'Instant': FreqDist({u'JJ-HL': 1}),\n",
       "                     u'Calls': FreqDist({u'VBZ-HL': 2}),\n",
       "                     u\"ol'\": FreqDist({u'JJ': 1}),\n",
       "                     u'dental': FreqDist({u'JJ': 6}),\n",
       "                     u'6,000': FreqDist({u'CD': 1}),\n",
       "                     u'shifting': FreqDist({u'VBG': 2}),\n",
       "                     u'defensive': FreqDist({u'JJ': 7}),\n",
       "                     u'losing': FreqDist({u'VBG': 5}),\n",
       "                     u'brokerage': FreqDist({u'NN': 1}),\n",
       "                     u'manufacturing': FreqDist({u'NN': 1, u'VBG': 4}),\n",
       "                     u'shaken': FreqDist({u'VBN': 2}),\n",
       "                     u'Macon': FreqDist({u'NP': 1, u'NP-TL': 1}),\n",
       "                     u'benches': FreqDist({u'NNS': 1}),\n",
       "                     u'boiling': FreqDist({u'VBG': 1}),\n",
       "                     u'dollars': FreqDist({u'NNS': 15}),\n",
       "                     u'citizens': FreqDist({u'NNS': 6}),\n",
       "                     u'globetrotter': FreqDist({u'NN': 1}),\n",
       "                     u'despair': FreqDist({u'NN': 1}),\n",
       "                     u'stoked': FreqDist({u'VBN': 1}),\n",
       "                     u'lacked': FreqDist({u'VBD': 3}),\n",
       "                     u'slightly': FreqDist({u'QL': 1, u'RB': 3}),\n",
       "                     u'meddle': FreqDist({u'VB': 1}),\n",
       "                     u'consulting': FreqDist({u'VBG': 3}),\n",
       "                     u'statements': FreqDist({u'NNS': 9}),\n",
       "                     u'Cal.': FreqDist({u'NP': 1}),\n",
       "                     u'Blacks': FreqDist({u'NPS': 1}),\n",
       "                     u'honeymoon': FreqDist({u'NN': 2, u'VB': 1}),\n",
       "                     u'Scotland': FreqDist({u'NP': 2}),\n",
       "                     u'son': FreqDist({u'NN': 21, u'NN-HL': 1}),\n",
       "                     u'undermining': FreqDist({u'VBG': 1}),\n",
       "                     u'Misses': FreqDist({u'NNS-TL': 1}),\n",
       "                     u'one-fourth': FreqDist({u'NN': 1}),\n",
       "                     u'raiser': FreqDist({u'NN': 1}),\n",
       "                     u'raises': FreqDist({u'NNS': 3}),\n",
       "                     u'sow': FreqDist({u'VB': 1}),\n",
       "                     u'stockholder': FreqDist({u'NN': 1}),\n",
       "                     u'reducing': FreqDist({u'VBG': 2}),\n",
       "                     u'defendants': FreqDist({u'NNS': 9}),\n",
       "                     u'Hank': FreqDist({u'NP': 4}),\n",
       "                     u'collectors': FreqDist({u'NNS': 1}),\n",
       "                     u'162': FreqDist({u'CD': 1}),\n",
       "                     u'support': FreqDist({u'NN': 21, u'NN-HL': 1, u'VB': 2}),\n",
       "                     u'constantly': FreqDist({u'RB': 3}),\n",
       "                     u'busy-work': FreqDist({u'NN': 1}),\n",
       "                     u'Hand': FreqDist({u'NP': 1}),\n",
       "                     u'symphony': FreqDist({u'NN': 1}),\n",
       "                     u\"boy's\": FreqDist({u'NN$': 2}),\n",
       "                     u'10,000,000': FreqDist({u'CD': 1}),\n",
       "                     u'resulted': FreqDist({u'VBD': 5, u'VBN': 1}),\n",
       "                     u'call': FreqDist({u'NN': 4, u'VB': 10}),\n",
       "                     u'happy': FreqDist({u'JJ': 12}),\n",
       "                     u'offer': FreqDist({u'NN': 1, u'VB': 8}),\n",
       "                     u'understandably': FreqDist({u'RB': 1}),\n",
       "                     u'forming': FreqDist({u'VBG': 2}),\n",
       "                     u'Completing': FreqDist({u'VBG': 1}),\n",
       "                     u'Acres': FreqDist({u'NNS-TL': 2}),\n",
       "                     u'talents': FreqDist({u'NNS': 2}),\n",
       "                     u'understandable': FreqDist({u'JJ': 2}),\n",
       "                     u'incinerator': FreqDist({u'NN': 1}),\n",
       "                     u'underdeveloped': FreqDist({u'JJ': 1}),\n",
       "                     u'duel': FreqDist({u'NN': 3}),\n",
       "                     u\"else's\": FreqDist({u'RB$': 1}),\n",
       "                     u'Toni': FreqDist({u'NP': 1}),\n",
       "                     u'inside': FreqDist({u'IN': 3, u'NN': 1}),\n",
       "                     u'goutte': FreqDist({u'FW-NN': 1}),\n",
       "                     u'Waldorf-Astoria': FreqDist({u'NP-TL': 2}),\n",
       "                     u'County': FreqDist({u'NN-TL': 35}),\n",
       "                     u'unanimous': FreqDist({u'JJ': 2}),\n",
       "                     u'Guests': FreqDist({u'NNS': 3, u'NNS-HL': 1}),\n",
       "                     u'Tony': FreqDist({u'NP': 3}),\n",
       "                     u'Hawksley': FreqDist({u'NP': 10}),\n",
       "                     u'Enrique': FreqDist({u'NP': 1}),\n",
       "                     u'panels': FreqDist({u'NNS': 5}),\n",
       "                     u'Weatherford': FreqDist({u'NP': 2}),\n",
       "                     u'Stallard': FreqDist({u'NP': 1}),\n",
       "                     u'8,293': FreqDist({u'CD': 1}),\n",
       "                     u'150': FreqDist({u'CD': 3}),\n",
       "                     u'juvenile': FreqDist({u'JJ': 3, u'NN': 2}),\n",
       "                     u'later': FreqDist({u'JJR': 1, u'RBR': 33}),\n",
       "                     u'liberal': FreqDist({u'JJ': 4}),\n",
       "                     u'154': FreqDist({u'CD': 3}),\n",
       "                     u'Trooper': FreqDist({u'NN-TL': 1}),\n",
       "                     u'Six': FreqDist({u'CD': 2, u'CD-HL': 2, u'NP': 1}),\n",
       "                     u'proven': FreqDist({u'VBN': 1}),\n",
       "                     u\"''\": FreqDist({u\"''\": 702}),\n",
       "                     u'Virgin': FreqDist({u'NN-TL': 2}),\n",
       "                     u'Squad': FreqDist({u'NN-HL': 1}),\n",
       "                     u'exist': FreqDist({u'VB': 1}),\n",
       "                     u'Pittsboro': FreqDist({u'NP': 1}),\n",
       "                     u'Sid': FreqDist({u'NP-TL': 1}),\n",
       "                     u'segregationist': FreqDist({u'NN': 1}),\n",
       "                     u'acacia': FreqDist({u'NN': 3}),\n",
       "                     u'dealer': FreqDist({u'NN': 4}),\n",
       "                     u'negotiations': FreqDist({u'NNS': 11}),\n",
       "                     u'Knoll': FreqDist({u'NN-TL': 1}),\n",
       "                     u'McDaniel': FreqDist({u'NP': 2}),\n",
       "                     u'college': FreqDist({u'NN': 18}),\n",
       "                     u'protested': FreqDist({u'VBD': 1}),\n",
       "                     u'Noting': FreqDist({u'VBG': 2}),\n",
       "                     u'Practice': FreqDist({u'NN': 1}),\n",
       "                     u'eventual': FreqDist({u'JJ': 3}),\n",
       "                     u'floor': FreqDist({u'NN': 14}),\n",
       "                     u'Track': FreqDist({u'NN-TL': 1}),\n",
       "                     u'Possible': FreqDist({u'JJ': 1}),\n",
       "                     u'crowns': FreqDist({u'NNS': 1}),\n",
       "                     u'flood': FreqDist({u'NN': 1}),\n",
       "                     u'Nolan': FreqDist({u'NP': 1}),\n",
       "                     u'republic': FreqDist({u'NN': 1}),\n",
       "                     u'amicable': FreqDist({u'JJ': 1}),\n",
       "                     u'ambitious': FreqDist({u'JJ': 1}),\n",
       "                     u'entomologist': FreqDist({u'NN': 1}),\n",
       "                     u'Norristown': FreqDist({u'NP': 1}),\n",
       "                     u'smell': FreqDist({u'VB': 2}),\n",
       "                     u'roll': FreqDist({u'NN': 2, u'VB': 2}),\n",
       "                     u'steamship': FreqDist({u'NN': 1}),\n",
       "                     u'intend': FreqDist({u'VB': 2, u'VB-HL': 1}),\n",
       "                     u'Lenny': FreqDist({u'NP': 1}),\n",
       "                     u'models': FreqDist({u'NNS': 2}),\n",
       "                     u'high-wage': FreqDist({u'NN': 1}),\n",
       "                     u'Western-style': FreqDist({u'JJ-TL': 1}),\n",
       "                     u'Luthuli': FreqDist({u'NP': 1}),\n",
       "                     u'eminent': FreqDist({u'JJ': 1}),\n",
       "                     u'scale': FreqDist({u'NN': 1}),\n",
       "                     u'smelling': FreqDist({u'VBG': 1}),\n",
       "                     u'persecution': FreqDist({u'NN': 1}),\n",
       "                     u'source': FreqDist({u'NN': 7}),\n",
       "                     u'Charley': FreqDist({u'NP': 4}),\n",
       "                     u'fastened': FreqDist({u'VBN': 1}),\n",
       "                     u'Mostly': FreqDist({u'RB': 1}),\n",
       "                     u'Debutante': FreqDist({u'NN': 1, u'NN-TL': 1}),\n",
       "                     u\"workers'\": FreqDist({u'NNS$': 1}),\n",
       "                     u'Charles': FreqDist({u'NP': 21, u'NP-TL': 1}),\n",
       "                     u'Quaker': FreqDist({u'NP': 1}),\n",
       "                     u\"O'Hare\": FreqDist({u'NP': 1}),\n",
       "                     u'Fifth': FreqDist({u'OD-TL': 1}),\n",
       "                     u'time': FreqDist({u'NN': 97}),\n",
       "                     u'push': FreqDist({u'VB': 2}),\n",
       "                     u'conferred': FreqDist({u'VBD': 1}),\n",
       "                     u'Empire': FreqDist({u'NN-TL': 2}),\n",
       "                     u'Principal': FreqDist({u'JJS': 1, u'NN': 1}),\n",
       "                     u'gown': FreqDist({u'NN': 6}),\n",
       "                     u'smelts': FreqDist({u'NNS': 1}),\n",
       "                     u'chain': FreqDist({u'NN': 2}),\n",
       "                     u'criteria': FreqDist({u'NNS': 2}),\n",
       "                     u'Indians': FreqDist({u'NPS': 3, u'NPS-HL': 1}),\n",
       "                     u'Nicklaus': FreqDist({u'NP': 1}),\n",
       "                     u'integration': FreqDist({u'NN': 6}),\n",
       "                     u'tee': FreqDist({u'NN': 4}),\n",
       "                     u'theaters': FreqDist({u'NNS': 6}),\n",
       "                     u'645-acre': FreqDist({u'JJ': 1}),\n",
       "                     u'Wabash': FreqDist({u'NP-TL': 1}),\n",
       "                     u'Indiana': FreqDist({u'NP': 2}),\n",
       "                     u'chair': FreqDist({u'NN': 1}),\n",
       "                     u'$278,877,000': FreqDist({u'NNS': 1}),\n",
       "                     u'Beyeler': FreqDist({u'NP': 2}),\n",
       "                     u'ballet': FreqDist({u'FW-NN': 1, u'NN': 6}),\n",
       "                     u'92': FreqDist({u'CD': 1}),\n",
       "                     u'8861': FreqDist({u'CD': 1}),\n",
       "                     u'900-student': FreqDist({u'JJ': 1}),\n",
       "                     u'sweat-suits': FreqDist({u'NNS': 1}),\n",
       "                     u'shouldda': FreqDist({u'MD+HV': 1}),\n",
       "                     u'carpenters': FreqDist({u'NNS': 1}),\n",
       "                     u'Bahi': FreqDist({u'NP': 1}),\n",
       "                     u'96': FreqDist({u'CD': 1}),\n",
       "                     u'verbally': FreqDist({u'RB': 1}),\n",
       "                     u'recipient': FreqDist({u'NN': 3}),\n",
       "                     u'Prize': FreqDist({u'NN-TL': 1}),\n",
       "                     u'Political': FreqDist({u'JJ': 1}),\n",
       "                     u\"Howsam's\": FreqDist({u'NP$': 1}),\n",
       "                     u'choice': FreqDist({u'NN': 6}),\n",
       "                     u'Lyle': FreqDist({u'NP-TL': 1}),\n",
       "                     u'alcoholics': FreqDist({u'NNS': 2}),\n",
       "                     u'mourn': FreqDist({u'VB': 1}),\n",
       "                     u'stays': FreqDist({u'NNS': 1}),\n",
       "                     u'southpaw': FreqDist({u'NN': 5}),\n",
       "                     u'right-handed': FreqDist({u'RB': 1}),\n",
       "                     u'exact': FreqDist({u'JJ': 1}),\n",
       "                     u'minute': FreqDist({u'NN': 1}),\n",
       "                     u'Tau': FreqDist({u'NP': 1}),\n",
       "                     u'1.10.8': FreqDist({u'CD': 1}),\n",
       "                     u'3-month': FreqDist({u'JJ': 1}),\n",
       "                     u'Fifteen': FreqDist({u'CD': 1}),\n",
       "                     u'1.10.4': FreqDist({u'CD': 1}),\n",
       "                     u'rights': FreqDist({u'NNS': 3}),\n",
       "                     u'Tax': FreqDist({u'NN-TL': 5}),\n",
       "                     u'make': FreqDist({u'VB': 43}),\n",
       "                     u'1.10.1': FreqDist({u'CD': 1}),\n",
       "                     u'leave': FreqDist({u'VB': 5}),\n",
       "                     u'solved': FreqDist({u'VBN': 2}),\n",
       "                     u'depositors': FreqDist({u'NNS': 1}),\n",
       "                     u'settle': FreqDist({u'VB': 1}),\n",
       "                     u'team': FreqDist({u'NN': 33}),\n",
       "                     u'Patience': FreqDist({u'NN-HL': 1}),\n",
       "                     u'prevent': FreqDist({u'VB': 12}),\n",
       "                     u'spiritual': FreqDist({u'JJ': 1}),\n",
       "                     u'$80,738': FreqDist({u'NNS': 2}),\n",
       "                     u'M.': FreqDist({u'NP': 22}),\n",
       "                     u'prediction': FreqDist({u'NN': 1}),\n",
       "                     u'sign': FreqDist({u'NN': 3, u'VB': 6}),\n",
       "                     u'Bldg.': FreqDist({u'NN-TL': 1}),\n",
       "                     u'3505o': FreqDist({u'CD-TL': 1}),\n",
       "                     u'ogled': FreqDist({u'VBN': 1}),\n",
       "                     u'Lt.': FreqDist({u'NN-TL': 1}),\n",
       "                     u'Look': FreqDist({u'VB': 3}),\n",
       "                     u'Associations': FreqDist({u'NNS-TL': 1}),\n",
       "                     u'Adamson': FreqDist({u'NP': 1}),\n",
       "                     u'jeopardy': FreqDist({u'NN': 1}),\n",
       "                     u'celebrated': FreqDist({u'VBD': 1, u'VBN': 1}),\n",
       "                     u'locker': FreqDist({u'NN': 3}),\n",
       "                     u'melt': FreqDist({u'VB': 1}),\n",
       "                     u'current': FreqDist({u'JJ': 13}),\n",
       "                     u'wayward': FreqDist({u'JJ': 1}),\n",
       "                     u\"Tuttle's\": FreqDist({u'NP$': 1}),\n",
       "                     u'Southwest': FreqDist({u'JJ-TL': 2}),\n",
       "                     u'boost': FreqDist({u'NN': 3, u'VB': 3}),\n",
       "                     u'Lopez': FreqDist({u'NP': 1}),\n",
       "                     u'Me': FreqDist({u'PPO': 2}),\n",
       "                     u'drafted': FreqDist({u'VBD': 1}),\n",
       "                     u'jury': FreqDist({u'NN': 43, u'NN-HL': 1}),\n",
       "                     u'funeral': FreqDist({u'NN': 2}),\n",
       "                     u'understanding': FreqDist({u'NN': 3, u'VBG': 2}),\n",
       "                     u\"Leopold's\": FreqDist({u'NP$': 1}),\n",
       "                     u'yards': FreqDist({u'NNS': 22}),\n",
       "                     u'address': FreqDist({u'NN': 12}),\n",
       "                     u'alone': FreqDist({u'RB': 8}),\n",
       "                     u'along': FreqDist({u'IN': 21, u'RB': 13}),\n",
       "                     u'$80': FreqDist({u'NNS': 1}),\n",
       "                     u'My': FreqDist({u'PP$': 9}),\n",
       "                     u'Godwin': FreqDist({u'NP': 1}),\n",
       "                     u'nitroglycerine': FreqDist({u'NN': 1}),\n",
       "                     u'passengers': FreqDist({u'NNS': 3}),\n",
       "                     u'revenues': FreqDist({u'NNS': 13}),\n",
       "                     u'Associated': FreqDist({u'VBN-TL': 2}),\n",
       "                     u'Cornell': FreqDist({u'NP': 1}),\n",
       "                     u'transition': FreqDist({u'NN': 3}),\n",
       "                     u'brilliant': FreqDist({u'JJ': 3}),\n",
       "                     u'saws': FreqDist({u'NNS': 2}),\n",
       "                     u'studied': FreqDist({u'VBD': 4,\n",
       "                               u'VBN': 2,\n",
       "                               u'VBN-HL': 1}),\n",
       "                     u'wherever': FreqDist({u'WRB': 1}),\n",
       "                     u'Casals': FreqDist({u'NP': 1}),\n",
       "                     u'accomplished': FreqDist({u'VBD': 1, u'VBN': 3}),\n",
       "                     u'studies': FreqDist({u'NNS': 2}),\n",
       "                     u'influx': FreqDist({u'NN-HL': 1}),\n",
       "                     u'tasks': FreqDist({u'NNS': 2}),\n",
       "                     u'love': FreqDist({u'VB': 3}),\n",
       "                     u'Hagner': FreqDist({u'NP': 1}),\n",
       "                     u'Thornton': FreqDist({u'NP': 1}),\n",
       "                     u'prefer': FreqDist({u'VB': 3}),\n",
       "                     u\"Leavitt's\": FreqDist({u'NP$': 1}),\n",
       "                     u'jolt': FreqDist({u'VB': 1}),\n",
       "                     u'Lisle': FreqDist({u'NP': 1}),\n",
       "                     u'redevelopers': FreqDist({u'NNS': 1}),\n",
       "                     u'Davidson': FreqDist({u'NP': 1}),\n",
       "                     u'opposes': FreqDist({u'VBZ': 2}),\n",
       "                     u'cocktail': FreqDist({u'NN': 6}),\n",
       "                     u'August': FreqDist({u'NP': 12}),\n",
       "                     u'working': FreqDist({u'VBG': 16}),\n",
       "                     u'Sarasota': FreqDist({u'NP': 1}),\n",
       "                     u'positive': FreqDist({u'JJ': 2}),\n",
       "                     u'angry': FreqDist({u'JJ': 3}),\n",
       "                     u'tightly': FreqDist({u'QL': 1}),\n",
       "                     u'Ghormley': FreqDist({u'NP': 1}),\n",
       "                     u'cherished': FreqDist({u'VBN': 1}),\n",
       "                     u'wood': FreqDist({u'NN': 1}),\n",
       "                     u'opposed': FreqDist({u'VBD': 3, u'VBN': 6}),\n",
       "                     u'films': FreqDist({u'NNS': 3}),\n",
       "                     u'scope': FreqDist({u'NN': 1}),\n",
       "                     u'Pinsk': FreqDist({u'NP': 1}),\n",
       "                     u'Those': FreqDist({u'DTS': 8}),\n",
       "                     u'loving': FreqDist({u'VBG': 1}),\n",
       "                     u'``': FreqDist({u'``': 732}),\n",
       "                     u'Klaus': FreqDist({u'NP': 1}),\n",
       "                     u'afford': FreqDist({u'VB': 4}),\n",
       "                     u'subsistence': FreqDist({u'NN': 1}),\n",
       "                     u'apparent': FreqDist({u'JJ': 7}),\n",
       "                     u'validity': FreqDist({u'NN': 1}),\n",
       "                     u'Jimmy': FreqDist({u'NP': 4}),\n",
       "                     u'virtue': FreqDist({u'NN': 2}),\n",
       "                     u'Achaeans': FreqDist({u'NPS': 1}),\n",
       "                     u'scratches': FreqDist({u'NNS': 3}),\n",
       "                     u'Retail': FreqDist({u'JJ-TL': 1}),\n",
       "                     u'Opelika': FreqDist({u'NP': 1}),\n",
       "                     ...})"
      ]
     },
     "execution_count": 445,
     "metadata": {},
     "output_type": "execute_result"
    }
   ],
   "source": [
    "cfd = nltk.ConditionalFreqDist(nltk.corpus.brown.tagged_words(categories='news'))\n",
    "cfd"
   ]
  },
  {
   "cell_type": "code",
   "execution_count": 446,
   "metadata": {
    "collapsed": false
   },
   "outputs": [
    {
     "data": {
      "text/plain": [
       "FreqDist({(u'putt', u'VB'): 1,\n",
       "          (u'course', u'NN'): 24,\n",
       "          (u'fiery', u'JJ'): 1,\n",
       "          (u\"Redbirds'\", u'NPS$'): 1,\n",
       "          (u'Board', u'NN-HL'): 1,\n",
       "          (u'decolletage', u'NN'): 1,\n",
       "          (u'usual', u'JJ'): 5,\n",
       "          (u'tears', u'NNS'): 1,\n",
       "          (u'Kershbaum', u'NP'): 1,\n",
       "          (u'Said', u'VBD'): 2,\n",
       "          (u'implication', u'NN'): 1,\n",
       "          (u'Retail', u'JJ-TL'): 1,\n",
       "          (u'minor', u'NN'): 1,\n",
       "          (u'Audubon', u'NP-TL'): 3,\n",
       "          (u'competitor', u'NN'): 1,\n",
       "          (u'failed', u'VBD'): 14,\n",
       "          (u'Aaron', u'NP'): 1,\n",
       "          (u'policeman', u'NN'): 2,\n",
       "          (u'markets', u'NNS'): 1,\n",
       "          (u'Further', u'JJR'): 2,\n",
       "          (u'close', u'VB'): 2,\n",
       "          (u'filed', u'VBN'): 4,\n",
       "          (u'grasp', u'NN'): 1,\n",
       "          (u'Conference', u'NN-TL'): 2,\n",
       "          (u'prone', u'JJ'): 2,\n",
       "          (u'Decathlon', u'NN-TL'): 1,\n",
       "          (u'against', u'IN'): 76,\n",
       "          (u'To', u'TO'): 15,\n",
       "          (u'Dodge', u'NP'): 3,\n",
       "          (u'change', u'NN-HL'): 1,\n",
       "          (u'Lloyd', u'NP-TL'): 1,\n",
       "          (u'called', u'VBN'): 18,\n",
       "          (u'For', u'IN'): 22,\n",
       "          (u'controlling', u'VBG'): 3,\n",
       "          (u'totalitarian', u'JJ'): 1,\n",
       "          (u'fast-spreading', u'JJ'): 1,\n",
       "          (u'neo-stagnationist', u'NN'): 1,\n",
       "          (u'rounded', u'VBD'): 1,\n",
       "          (u'clerical', u'JJ'): 4,\n",
       "          (u'Lawford', u'NP'): 1,\n",
       "          (u\"Year's\", u'NN$-TL'): 1,\n",
       "          (u'higher', u'JJR'): 23,\n",
       "          (u'rainstorm', u'NN'): 1,\n",
       "          (u'economic', u'JJ'): 15,\n",
       "          (u'Elevated', u'VBN-TL'): 1,\n",
       "          (u'Presidents', u'NNS-TL'): 1,\n",
       "          (u'stretching', u'VBG'): 1,\n",
       "          (u'nearby', u'JJ'): 4,\n",
       "          (u'cheery', u'JJ'): 2,\n",
       "          (u'nineteen', u'CD'): 1,\n",
       "          (u'Dallas', u'NP-TL'): 11,\n",
       "          (u'flat', u'NN'): 3,\n",
       "          (u'Edwards', u'NP'): 1,\n",
       "          (u'protested', u'VBD'): 1,\n",
       "          (u'parimutuels', u'NNS'): 1,\n",
       "          (u'guaranteed', u'VBN'): 1,\n",
       "          (u'chaos', u'NN'): 2,\n",
       "          (u'occupants', u'NNS'): 1,\n",
       "          (u'gives', u'VBZ'): 3,\n",
       "          (u'recommendation', u'NN'): 1,\n",
       "          (u'Santa', u'NP-HL'): 1,\n",
       "          (u'Peace', u'NN-TL'): 5,\n",
       "          (u'hunting', u'VBG'): 2,\n",
       "          (u'ladder', u'NN'): 1,\n",
       "          (u'shown', u'VBN'): 12,\n",
       "          (u'moment', u'NN'): 4,\n",
       "          (u'Chantilly', u'NP'): 1,\n",
       "          (u'Nazarene', u'JJ-TL'): 1,\n",
       "          (u'appointed', u'VBD'): 1,\n",
       "          (u'tests', u'NNS'): 3,\n",
       "          (u'free-for-all', u'JJ'): 1,\n",
       "          (u'single', u'JJ'): 1,\n",
       "          (u'kids', u'NNS'): 5,\n",
       "          (u'untold', u'JJ'): 1,\n",
       "          (u'broken', u'VBN'): 3,\n",
       "          (u'car', u'NN'): 49,\n",
       "          (u'bowed', u'VBD'): 1,\n",
       "          (u'Skinny', u'NP'): 1,\n",
       "          (u'1,512', u'CD'): 1,\n",
       "          (u\"Bucs'\", u'NPS$'): 1,\n",
       "          (u'General', u'JJ-TL'): 10,\n",
       "          (u'1671', u'CD-TL'): 1,\n",
       "          (u'restless', u'JJ'): 2,\n",
       "          (u'soviet', u'NN'): 1,\n",
       "          (u'767', u'CD'): 1,\n",
       "          (u'Gomez', u'NP'): 1,\n",
       "          (u'solid', u'JJ'): 5,\n",
       "          (u'150', u'CD'): 3,\n",
       "          (u'well-springs', u'NNS'): 1,\n",
       "          (u'Don', u'NP'): 8,\n",
       "          (u'Election', u'NN'): 2,\n",
       "          (u'violation', u'NN'): 3,\n",
       "          (u'estimates', u'NNS'): 3,\n",
       "          (u'indefinite', u'JJ'): 1,\n",
       "          (u'petitions', u'NNS'): 5,\n",
       "          (u'driven', u'VBN'): 12,\n",
       "          (u'Morocco', u'NP-TL'): 1,\n",
       "          (u'incomplete', u'JJ'): 1,\n",
       "          (u'Court', u'NN-TL'): 25,\n",
       "          (u'bags', u'NNS'): 2,\n",
       "          (u'5,000', u'CD'): 3,\n",
       "          (u'Gore', u'NP'): 2,\n",
       "          (u'Innumerable', u'JJ'): 1,\n",
       "          (u'V-1', u'NN'): 3,\n",
       "          (u'cocktail', u'NN'): 6,\n",
       "          (u'Glen', u'NP'): 3,\n",
       "          (u'6-3-3', u'CD'): 1,\n",
       "          (u'reacted', u'VBD'): 2,\n",
       "          (u'Phyfe', u'NP'): 4,\n",
       "          (u'effective', u'JJ'): 15,\n",
       "          (u'undefined', u'JJ'): 1,\n",
       "          (u'Comic', u'NN'): 1,\n",
       "          (u'Health', u'NN-TL'): 5,\n",
       "          (u'races', u'NNS'): 1,\n",
       "          (u'replace', u'VB'): 4,\n",
       "          (u'Living', u'VBG-TL'): 3,\n",
       "          (u'built', u'VBN'): 6,\n",
       "          (u'grab', u'VB'): 2,\n",
       "          (u'railroad', u'NN'): 9,\n",
       "          (u'Second', u'OD'): 2,\n",
       "          (u'anticipated', u'VBN'): 4,\n",
       "          (u'records', u'NNS'): 8,\n",
       "          (u'Rights', u'NNS-TL'): 1,\n",
       "          (u'hearing', u'NN'): 10,\n",
       "          (u'visible', u'JJ'): 1,\n",
       "          (u'646', u'CD'): 1,\n",
       "          (u'divorced', u'VBN'): 1,\n",
       "          (u'mechanic', u'NN'): 1,\n",
       "          (u'had', u'HVD-HL'): 1,\n",
       "          (u'Darrow', u'NP'): 1,\n",
       "          (u'testimony', u'NN'): 3,\n",
       "          (u'infiltrating', u'VBG'): 1,\n",
       "          (u'Defends', u'VBZ-HL'): 1,\n",
       "          (u'Vernon', u'NP-TL'): 1,\n",
       "          (u'two-run', u'JJ'): 2,\n",
       "          (u'embroidered', u'VBN'): 1,\n",
       "          (u'welcomed', u'VBN'): 2,\n",
       "          (u'Had', u'HVD'): 2,\n",
       "          (u'places', u'NNS'): 4,\n",
       "          (u'manufacture', u'NN'): 1,\n",
       "          (u'Reichenberg', u'NP'): 2,\n",
       "          (u'gangsters', u'NNS'): 1,\n",
       "          (u'Ogden', u'NP-HL'): 1,\n",
       "          (u'C', u'NN'): 3,\n",
       "          (u'tagged', u'VBN'): 1,\n",
       "          (u'TNT', u'NN'): 1,\n",
       "          (u'Testament', u'NN-TL'): 1,\n",
       "          (u'Methodist', u'JJ-TL'): 2,\n",
       "          (u'Philippine', u'JJ'): 1,\n",
       "          (u'violence', u'NN'): 3,\n",
       "          (u'Nanook', u'NP-TL'): 1,\n",
       "          (u'$30', u'NNS'): 1,\n",
       "          (u'$740,000', u'NNS'): 1,\n",
       "          (u'ankles', u'NNS'): 2,\n",
       "          (u'obstacles', u'NNS'): 2,\n",
       "          (u'pride', u'NN'): 2,\n",
       "          (u'Class-D', u'NP'): 1,\n",
       "          (u'Day', u'NN-TL'): 9,\n",
       "          (u'battery', u'NN'): 1,\n",
       "          (u'Niven', u'NP'): 1,\n",
       "          (u'44', u'CD'): 1,\n",
       "          (u'rarity', u'NN'): 1,\n",
       "          (u'producer-hubby', u'NN'): 1,\n",
       "          (u'par', u'NN'): 7,\n",
       "          (u'Therefore', u'RB'): 1,\n",
       "          (u'1912', u'CD'): 1,\n",
       "          (u'Increase', u'NN-HL'): 1,\n",
       "          (u'thwarted', u'VBN'): 1,\n",
       "          (u'single', u'AP'): 17,\n",
       "          (u'voters', u'NNS'): 12,\n",
       "          (u'taxiing', u'VBG'): 1,\n",
       "          (u'barred', u'VBN'): 1,\n",
       "          (u'completing', u'VBG'): 1,\n",
       "          (u\"Landis'\", u'NP$'): 1,\n",
       "          (u'SWC', u'NN'): 1,\n",
       "          (u'la', u'FW-AT'): 2,\n",
       "          (u'doubleheader', u'NN'): 1,\n",
       "          (u'lining', u'VBG'): 1,\n",
       "          (u'disillusioned', u'VBN'): 1,\n",
       "          (u'Communist', u'NN-TL'): 28,\n",
       "          (u'reasoning', u'NN'): 1,\n",
       "          (u'prop', u'VB'): 1,\n",
       "          (u'Out', u'RP'): 1,\n",
       "          (u'There', u'RB'): 5,\n",
       "          (u'Elburn', u'NP-HL'): 1,\n",
       "          (u'skins', u'NNS'): 1,\n",
       "          (u'complicated', u'VBD'): 1,\n",
       "          (u'traveled', u'VBD'): 1,\n",
       "          (u'championship', u'NN'): 5,\n",
       "          (u'Biblically', u'QL'): 1,\n",
       "          (u'regulate', u'VB'): 1,\n",
       "          (u'automobile', u'NN'): 4,\n",
       "          (u'reams', u'NNS'): 1,\n",
       "          (u'clothes', u'NNS'): 3,\n",
       "          (u'past', u'NN'): 14,\n",
       "          (u'Annapolis', u'NP-TL'): 1,\n",
       "          (u'flood', u'NN'): 1,\n",
       "          (u'gathered', u'VBD'): 3,\n",
       "          (u'basis', u'NN'): 15,\n",
       "          (u'1.23', u'CD'): 1,\n",
       "          (u'Neveh', u'NP'): 1,\n",
       "          (u'bids', u'NNS'): 3,\n",
       "          (u'strings', u'NNS'): 4,\n",
       "          (u'You', u'PPSS'): 11,\n",
       "          (u\"railroad's\", u'NN$'): 1,\n",
       "          (u'rich', u'JJ'): 5,\n",
       "          (u'depended', u'VBD'): 3,\n",
       "          (u'chemistry', u'NN'): 2,\n",
       "          (u'Italy', u'NP'): 1,\n",
       "          (u\"Committee's\", u'NN$-TL'): 1,\n",
       "          (u'get', u'VB'): 66,\n",
       "          (u'rigging', u'VBG'): 1,\n",
       "          (u'buyers', u'NNS'): 2,\n",
       "          (u'movies', u'NNS'): 4,\n",
       "          (u'Olvey', u'NP'): 1,\n",
       "          (u'eight-year', u'JJ'): 1,\n",
       "          (u'McLauchlin', u'NP'): 1,\n",
       "          (u'no-hit', u'NN'): 2,\n",
       "          (u'preservation', u'NN'): 1,\n",
       "          (u'renting', u'VBG'): 1,\n",
       "          (u'subpenas', u'NNS'): 1,\n",
       "          (u'revenuers', u'NNS'): 1,\n",
       "          (u'possible', u'JJ'): 28,\n",
       "          (u'fearing', u'VBG'): 1,\n",
       "          (u'testing', u'VBG'): 1,\n",
       "          (u'1991', u'CD'): 1,\n",
       "          (u'admitting', u'VBG'): 1,\n",
       "          (u'runway', u'NN'): 2,\n",
       "          (u'Boy', u'NN-HL'): 1,\n",
       "          (u'reception', u'NN'): 9,\n",
       "          (u'ceased', u'VBN'): 1,\n",
       "          (u'plowing', u'VBG'): 2,\n",
       "          (u'designed', u'VBN'): 16,\n",
       "          (u'accumulation', u'NN'): 1,\n",
       "          (u'19', u'CD-TL'): 2,\n",
       "          (u'tripled', u'VBD'): 1,\n",
       "          (u'Lawrence', u'NP'): 10,\n",
       "          (u'Development', u'NN-TL'): 2,\n",
       "          (u'grandfather', u'NN'): 1,\n",
       "          (u'informed', u'VBD'): 2,\n",
       "          (u'Dixiecrats', u'NPS'): 1,\n",
       "          (u'feel', u'VB'): 16,\n",
       "          (u'lever', u'NN'): 1,\n",
       "          (u'escort', u'NN'): 1,\n",
       "          (u'questioned', u'VBD'): 2,\n",
       "          (u'properties', u'NNS'): 1,\n",
       "          (u'edging', u'VBG'): 1,\n",
       "          (u'wallet', u'NN'): 1,\n",
       "          (u'Ku', u'NP'): 2,\n",
       "          (u'commenced', u'VBD'): 1,\n",
       "          (u'120', u'CD'): 2,\n",
       "          (u'Tarrant', u'NP'): 1,\n",
       "          (u'Basin', u'NN-TL'): 1,\n",
       "          (u'crisis', u'NN'): 4,\n",
       "          (u'pitfall', u'NN'): 1,\n",
       "          (u'wildlife', u'NN'): 2,\n",
       "          (u'so-called', u'JJ'): 2,\n",
       "          (u'returns', u'NNS-HL'): 1,\n",
       "          (u'gamble', u'VB'): 1,\n",
       "          (u'church-state', u'NN'): 1,\n",
       "          (u'Oxnard', u'NP'): 1,\n",
       "          (u'lazy', u'JJ'): 1,\n",
       "          (u'notes', u'VBZ'): 1,\n",
       "          (u'Backs', u'VBZ-HL'): 1,\n",
       "          (u'undermining', u'VBG'): 1,\n",
       "          (u'downed', u'VBD'): 1,\n",
       "          (u'dissent', u'NN'): 1,\n",
       "          (u'Reyes', u'NP-TL'): 1,\n",
       "          (u'widely', u'RB'): 2,\n",
       "          (u'marks', u'NNS'): 1,\n",
       "          (u'Parmer', u'NP'): 1,\n",
       "          (u\"manufacturers'\", u'NNS$'): 1,\n",
       "          (u'George', u'NP'): 23,\n",
       "          (u\"Kennedy's\", u'NP$'): 11,\n",
       "          (u'banked', u'VBD'): 1,\n",
       "          (u'Johns', u'NP-HL'): 1,\n",
       "          (u'Madame', u'NP'): 2,\n",
       "          (u'Palo', u'NP'): 1,\n",
       "          (u'$22', u'NNS'): 1,\n",
       "          (u'brook', u'NN'): 1,\n",
       "          (u'Virsaladze', u'NP'): 1,\n",
       "          (u'reactions', u'NNS'): 1,\n",
       "          (u'draught', u'NN'): 1,\n",
       "          (u'Split', u'VBN'): 1,\n",
       "          (u'Avery', u'NP'): 1,\n",
       "          (u\"Blanchard's\", u'NP$-TL'): 1,\n",
       "          (u'lieutenants', u'NNS'): 2,\n",
       "          (u'Within', u'IN'): 5,\n",
       "          (u'Swim', u'NP-HL'): 1,\n",
       "          (u'unpleasant', u'JJ'): 1,\n",
       "          (u'spree', u'NN'): 2,\n",
       "          (u'Jackson', u'NP-HL'): 1,\n",
       "          (u'Nilsen', u'NP'): 1,\n",
       "          (u'towards', u'IN'): 1,\n",
       "          (u'6-ounce', u'JJ'): 1,\n",
       "          (u'happy', u'JJ'): 12,\n",
       "          (u'Performers', u'NNS'): 1,\n",
       "          (u'investor', u'NN'): 1,\n",
       "          (u'officered', u'VBN'): 1,\n",
       "          (u\"Europe's\", u'NP$'): 2,\n",
       "          (u'derived', u'VBN'): 1,\n",
       "          (u'encounter', u'VB'): 1,\n",
       "          (u'walked', u'VBN'): 1,\n",
       "          (u'substitutionary', u'JJ'): 1,\n",
       "          (u'alterations', u'NNS'): 1,\n",
       "          (u'precede', u'VB'): 1,\n",
       "          (u'doubling', u'VBG'): 1,\n",
       "          (u'stew', u'NN'): 1,\n",
       "          (u'kidnaped', u'VBN'): 1,\n",
       "          (u'Simon', u'NP'): 2,\n",
       "          (u'murdered', u'VBN'): 1,\n",
       "          (u'circulation', u'NN'): 2,\n",
       "          (u'Myron', u'NP'): 1,\n",
       "          (u'Plains', u'NNS-TL'): 5,\n",
       "          (u\"Khrushchev's\", u'NP$'): 3,\n",
       "          (u'Skid', u'NN-TL'): 1,\n",
       "          (u'tail', u'NN'): 2,\n",
       "          (u'wavelengths', u'NNS'): 1,\n",
       "          (u'lowered', u'VBN'): 1,\n",
       "          (u'specialized', u'VBN'): 2,\n",
       "          (u'sparing', u'VBG'): 1,\n",
       "          (u'22', u'CD'): 14,\n",
       "          (u'Robinson', u'NP-HL'): 1,\n",
       "          (u'character', u'NN'): 2,\n",
       "          (u'evaluating', u'VBG'): 1,\n",
       "          (u'hosts', u'NNS'): 1,\n",
       "          (u'high-ceilinged', u'JJ'): 1,\n",
       "          (u'Norell', u'NP'): 2,\n",
       "          (u'combined', u'VBN'): 6,\n",
       "          (u'psychology', u'NN'): 1,\n",
       "          (u'Leatherman', u'NP'): 1,\n",
       "          (u'rental', u'JJ'): 1,\n",
       "          (u'lovers', u'NNS'): 1,\n",
       "          (u'Sulphur', u'NN-TL'): 1,\n",
       "          (u'Bellwood', u'NP'): 1,\n",
       "          (u'Newark', u'NP'): 1,\n",
       "          (u'Whitney', u'NP'): 1,\n",
       "          (u'228-229', u'CD-TL'): 1,\n",
       "          (u'controls', u'VBZ'): 1,\n",
       "          (u'Va.', u'NP'): 2,\n",
       "          (u'gain', u'VB'): 2,\n",
       "          (u'north', u'NR'): 7,\n",
       "          (u'experts', u'NNS'): 3,\n",
       "          (u\"Journal-Bulletin's\", u'NP$'): 1,\n",
       "          (u'DiMaggio', u'NP'): 4,\n",
       "          (u'racing', u'VBG'): 2,\n",
       "          (u'scoop', u'NN'): 1,\n",
       "          (u'arrests', u'NNS'): 2,\n",
       "          (u'ethics', u'NNS'): 1,\n",
       "          (u'nonfiction', u'NN'): 2,\n",
       "          (u'Russian', u'JJ'): 8,\n",
       "          (u'film', u'NN'): 10,\n",
       "          (u'11', u'CD'): 17,\n",
       "          (u'Toronto', u'NP'): 1,\n",
       "          (u'swung', u'VBN'): 1,\n",
       "          (u'Spice-Nice', u'NP'): 3,\n",
       "          (u'know-how', u'NN'): 1,\n",
       "          (u'colonel', u'NN'): 1,\n",
       "          (u'finale', u'NN'): 1,\n",
       "          (u'reorganization', u'NN'): 3,\n",
       "          (u'residing', u'VBG'): 2,\n",
       "          (u'Athlete', u'NN-TL'): 1,\n",
       "          (u'rates', u'NNS'): 9,\n",
       "          (u'regrets', u'VBZ'): 1,\n",
       "          (u'launched', u'VBN'): 2,\n",
       "          (u'Leroy', u'NP'): 1,\n",
       "          (u'Gate', u'NN-TL'): 2,\n",
       "          (u'personalities', u'NNS'): 2,\n",
       "          (u'Blacks', u'NPS'): 1,\n",
       "          (u'confession', u'NN'): 3,\n",
       "          (u'intense', u'JJ'): 1,\n",
       "          (u'crystal', u'NN'): 1,\n",
       "          (u'$800', u'NNS'): 3,\n",
       "          (u'Soon', u'RB'): 2,\n",
       "          (u'far-out', u'JJ'): 1,\n",
       "          (u'Gander', u'NP'): 1,\n",
       "          (u'62', u'CD'): 1,\n",
       "          (u'Romans', u'NPS'): 1,\n",
       "          (u'Gallery', u'NN-TL'): 6,\n",
       "          (u'regime', u'NN'): 5,\n",
       "          (u'Magarrell', u'NP'): 1,\n",
       "          (u'effects', u'NNS'): 1,\n",
       "          (u'Pacific', u'NP-TL'): 1,\n",
       "          (u'$3100', u'NNS'): 1,\n",
       "          (u'flower', u'NN'): 1,\n",
       "          (u'ADC', u'NN'): 8,\n",
       "          (u'drought-seared', u'JJ'): 1,\n",
       "          (u'ballet', u'NN'): 6,\n",
       "          (u'thereby', u'RB'): 4,\n",
       "          (u'Taussig', u'NP'): 2,\n",
       "          (u'punching', u'VBG'): 1,\n",
       "          (u'Ridge', u'NN-TL'): 3,\n",
       "          (u'I', u'NN'): 1,\n",
       "          (u'Stewart', u'NP-TL'): 1,\n",
       "          (u'Simmonsville', u'NP'): 1,\n",
       "          (u'Janice', u'NP'): 1,\n",
       "          (u'Speaker', u'NN-TL'): 3,\n",
       "          (u'Hughes', u'NP-TL'): 1,\n",
       "          (u'mark', u'NN'): 8,\n",
       "          (u'metropolitan', u'JJ'): 2,\n",
       "          (u'Ludwig', u'NP'): 1,\n",
       "          (u'Lefty', u'NN-TL'): 2,\n",
       "          (u'payments', u'NNS-HL'): 1,\n",
       "          (u'$400', u'NNS'): 1,\n",
       "          (u'Things', u'NNS'): 1,\n",
       "          (u'robbing', u'VBG'): 1,\n",
       "          (u'45', u'CD'): 6,\n",
       "          (u'obstacle', u'NN'): 1,\n",
       "          (u'measures', u'NNS'): 2,\n",
       "          (u'meteorological', u'JJ'): 1,\n",
       "          (u'cooled', u'VBN'): 1,\n",
       "          (u'Professors', u'NNS-TL'): 2,\n",
       "          (u'tomorrow', u'NR-HL'): 1,\n",
       "          (u'comprised', u'VBN'): 1,\n",
       "          (u'funds', u'NNS-HL'): 1,\n",
       "          (u'branch', u'NN'): 1,\n",
       "          (u'so-so', u'JJ'): 2,\n",
       "          (u'K.J.P.', u'NP'): 1,\n",
       "          (u'tops', u'NNS'): 1,\n",
       "          (u'executive', u'NN'): 12,\n",
       "          (u'Tuttle', u'NP'): 4,\n",
       "          (u'Which', u'WDT'): 1,\n",
       "          (u'allocated', u'VBD'): 1,\n",
       "          (u'Italian', u'JJ-TL'): 2,\n",
       "          (u'action', u'NN'): 20,\n",
       "          (u'city', u'NN'): 49,\n",
       "          (u'4-under-par', u'JJ'): 1,\n",
       "          (u'give', u'VB'): 32,\n",
       "          (u'jersey', u'NN'): 1,\n",
       "          (u'arrangements', u'NNS'): 4,\n",
       "          (u'battalion', u'NN'): 1,\n",
       "          (u'occasional', u'JJ'): 1,\n",
       "          (u'Detroit', u'NP'): 4,\n",
       "          (u'Taylor', u'NP-TL'): 1,\n",
       "          (u'might', u'NN'): 2,\n",
       "          (u'attitude', u'NN'): 2,\n",
       "          (u'know', u'VB-HL'): 2,\n",
       "          (u'policies', u'NNS'): 8,\n",
       "          (u'5155', u'CD-TL'): 1,\n",
       "          (u'regrettable', u'JJ'): 1,\n",
       "          (u'up', u'IN'): 18,\n",
       "          (u'managed', u'VBD'): 1,\n",
       "          (u'taxpayers', u'NNS'): 5,\n",
       "          (u'form', u'VB'): 7,\n",
       "          (u'biggest', u'JJT'): 9,\n",
       "          (u'resembles', u'VBZ'): 1,\n",
       "          (u'federalize', u'VB'): 1,\n",
       "          (u'Gursel', u'NP'): 3,\n",
       "          (u'ordained', u'VBN'): 1,\n",
       "          (u'currently', u'RB'): 6,\n",
       "          (u'Battle', u'NN-TL'): 2,\n",
       "          (u'sponsors', u'NNS'): 1,\n",
       "          (u'Bonn', u'NP'): 1,\n",
       "          (u'Bowie', u'NP-HL'): 1,\n",
       "          (u'increasingly', u'RB'): 1,\n",
       "          (u\"Russell's\", u'NP$'): 1,\n",
       "          (u'invoking', u'VBG'): 2,\n",
       "          (u'next', u'AP'): 38,\n",
       "          (u'housed', u'VBN'): 1,\n",
       "          (u'version', u'NN'): 1,\n",
       "          (u'aunts', u'NNS'): 1,\n",
       "          (u'Merger', u'NN-HL'): 1,\n",
       "          (u'Yankee', u'NP'): 3,\n",
       "          (u'position', u'NN-HL'): 1,\n",
       "          (u'planned', u'VBD'): 3,\n",
       "          (u'powerful', u'JJ'): 3,\n",
       "          (u'Citizens', u'NNS-TL'): 5,\n",
       "          (u\"employers'\", u'NNS$'): 1,\n",
       "          (u'choke', u'VB'): 1,\n",
       "          (u'Kestner', u'NP'): 1,\n",
       "          (u'Union', u'NN-TL'): 14,\n",
       "          (u'mushrooms', u'NNS'): 1,\n",
       "          (u'feeble', u'JJ'): 1,\n",
       "          (u'Edwin', u'NP'): 3,\n",
       "          (u'countless', u'JJ'): 3,\n",
       "          (u'affair', u'NN'): 6,\n",
       "          (u'basketball', u'NN'): 5,\n",
       "          (u'constituted', u'VBN'): 1,\n",
       "          (u'masterful', u'JJ'): 1,\n",
       "          (u'enthralling', u'JJ'): 1,\n",
       "          (u\"Denver's\", u'NP$'): 1,\n",
       "          (u'provincial', u'JJ'): 1,\n",
       "          (u'Fortier', u'NP'): 1,\n",
       "          (u'illegitimacy', u'NN'): 1,\n",
       "          (u\"Case's\", u'NP$'): 1,\n",
       "          (u'Missiles', u'NNS-TL'): 1,\n",
       "          (u'demand', u'NN'): 15,\n",
       "          (u'married', u'VBN'): 8,\n",
       "          (u'Ohio', u'NP-HL'): 1,\n",
       "          (u'becoming', u'VBG'): 1,\n",
       "          (u'included', u'VBD'): 8,\n",
       "          (u'reaching', u'VBG'): 3,\n",
       "          (u'Handicapped', u'VBN-TL'): 1,\n",
       "          (u'Coal', u'NN-TL'): 1,\n",
       "          (u'income', u'NN'): 21,\n",
       "          (u\"Atlanta's\", u'NP$'): 4,\n",
       "          (u'done', u'VBN'): 24,\n",
       "          (u'Gamma', u'NN-TL'): 1,\n",
       "          (u'Maureen', u'NP'): 3,\n",
       "          (u'contain', u'VB'): 2,\n",
       "          (u'sons', u'NNS'): 4,\n",
       "          (u'magnificent', u'JJ'): 2,\n",
       "          (u'Weeks', u'NP'): 1,\n",
       "          (u'Maintenance', u'NN-TL'): 3,\n",
       "          (u'transports', u'NNS'): 1,\n",
       "          (u'loyalist', u'NN'): 1,\n",
       "          (u'wild', u'RB-HL'): 1,\n",
       "          (u'Symphony', u'NN-TL'): 5,\n",
       "          (u'Decorating', u'VBG'): 1,\n",
       "          (u'come', u'VBN'): 6,\n",
       "          (u'truths', u'NNS'): 1,\n",
       "          (u'Sens.', u'NNS-TL'): 1,\n",
       "          (u'TCU', u'NN'): 1,\n",
       "          (u'Bernhard', u'NP'): 1,\n",
       "          (u'poet', u'NN'): 1,\n",
       "          (u'26', u'CD'): 6,\n",
       "          (u'Nations', u'NNS-TL-HL'): 1,\n",
       "          (u'surprised', u'VBD'): 1,\n",
       "          (u'Little', u'AP'): 1,\n",
       "          (u'defendant', u'NN'): 3,\n",
       "          (u'feathers', u'NNS'): 1,\n",
       "          (u'humor', u'NN'): 4,\n",
       "          (u'skidded', u'VBD'): 2,\n",
       "          (u'delay', u'NN'): 3,\n",
       "          (u'Morton', u'NP'): 6,\n",
       "          (u'organized', u'VBD'): 1,\n",
       "          (u'vehicles', u'NNS'): 1,\n",
       "          (u'sex', u'NN'): 2,\n",
       "          (u'downstream', u'RB'): 1,\n",
       "          (u'Smallwood', u'NP'): 1,\n",
       "          (u'Conservation', u'NN-HL'): 1,\n",
       "          (u'grist', u'NN'): 1,\n",
       "          (u'seed', u'NN'): 1,\n",
       "          (u'Gene', u'NP'): 5,\n",
       "          (u'Yes', u'RB'): 3,\n",
       "          (u'pass', u'VB'): 10,\n",
       "          (u'disposition', u'NN'): 2,\n",
       "          (u'Soviet', u'NP'): 1,\n",
       "          (u'overcrowding', u'NN'): 1,\n",
       "          (u'strain', u'NN'): 3,\n",
       "          (u'notices', u'NNS'): 1,\n",
       "          (u'Schmidl-Seeberg', u'NP'): 1,\n",
       "          (u'meditating', u'VBG'): 1,\n",
       "          (u'argued', u'VBN'): 1,\n",
       "          (u'Yards', u'NNS-TL'): 1,\n",
       "          (u'Greyhound', u'NP'): 1,\n",
       "          (u'kicking', u'VBG'): 1,\n",
       "          (u'incinerator', u'NN'): 1,\n",
       "          (u'taking', u'VBG'): 15,\n",
       "          (u'Lexington', u'NP'): 1,\n",
       "          (u'Viewing', u'VBG'): 1,\n",
       "          (u'Calvary', u'NP'): 2,\n",
       "          (u'stroke', u'NN'): 6,\n",
       "          (u\"morning's\", u'NN$'): 1,\n",
       "          (u'quote', u'NN'): 1,\n",
       "          (u'more-than-ordinary', u'JJ'): 1,\n",
       "          (u'clashes', u'NNS'): 1,\n",
       "          (u'moderates', u'NNS'): 1,\n",
       "          (u'ranks', u'NNS'): 2,\n",
       "          (u'Recounting', u'VBG'): 1,\n",
       "          (u'gripped', u'VBD'): 1,\n",
       "          (u'part-time', u'JJ'): 1,\n",
       "          (u'Byrd', u'NP'): 1,\n",
       "          (u'crews', u'NNS'): 1,\n",
       "          (u'riot', u'NN'): 1,\n",
       "          (u'squeezed', u'VBN'): 2,\n",
       "          (u'9329', u'CD-TL'): 1,\n",
       "          (u\"Mexico's\", u'NP$-TL'): 1,\n",
       "          (u'450', u'CD'): 1,\n",
       "          (u'labor-management', u'NN'): 2,\n",
       "          (u'weary', u'JJ'): 1,\n",
       "          (u'bright', u'JJ'): 6,\n",
       "          (u'Heywood', u'NP'): 1,\n",
       "          (u'top', u'NN'): 10,\n",
       "          (u'nap', u'NN'): 1,\n",
       "          (u'pro-Communist', u'JJ'): 2,\n",
       "          (u'tournament', u'NN'): 13,\n",
       "          (u'O.', u'NP'): 6,\n",
       "          (u'clubs', u'NNS'): 3,\n",
       "          (u'headline', u'NN'): 2,\n",
       "          (u'send', u'VB'): 4,\n",
       "          (u'Indo-China', u'NP'): 1,\n",
       "          (u'5-game', u'JJ'): 1,\n",
       "          (u'opening', u'NN'): 7,\n",
       "          (u'exploratory', u'JJ'): 1,\n",
       "          (u'engagements', u'NNS'): 1,\n",
       "          (u\"Field's\", u'NP$'): 2,\n",
       "          (u'Phillies', u'NPS'): 3,\n",
       "          (u'figure', u'NN'): 7,\n",
       "          (u'Ensign', u'NP'): 1,\n",
       "          (u'Houk', u'NP'): 3,\n",
       "          (u'commented', u'VBN'): 1,\n",
       "          (u'compare', u'VB'): 1,\n",
       "          (u'Julian', u'NP'): 3,\n",
       "          (u'halt', u'VB'): 1,\n",
       "          (u'royal', u'JJ'): 4,\n",
       "          (u'future', u'NN-HL'): 1,\n",
       "          (u'please', u'VB'): 1,\n",
       "          (u'Mine', u'NN-TL'): 1,\n",
       "          (u'Seerey', u'NP'): 1,\n",
       "          (u'Participating', u'VBG'): 1,\n",
       "          (u'prize', u'NN'): 5,\n",
       "          (u'concessions', u'NNS'): 1,\n",
       "          (u'plan', u'VB'): 2,\n",
       "          (u'Athletic', u'JJ-TL'): 1,\n",
       "          (u'Double', u'JJ-HL'): 1,\n",
       "          (u'logical', u'JJ'): 2,\n",
       "          (u'Public', u'JJ-TL'): 5,\n",
       "          (u'live', u'VB'): 13,\n",
       "          (u'unknown', u'JJ'): 1,\n",
       "          (u'salesman', u'NN'): 2,\n",
       "          (u'bicameral', u'JJ'): 1,\n",
       "          (u'bit', u'NN'): 6,\n",
       "          (u'featured', u'VBN'): 3,\n",
       "          (u'ambiguous', u'JJ'): 1,\n",
       "          (u'31730', u'CD-TL'): 1,\n",
       "          (u'artistic', u'JJ'): 2,\n",
       "          (u'pad', u'VB'): 1,\n",
       "          (u'jurist', u'NN'): 2,\n",
       "          (u'Wendell', u'NP'): 6,\n",
       "          (u'blended', u'VBN'): 1,\n",
       "          (u'conquer', u'VB'): 1,\n",
       "          (u'butter', u'NN'): 2,\n",
       "          (u'crabapple', u'NN'): 1,\n",
       "          (u'long-range', u'NN'): 3,\n",
       "          (u'Ariz.', u'NP'): 5,\n",
       "          (u'calico', u'NN'): 1,\n",
       "          (u'woodcarver', u'NN'): 1,\n",
       "          (u'philosopher', u'NN'): 1,\n",
       "          (u'threaten', u'VB'): 3,\n",
       "          (u'gait', u'NN'): 1,\n",
       "          (u'imposes', u'VBZ'): 1,\n",
       "          (u'feminine', u'JJ'): 2,\n",
       "          (u'entrant', u'NN'): 1,\n",
       "          (u'Musica', u'FW-NN-TL'): 1,\n",
       "          (u'chairmen', u'NNS'): 3,\n",
       "          (u'strongly', u'RB'): 2,\n",
       "          (u'statements', u'NNS'): 9,\n",
       "          (u'Wexler', u'NP'): 6,\n",
       "          (u'staged', u'VBD'): 2,\n",
       "          (u'sections', u'NNS'): 1,\n",
       "          (u'blunt', u'JJ'): 1,\n",
       "          (u'rising', u'VBG'): 7,\n",
       "          (u'flow', u'VB'): 1,\n",
       "          (u'invaded', u'VBN'): 1,\n",
       "          (u'submarines', u'NNS'): 5,\n",
       "          (u'hospitable', u'JJ'): 1,\n",
       "          (u'aide', u'NN'): 1,\n",
       "          (u'dinner', u'NN'): 23,\n",
       "          (u'lukewarm', u'JJ'): 1,\n",
       "          (u'mined', u'VBD'): 1,\n",
       "          (u'Nischwitz', u'NP'): 3,\n",
       "          (u'disheartening', u'VBG'): 1,\n",
       "          (u'bodice', u'NN'): 1,\n",
       "          (u'underwriting', u'NN'): 1,\n",
       "          (u'evaluate', u'VB'): 1,\n",
       "          (u'125,000', u'CD'): 1,\n",
       "          (u'paving', u'VBG'): 1,\n",
       "          (u'frequent', u'JJ'): 2,\n",
       "          (u'speaker', u'NN'): 4,\n",
       "          (u'pursuit', u'NN'): 2,\n",
       "          (u'Greater', u'JJR-TL'): 2,\n",
       "          (u'13-8', u'CD'): 1,\n",
       "          (u\"clients'\", u'NNS$'): 1,\n",
       "          (u'decorating', u'VBG'): 1,\n",
       "          (u'52-year', u'JJ'): 1,\n",
       "          (u'Heritage', u'NN-TL'): 3,\n",
       "          (u'border', u'NN'): 2,\n",
       "          (u'packed', u'VBN'): 2,\n",
       "          (u'meager', u'JJ'): 1,\n",
       "          (u'Kerby', u'NP'): 1,\n",
       "          (u'rallies', u'NNS'): 1,\n",
       "          (u'Marin', u'NP-TL'): 2,\n",
       "          (u'Rhode', u'NP-TL'): 9,\n",
       "          (u'tusks', u'NNS'): 1,\n",
       "          (u'freed', u'VBN'): 1,\n",
       "          (u'providing', u'VBG'): 3,\n",
       "          (u'Tranquility', u'NN-TL'): 1,\n",
       "          (u'appropriations', u'NNS'): 1,\n",
       "          (u'Hill', u'NN-TL'): 12,\n",
       "          (u'smooth', u'JJ'): 1,\n",
       "          (u'545-yard', u'JJ'): 1,\n",
       "          (u'Bevo', u'NP'): 2,\n",
       "          (u'declines', u'NNS'): 1,\n",
       "          (u'Bonanza', u'NN-TL'): 1,\n",
       "          (u'approved', u'VBN'): 3,\n",
       "          (u'glamor', u'NN'): 2,\n",
       "          (u'Enforce', u'VB-HL'): 1,\n",
       "          (u'Tougas', u'NP'): 1,\n",
       "          (u'traveling', u'VBG'): 1,\n",
       "          (u'Buster', u'NP'): 2,\n",
       "          (u'got', u'VBD'): 42,\n",
       "          (u'only', u'QL'): 2,\n",
       "          (u'reconvenes', u'VBZ'): 1,\n",
       "          (u'inverted', u'VBN'): 1,\n",
       "          (u'spoken', u'VBN'): 2,\n",
       "          (u'Nev.', u'NP'): 1,\n",
       "          (u'Racquet', u'NP'): 1,\n",
       "          (u'annual', u'JJ'): 33,\n",
       "          (u'Mayoral', u'JJ-TL'): 1,\n",
       "          (u'Providence', u'NP'): 5,\n",
       "          (u'buildings', u'NNS-HL'): 1,\n",
       "          (u'blame', u'NN'): 1,\n",
       "          (u'attorney', u'NN'): 17,\n",
       "          (u'faces', u'NNS-HL'): 1,\n",
       "          (u'impact', u'NN'): 3,\n",
       "          (u'playoff', u'NN'): 2,\n",
       "          (u'O.', u'NP-TL'): 2,\n",
       "          (u'achievements', u'NNS'): 1,\n",
       "          (u'Bible', u'NP'): 5,\n",
       "          (u'dilemma', u'NN'): 1,\n",
       "          (u'Using', u'VBG'): 2,\n",
       "          (u'New', u'JJ-HL'): 2,\n",
       "          (u'literary', u'JJ'): 1,\n",
       "          (u'$100', u'NNS'): 7,\n",
       "          (u'extra', u'JJ'): 9,\n",
       "          (u'gains', u'NNS-HL'): 1,\n",
       "          (u'solos', u'NNS'): 1,\n",
       "          (u'Djakarta', u'NP'): 1,\n",
       "          (u'Hollander', u'NP'): 1,\n",
       "          (u'Rosburg', u'NP'): 4,\n",
       "          (u'possessing', u'VBG'): 1,\n",
       "          (u'fountain', u'NN'): 1,\n",
       "          (u'Down', u'NP-TL'): 1,\n",
       "          (u'Stafford', u'NP'): 1,\n",
       "          (u'rangy', u'JJ'): 1,\n",
       "          (u'success', u'NN'): 4,\n",
       "          (u'Connecticut', u'NP'): 2,\n",
       "          (u'Offenses', u'NNS-HL'): 1,\n",
       "          (u'statement', u'NN'): 23,\n",
       "          (u'nine', u'CD'): 18,\n",
       "          (u'bushes', u'NNS'): 2,\n",
       "          (u'Negroes', u'NPS'): 3,\n",
       "          (u'grimly', u'RB'): 1,\n",
       "          (u'visit', u'NN'): 3,\n",
       "          (u'mishap', u'NN'): 1,\n",
       "          (u'graduate', u'NN'): 9,\n",
       "          (u'learning', u'NN'): 4,\n",
       "          (u'legislator', u'NN'): 2,\n",
       "          (u'une', u'FW-CD'): 1,\n",
       "          (u'trim', u'JJ'): 1,\n",
       "          (u'patrolman', u'NN'): 1,\n",
       "          (u'sponsored', u'VBD'): 1,\n",
       "          (u'robberies', u'NNS'): 1,\n",
       "          (u'4911', u'CD'): 1,\n",
       "          (u'mud', u'NN'): 2,\n",
       "          (u'36', u'CD'): 1,\n",
       "          (u'Dorenzo', u'NP'): 1,\n",
       "          (u'Pleas', u'NNS-TL'): 1,\n",
       "          (u'Are', u'BER-TL'): 1,\n",
       "          (u'pork-barrel', u'NN'): 1,\n",
       "          (u'subsidies', u'NNS'): 1,\n",
       "          (u'notarized', u'VBN'): 1,\n",
       "          (u'That', u'DT'): 26,\n",
       "          (u'details', u'NNS'): 3,\n",
       "          (u\"week's\", u'NN$'): 5,\n",
       "          (u'Comus', u'NP'): 2,\n",
       "          (u'relief', u'NN'): 3,\n",
       "          (u'hijacked', u'VBN'): 1,\n",
       "          (u'Stansbery', u'NP'): 1,\n",
       "          (u'Gray', u'JJ-TL'): 1,\n",
       "          (u'Southerner', u'NN-TL'): 1,\n",
       "          (u'Perennian', u'JJ'): 2,\n",
       "          (u'commercial', u'JJ'): 1,\n",
       "          (u'warmth', u'NN'): 3,\n",
       "          (u'kid', u'NN'): 5,\n",
       "          (u'Lown', u'NP'): 1,\n",
       "          (u'pitchers', u'NNS'): 3,\n",
       "          (u'imagine', u'VB'): 2,\n",
       "          (u'fair-weather', u'NN'): 1,\n",
       "          (u'Palace', u'NN-TL'): 2,\n",
       "          (u'bounty', u'NN'): 1,\n",
       "          (u'Latter', u'AP'): 1,\n",
       "          (u\"secretary's\", u'NN$'): 1,\n",
       "          (u'stopovers', u'NNS'): 1,\n",
       "          (u'experience', u'NN'): 6,\n",
       "          (u'shelves', u'NNS'): 1,\n",
       "          (u'blast', u'NN-HL'): 1,\n",
       "          (u'cities', u'NNS'): 6,\n",
       "          (u'dies', u'VBZ'): 1,\n",
       "          (u'orders', u'NNS'): 7,\n",
       "          (u'gravy', u'NN'): 1,\n",
       "          (u'minutes', u'NNS'): 25,\n",
       "          (u'concluded', u'VBN'): 1,\n",
       "          (u'trim', u'VB'): 2,\n",
       "          (u'Ivan', u'NP'): 2,\n",
       "          (u'.', u'.'): 4012,\n",
       "          (u\"Miller's\", u'NP$'): 2,\n",
       "          (u'steamed', u'VBD'): 1,\n",
       "          (u\"council's\", u'NN$'): 2,\n",
       "          (u'aeronautical', u'JJ'): 1,\n",
       "          (u'travel', u'NN'): 2,\n",
       "          (u'boss', u'NN'): 3,\n",
       "          (u'prepared', u'VBD'): 2,\n",
       "          (u'parts', u'NNS'): 6,\n",
       "          (u'forbids', u'VBZ'): 1,\n",
       "          (u'15-1', u'CD'): 1,\n",
       "          (u'expanded', u'VBN'): 1,\n",
       "          (u'93', u'CD'): 2,\n",
       "          (u'suited', u'VBN'): 1,\n",
       "          (u'gruonded', u'VBD'): 1,\n",
       "          (u'uncles', u'NNS'): 1,\n",
       "          (u'White', u'JJ-TL'): 34,\n",
       "          (u'Lutheran', u'JJ-TL'): 1,\n",
       "          (u'supervisor', u'NN'): 1,\n",
       "          (u'Rensselaer', u'NP'): 1,\n",
       "          (u'Whipple', u'NP'): 1,\n",
       "          (u'Willard', u'NP'): 2,\n",
       "          (u'enlisted', u'VBD'): 2,\n",
       "          (u'Boyd', u'NP'): 1,\n",
       "          (u'hostesses', u'NNS'): 1,\n",
       "          (u'Gulf', u'NN-TL'): 4,\n",
       "          (u'judgment', u'NN'): 5,\n",
       "          (u'associates', u'NNS'): 1,\n",
       "          (u'weaker', u'JJR'): 1,\n",
       "          (u'Francesca', u'NP'): 1,\n",
       "          (u'Coral', u'NN-TL'): 2,\n",
       "          (u'inevitable', u'JJ'): 1,\n",
       "          (u'nitroglycerine', u'NN'): 1,\n",
       "          (u'perjury', u'NN'): 2,\n",
       "          (u'Investigation', u'NN-TL'): 2,\n",
       "          (u'hearty', u'JJ'): 1,\n",
       "          (u'69', u'CD'): 6,\n",
       "          (u'Shipley', u'NP'): 1,\n",
       "          (u'career', u'NN'): 10,\n",
       "          (u'Interviews', u'NNS'): 1,\n",
       "          (u'Nichols', u'NP'): 1,\n",
       "          (u'Becket', u'NP'): 1,\n",
       "          (u'Beverly', u'NP-TL'): 6,\n",
       "          (u'quarrel', u'NN'): 2,\n",
       "          (u'Augusta', u'NP'): 4,\n",
       "          (u'creator', u'NN'): 2,\n",
       "          (u'Cuban-American', u'NP'): 1,\n",
       "          (u'entirety', u'NN'): 1,\n",
       "          (u'confronted', u'VBN'): 1,\n",
       "          (u'titian-haired', u'JJ'): 1,\n",
       "          (u'endangering', u'VBG'): 1,\n",
       "          (u'Lichtenstein', u'NP'): 1,\n",
       "          (u'Daily', u'JJ-TL'): 1,\n",
       "          (u'noted', u'VBD'): 4,\n",
       "          (u'Fred', u'NP'): 5,\n",
       "          (u'facing', u'VBG'): 3,\n",
       "          (u'garden', u'NN'): 1,\n",
       "          (u'connotes', u'VBZ'): 1,\n",
       "          (u'convenient', u'JJ'): 2,\n",
       "          (u'hopes', u'VBZ'): 6,\n",
       "          (u'Anson', u'NP'): 1,\n",
       "          (u'skyjacked', u'VBN'): 1,\n",
       "          (u'argue', u'VB'): 2,\n",
       "          (u'unfamiliar', u'JJ'): 1,\n",
       "          (u'detested', u'VBD'): 1,\n",
       "          (u'El', u'NP'): 12,\n",
       "          (u'Owens', u'NP'): 1,\n",
       "          (u'Murray', u'NP'): 3,\n",
       "          (u'streak', u'NN'): 4,\n",
       "          (u'southward', u'RB'): 1,\n",
       "          (u'6:15', u'CD'): 1,\n",
       "          (u'overhead', u'JJ'): 1,\n",
       "          (u'rather', u'IN'): 12,\n",
       "          (u'Malcolm', u'NP'): 1,\n",
       "          (u'cover', u'NN'): 2,\n",
       "          (u'covered', u'VBD'): 1,\n",
       "          (u'domination', u'NN'): 1,\n",
       "          (u'48', u'CD-TL'): 1,\n",
       "          (u'fight', u'NN-HL'): 1,\n",
       "          (u'withdrawal', u'NN'): 1,\n",
       "          (u'flavor', u'NN'): 3,\n",
       "          (u'sidelines', u'NNS'): 1,\n",
       "          (u'meeting', u'NN'): 58,\n",
       "          (u'criminal', u'JJ'): 1,\n",
       "          (u'penalized', u'VBN'): 1,\n",
       "          (u'Woodland', u'NN-TL'): 1,\n",
       "          (u'cent', u'NN'): 51,\n",
       "          (u'large', u'JJ'): 25,\n",
       "          (u'Best', u'NP-TL'): 1,\n",
       "          (u'Vice', u'JJ-TL'): 2,\n",
       "          (u'resisting', u'VBG'): 1,\n",
       "          (u'bayonet', u'NN'): 1,\n",
       "          (u\"Veeck's\", u'NP$'): 1,\n",
       "          (u\"that's\", u'WPS+BEZ'): 2,\n",
       "          (u'motorists', u'NNS'): 3,\n",
       "          (u'different', u'JJ'): 8,\n",
       "          (u'frustrations', u'NNS'): 2,\n",
       "          (u'disclosed', u'VBN'): 4,\n",
       "          (u'decorative', u'JJ'): 2,\n",
       "          (u'animism', u'NN'): 1,\n",
       "          (u'Sulcer', u'NP'): 1,\n",
       "          (u'cautious', u'JJ'): 1,\n",
       "          (u'swift-striding', u'JJ'): 1,\n",
       "          (u'Hood', u'NN-HL'): 1,\n",
       "          (u'roof', u'NN'): 1,\n",
       "          (u'quotas', u'NNS'): 3,\n",
       "          (u'permitted', u'VBN'): 2,\n",
       "          (u\"court's\", u'NN$'): 1,\n",
       "          (u'forthcoming', u'JJ'): 2,\n",
       "          (u'considered', u'VBN'): 10,\n",
       "          (u'Next', u'IN'): 1,\n",
       "          (u'industrial', u'JJ'): 5,\n",
       "          (u'Vernor', u'NP-TL'): 1,\n",
       "          (u'8%', u'NN'): 1,\n",
       "          (u'Range', u'NN'): 1,\n",
       "          (u'meddle', u'VB'): 1,\n",
       "          (u'dragged', u'VBN'): 1,\n",
       "          (u'Abatuno', u'NP'): 1,\n",
       "          (u'$5000', u'NNS'): 1,\n",
       "          (u'deterrent', u'NN'): 1,\n",
       "          (u'grace', u'NN'): 2,\n",
       "          (u'49', u'CD'): 1,\n",
       "          (u'world-wide', u'RB'): 1,\n",
       "          (u'Marie', u'NP'): 2,\n",
       "          (u'succeeds', u'VBZ'): 3,\n",
       "          (u'merits', u'NNS'): 2,\n",
       "          (u'apartments', u'NNS'): 6,\n",
       "          (u'Dallas-headquartered', u'JJ'): 1,\n",
       "          (u'Attorney', u'NN-TL'): 7,\n",
       "          (u'attend', u'VB-HL'): 2,\n",
       "          (u'prodigal', u'JJ'): 1,\n",
       "          (u'Indians', u'NPS'): 3,\n",
       "          (u'Clearwater', u'NP'): 1,\n",
       "          (u'itself', u'PPL'): 10,\n",
       "          (u'thrilling', u'JJ'): 2,\n",
       "          (u'firehouses', u'NNS'): 1,\n",
       "          (u'moments', u'NNS'): 1,\n",
       "          (u'doors', u'NNS'): 5,\n",
       "          (u'beatnik', u'NN'): 1,\n",
       "          (u'comment', u'VB'): 1,\n",
       "          (u'bat', u'NN'): 6,\n",
       "          (u'price-earnings', u'NNS'): 2,\n",
       "          (u'playable', u'JJ'): 1,\n",
       "          (u'Hungarian', u'NP'): 2,\n",
       "          (u'threat', u'NN'): 6,\n",
       "          (u'disappointment', u'NN'): 2,\n",
       "          (u\"another's\", u'DT$'): 1,\n",
       "          (u'rebuild', u'VB'): 1,\n",
       "          (u'grounds', u'NNS'): 3,\n",
       "          (u'Felske', u'NP'): 1,\n",
       "          (u'plant', u'NN'): 8,\n",
       "          (u'quo', u'FW-WDT'): 1,\n",
       "          (u'escape', u'VB'): 1,\n",
       "          (u'commitment', u'NN'): 2,\n",
       "          (u'From', u'IN'): 9,\n",
       "          (u'by', u'IN'): 493,\n",
       "          (u'continued', u'VBN'): 6,\n",
       "          (u'adopted', u'VBN-HL'): 1,\n",
       "          (u'modernizing', u'VBG'): 1,\n",
       "          (u'author', u'NN'): 2,\n",
       "          (u'Njust', u'NP'): 1,\n",
       "          (u'areas', u'NNS'): 12,\n",
       "          (u'tense', u'JJ'): 1,\n",
       "          (u'presidency', u'NN'): 1,\n",
       "          (u'Bowl', u'NN-TL'): 1,\n",
       "          (u'Nations', u'NNS'): 1,\n",
       "          (u'400', u'CD'): 5,\n",
       "          (u'board', u'NN'): 47,\n",
       "          (u'released', u'VBN'): 4,\n",
       "          (u'applaud', u'VB'): 1,\n",
       "          (u'asked', u'VBD'): 19,\n",
       "          (u'thoroughfare', u'NN'): 1,\n",
       "          (u'demand', u'VB'): 1,\n",
       "          (u'glamorous', u'JJ'): 1,\n",
       "          (u'Now', u'RB'): 11,\n",
       "          (u'volunteered', u'VBD'): 1,\n",
       "          (u'staffing', u'VBG'): 1,\n",
       "          (u'remedy', u'VB'): 1,\n",
       "          (u'distributed', u'VBN'): 1,\n",
       "          (u'slope', u'NN'): 1,\n",
       "          (u'across', u'RP'): 4,\n",
       "          (u'reminisces', u'VBZ'): 1,\n",
       "          (u'found', u'VBN'): 15,\n",
       "          (u'gumption', u'NN'): 1,\n",
       "          (u'Judy', u'NP'): 1,\n",
       "          (u\"It's\", u'PPS+BEZ'): 12,\n",
       "          (u'mea', u'FW-PP$-NC'): 1,\n",
       "          (u'chapter', u'NN'): 1,\n",
       "          (u'enormous', u'JJ'): 1,\n",
       "          (u'Baseball', u'NN'): 1,\n",
       "          (u'March', u'NP'): 27,\n",
       "          (u'fathers', u'NNS'): 1,\n",
       "          (u'Graft', u'NN'): 1,\n",
       "          (u'Paine', u'NP'): 1,\n",
       "          (u'Zubkovskaya', u'NP'): 1,\n",
       "          (u'securities', u'NNS'): 2,\n",
       "          (u'Flock', u'NN-TL'): 3,\n",
       "          (u'water', u'NN'): 10,\n",
       "          (u'1899', u'CD'): 1,\n",
       "          (u'again', u'RB'): 29,\n",
       "          (u'decided', u'VBD'): 18,\n",
       "          (u'cloudless', u'JJ'): 1,\n",
       "          (u'makes', u'VBZ'): 11,\n",
       "          (u'1.09.3', u'CD'): 1,\n",
       "          (u'Jackson', u'NP-TL'): 1,\n",
       "          (u'corporations', u'NNS'): 2,\n",
       "          (u'entire', u'JJ'): 11,\n",
       "          (u'grown', u'VBN'): 1,\n",
       "          (u'agitating', u'VBG'): 1,\n",
       "          (u'Grady', u'NP-TL'): 4,\n",
       "          (u'manner', u'NN'): 7,\n",
       "          (u'officers', u'NNS'): 18,\n",
       "          (u'uses', u'NNS'): 1,\n",
       "          (u'living', u'NN'): 1,\n",
       "          ...})"
      ]
     },
     "execution_count": 446,
     "metadata": {},
     "output_type": "execute_result"
    }
   ],
   "source": [
    "fd = nltk.FreqDist(nltk.corpus.brown.tagged_words(categories='news'))\n",
    "fd"
   ]
  },
  {
   "cell_type": "code",
   "execution_count": null,
   "metadata": {
    "collapsed": true
   },
   "outputs": [],
   "source": []
  },
  {
   "cell_type": "code",
   "execution_count": null,
   "metadata": {
    "collapsed": true
   },
   "outputs": [],
   "source": []
  },
  {
   "cell_type": "code",
   "execution_count": null,
   "metadata": {
    "collapsed": true
   },
   "outputs": [],
   "source": []
  },
  {
   "cell_type": "code",
   "execution_count": null,
   "metadata": {
    "collapsed": true
   },
   "outputs": [],
   "source": []
  },
  {
   "cell_type": "code",
   "execution_count": null,
   "metadata": {
    "collapsed": true
   },
   "outputs": [],
   "source": []
  },
  {
   "cell_type": "code",
   "execution_count": null,
   "metadata": {
    "collapsed": true
   },
   "outputs": [],
   "source": []
  },
  {
   "cell_type": "code",
   "execution_count": null,
   "metadata": {
    "collapsed": true
   },
   "outputs": [],
   "source": []
  },
  {
   "cell_type": "code",
   "execution_count": null,
   "metadata": {
    "collapsed": true
   },
   "outputs": [],
   "source": []
  }
 ],
 "metadata": {
  "kernelspec": {
   "display_name": "Python 2",
   "language": "python",
   "name": "python2"
  },
  "language_info": {
   "codemirror_mode": {
    "name": "ipython",
    "version": 2
   },
   "file_extension": ".py",
   "mimetype": "text/x-python",
   "name": "python",
   "nbconvert_exporter": "python",
   "pygments_lexer": "ipython2",
   "version": "2.7.13"
  }
 },
 "nbformat": 4,
 "nbformat_minor": 2
}
