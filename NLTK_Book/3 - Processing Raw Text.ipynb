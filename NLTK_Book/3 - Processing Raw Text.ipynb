{
 "cells": [
  {
   "cell_type": "markdown",
   "metadata": {},
   "source": [
    "http://www.nltk.org/book/ch03.html"
   ]
  },
  {
   "cell_type": "markdown",
   "metadata": {},
   "source": [
    "### Goals:"
   ]
  },
  {
   "cell_type": "markdown",
   "metadata": {},
   "source": [
    "1. How can we write programs to access text from local files and from the web, in order to get hold of an unlimited range of language material?\n",
    "2. How can we split documents up into individual words and punctuation symbols, so we can carry out the same kinds of analysis we did with text corpora in earlier chapters?\n",
    "3. How can we write programs to produce formatted output and save it in a file?"
   ]
  },
  {
   "cell_type": "markdown",
   "metadata": {},
   "source": [
    "### Accessing Text from the Web and from Disk"
   ]
  },
  {
   "cell_type": "markdown",
   "metadata": {},
   "source": [
    "You can browse the catalog of 25,000 free online books at http://www.gutenberg.org/catalog/, and obtain a URL to an ASCII text file."
   ]
  },
  {
   "cell_type": "markdown",
   "metadata": {},
   "source": [
    "Text number 2554 is an English translation of Crime and Punishment, and we can access it as follows."
   ]
  },
  {
   "cell_type": "code",
   "execution_count": 113,
   "metadata": {
    "collapsed": false
   },
   "outputs": [],
   "source": [
    "import nltk\n",
    "from nltk import word_tokenize\n",
    "from nltk import FreqDist # need this to access \"most_common\" method\n",
    "\n",
    "import urllib2"
   ]
  },
  {
   "cell_type": "code",
   "execution_count": 114,
   "metadata": {
    "collapsed": false
   },
   "outputs": [
    {
     "data": {
      "text/plain": [
       "1176896"
      ]
     },
     "execution_count": 114,
     "metadata": {},
     "output_type": "execute_result"
    }
   ],
   "source": [
    "url = \"http://www.gutenberg.org/files/2554/2554.txt\"\n",
    "response = urllib2.urlopen(url)\n",
    "raw = response.read().decode('utf8')\n",
    "type(raw)\n",
    "len(raw)"
   ]
  },
  {
   "cell_type": "code",
   "execution_count": 115,
   "metadata": {
    "collapsed": false
   },
   "outputs": [
    {
     "data": {
      "text/plain": [
       "[u'The',\n",
       " u'Project',\n",
       " u'Gutenberg',\n",
       " u'EBook',\n",
       " u'of',\n",
       " u'Crime',\n",
       " u'and',\n",
       " u'Punishment',\n",
       " u',',\n",
       " u'by']"
      ]
     },
     "execution_count": 115,
     "metadata": {},
     "output_type": "execute_result"
    }
   ],
   "source": [
    "tokens = word_tokenize(raw)\n",
    "tokens[:10]"
   ]
  },
  {
   "cell_type": "markdown",
   "metadata": {},
   "source": [
    "#### Calculate most common words, but mostly of these are punctuations like \",\", \".\", \"the\", ..."
   ]
  },
  {
   "cell_type": "code",
   "execution_count": 116,
   "metadata": {
    "collapsed": false
   },
   "outputs": [
    {
     "data": {
      "text/plain": [
       "[(u',', 16177),\n",
       " (u'.', 10536),\n",
       " (u'the', 7431),\n",
       " (u'and', 6279),\n",
       " (u'to', 5276),\n",
       " (u'a', 4464),\n",
       " (u'I', 4334),\n",
       " (u\"''\", 4192),\n",
       " (u'of', 3846),\n",
       " (u'``', 3739),\n",
       " (u'he', 3520),\n",
       " (u'you', 3485),\n",
       " (u'in', 3097),\n",
       " (u'that', 3049),\n",
       " (u'it', 2928),\n",
       " (u'was', 2831),\n",
       " (u'!', 2364),\n",
       " (u'?', 2275),\n",
       " (u'his', 1999),\n",
       " (u'at', 1945)]"
      ]
     },
     "execution_count": 116,
     "metadata": {},
     "output_type": "execute_result"
    }
   ],
   "source": [
    "freq_dist = nltk.FreqDist(tokens)\n",
    "freq_dist.most_common(20)"
   ]
  },
  {
   "cell_type": "markdown",
   "metadata": {},
   "source": [
    "#### Now let's get rid of the punctuations"
   ]
  },
  {
   "cell_type": "code",
   "execution_count": 117,
   "metadata": {
    "collapsed": true
   },
   "outputs": [],
   "source": [
    "from nltk.tokenize import RegexpTokenizer\n",
    "tokenizer = RegexpTokenizer(r'\\w+')"
   ]
  },
  {
   "cell_type": "code",
   "execution_count": 118,
   "metadata": {
    "collapsed": false
   },
   "outputs": [
    {
     "data": {
      "text/plain": [
       "[(u'the', 7437),\n",
       " (u'and', 6290),\n",
       " (u'to', 5413),\n",
       " (u'a', 4472),\n",
       " (u'I', 4401),\n",
       " (u'of', 3848),\n",
       " (u'he', 3633),\n",
       " (u'you', 3506),\n",
       " (u'in', 3099),\n",
       " (u'that', 3068),\n",
       " (u'it', 2945),\n",
       " (u'was', 2803),\n",
       " (u'his', 1999),\n",
       " (u'at', 1945),\n",
       " (u'her', 1772),\n",
       " (u's', 1756),\n",
       " (u'not', 1725),\n",
       " (u'with', 1723),\n",
       " (u'for', 1598),\n",
       " (u'him', 1579)]"
      ]
     },
     "execution_count": 118,
     "metadata": {},
     "output_type": "execute_result"
    }
   ],
   "source": [
    "new_tokens = tokenizer.tokenize(raw)\n",
    "freq_dist = nltk.FreqDist(new_tokens)\n",
    "freq_dist.most_common(20)"
   ]
  },
  {
   "cell_type": "markdown",
   "metadata": {},
   "source": [
    "#### Exclude the stop words"
   ]
  },
  {
   "cell_type": "code",
   "execution_count": 119,
   "metadata": {
    "collapsed": false
   },
   "outputs": [
    {
     "data": {
      "text/plain": [
       "[(u'I', 4401),\n",
       " (u'He', 1259),\n",
       " (u'Raskolnikov', 784),\n",
       " (u'And', 747),\n",
       " (u'But', 683),\n",
       " (u'You', 602),\n",
       " (u'one', 586),\n",
       " (u'The', 554),\n",
       " (u'would', 553),\n",
       " (u'know', 528),\n",
       " (u'said', 518),\n",
       " (u'It', 515),\n",
       " (u'could', 486),\n",
       " (u'What', 477),\n",
       " (u'man', 475),\n",
       " (u'like', 451),\n",
       " (u'She', 442),\n",
       " (u'come', 426),\n",
       " (u'though', 413),\n",
       " (u'Sonia', 402)]"
      ]
     },
     "execution_count": 119,
     "metadata": {},
     "output_type": "execute_result"
    }
   ],
   "source": [
    "from nltk.corpus import stopwords\n",
    "\n",
    "tokens_no_stop_words = []\n",
    "for word in new_tokens:\n",
    "    if word not in stopwords.words('English'):\n",
    "        tokens_no_stop_words.append(word)\n",
    "        \n",
    "freq_dist = nltk.FreqDist(tokens_no_stop_words)\n",
    "freq_dist.most_common(20)"
   ]
  },
  {
   "cell_type": "markdown",
   "metadata": {},
   "source": [
    "### To plot, you can turn the most_common list to a dataframe"
   ]
  },
  {
   "cell_type": "code",
   "execution_count": 120,
   "metadata": {
    "collapsed": false
   },
   "outputs": [],
   "source": [
    "import pandas as pd\n",
    "from pandas import Series, DataFrame\n",
    "\n",
    "import matplotlib.pyplot as plt\n",
    "%matplotlib inline"
   ]
  },
  {
   "cell_type": "code",
   "execution_count": 121,
   "metadata": {
    "collapsed": false
   },
   "outputs": [
    {
     "data": {
      "text/html": [
       "<div>\n",
       "<table border=\"1\" class=\"dataframe\">\n",
       "  <thead>\n",
       "    <tr style=\"text-align: right;\">\n",
       "      <th></th>\n",
       "      <th>word</th>\n",
       "      <th>frequency</th>\n",
       "    </tr>\n",
       "  </thead>\n",
       "  <tbody>\n",
       "    <tr>\n",
       "      <th>0</th>\n",
       "      <td>I</td>\n",
       "      <td>4401</td>\n",
       "    </tr>\n",
       "    <tr>\n",
       "      <th>1</th>\n",
       "      <td>He</td>\n",
       "      <td>1259</td>\n",
       "    </tr>\n",
       "    <tr>\n",
       "      <th>2</th>\n",
       "      <td>Raskolnikov</td>\n",
       "      <td>784</td>\n",
       "    </tr>\n",
       "    <tr>\n",
       "      <th>3</th>\n",
       "      <td>And</td>\n",
       "      <td>747</td>\n",
       "    </tr>\n",
       "    <tr>\n",
       "      <th>4</th>\n",
       "      <td>But</td>\n",
       "      <td>683</td>\n",
       "    </tr>\n",
       "  </tbody>\n",
       "</table>\n",
       "</div>"
      ],
      "text/plain": [
       "          word  frequency\n",
       "0            I       4401\n",
       "1           He       1259\n",
       "2  Raskolnikov        784\n",
       "3          And        747\n",
       "4          But        683"
      ]
     },
     "execution_count": 121,
     "metadata": {},
     "output_type": "execute_result"
    }
   ],
   "source": [
    "df = pd.DataFrame(freq_dist.most_common(20), columns=['word', 'frequency'])\n",
    "df.head(5)"
   ]
  },
  {
   "cell_type": "code",
   "execution_count": 132,
   "metadata": {
    "collapsed": false
   },
   "outputs": [
    {
     "data": {
      "text/plain": [
       "<matplotlib.axes._subplots.AxesSubplot at 0x11a204a90>"
      ]
     },
     "execution_count": 132,
     "metadata": {},
     "output_type": "execute_result"
    },
    {
     "data": {
      "image/png": "[encoded data removed]",
      "text/plain": [
       "<matplotlib.figure.Figure at 0x11a1b95d0>"
      ]
     },
     "metadata": {},
     "output_type": "display_data"
    }
   ],
   "source": [
    "df.plot(x='word', y='frequency', kind='bar', figsize=(15,6))"
   ]
  },
  {
   "cell_type": "markdown",
   "metadata": {},
   "source": [
    "### Use plotly to plot this"
   ]
  },
  {
   "cell_type": "code",
   "execution_count": 130,
   "metadata": {
    "collapsed": false
   },
   "outputs": [
    {
     "data": {
      "text/html": [
       "<script>requirejs.config({paths: { 'plotly': ['https://cdn.plot.ly/plotly-latest.min']},});if(!window.Plotly) {{require(['plotly'],function(plotly) {window.Plotly=plotly;});}}</script>"
      ],
      "text/vnd.plotly.v1+html": [
       "<script>requirejs.config({paths: { 'plotly': ['https://cdn.plot.ly/plotly-latest.min']},});if(!window.Plotly) {{require(['plotly'],function(plotly) {window.Plotly=plotly;});}}</script>"
      ]
     },
     "metadata": {},
     "output_type": "display_data"
    }
   ],
   "source": [
    "import plotly.plotly as py\n",
    "import plotly.graph_objs as go\n",
    "from plotly.offline import download_plotlyjs, init_notebook_mode, plot, iplot\n",
    "init_notebook_mode(connected=True)  # use plotly.offline (injects the plotly.js source files into the notebook)\n",
    "from plotly import tools\n",
    "import plotly.tools as tls"
   ]
  },
  {
   "cell_type": "code",
   "execution_count": 141,
   "metadata": {
    "collapsed": true
   },
   "outputs": [],
   "source": [
    "figure_size=(16,6)\n",
    "\n",
    "# Multiplier of Standard Deviations\n",
    "Times_of_Standard_Deviation = 1\n",
    "\n",
    "Chart_Title_Font_Size = 20\n",
    "\n",
    "xaxis_font_size = 16\n",
    "yaxis_font_size = 16\n",
    "legend_font_size = 12"
   ]
  },
  {
   "cell_type": "code",
   "execution_count": 144,
   "metadata": {
    "collapsed": false
   },
   "outputs": [
    {
     "data": {
      "application/vnd.plotly.v1+json": {
       "data": [
        {
         "type": "bar",
         "x": [
          "I",
          "He",
          "Raskolnikov",
          "And",
          "But",
          "You",
          "one",
          "The",
          "would",
          "know",
          "said",
          "It",
          "could",
          "What",
          "man",
          "like",
          "She",
          "come",
          "though",
          "Sonia"
         ],
         "y": [
          4401,
          1259,
          784,
          747,
          683,
          602,
          586,
          554,
          553,
          528,
          518,
          515,
          486,
          477,
          475,
          451,
          442,
          426,
          413,
          402
         ]
        }
       ],
       "layout": {
        "font": {
         "size": 20
        },
        "showlegend": true,
        "title": "Word Frequency",
        "xaxis": {
         "tickfont": {
          "size": 16
         },
         "title": "Words",
         "titlefont": {
          "size": 16
         }
        },
        "yaxis": {
         "tickfont": {
          "size": 16
         },
         "title": "Number of appearance",
         "titlefont": {
          "size": 16
         }
        }
       }
      },
      "text/html": [
       "<div id=\"a0fcf1bd-6dbc-4726-ac9d-b1c210cb7a8b\" style=\"height: 525px; width: 100%;\" class=\"plotly-graph-div\"></div><script type=\"text/javascript\">require([\"plotly\"], function(Plotly) { window.PLOTLYENV=window.PLOTLYENV || {};window.PLOTLYENV.BASE_URL=\"https://plot.ly\";Plotly.newPlot(\"a0fcf1bd-6dbc-4726-ac9d-b1c210cb7a8b\", [{\"y\": [4401, 1259, 784, 747, 683, 602, 586, 554, 553, 528, 518, 515, 486, 477, 475, 451, 442, 426, 413, 402], \"x\": [\"I\", \"He\", \"Raskolnikov\", \"And\", \"But\", \"You\", \"one\", \"The\", \"would\", \"know\", \"said\", \"It\", \"could\", \"What\", \"man\", \"like\", \"She\", \"come\", \"though\", \"Sonia\"], \"type\": \"bar\"}], {\"title\": \"Word Frequency\", \"showlegend\": true, \"font\": {\"size\": 20}, \"xaxis\": {\"tickfont\": {\"size\": 16}, \"titlefont\": {\"size\": 16}, \"title\": \"Words\"}, \"yaxis\": {\"tickfont\": {\"size\": 16}, \"titlefont\": {\"size\": 16}, \"title\": \"Number of appearance\"}}, {\"linkText\": \"Export to plot.ly\", \"showLink\": true})});</script>"
      ],
      "text/vnd.plotly.v1+html": [
       "<div id=\"a0fcf1bd-6dbc-4726-ac9d-b1c210cb7a8b\" style=\"height: 525px; width: 100%;\" class=\"plotly-graph-div\"></div><script type=\"text/javascript\">require([\"plotly\"], function(Plotly) { window.PLOTLYENV=window.PLOTLYENV || {};window.PLOTLYENV.BASE_URL=\"https://plot.ly\";Plotly.newPlot(\"a0fcf1bd-6dbc-4726-ac9d-b1c210cb7a8b\", [{\"y\": [4401, 1259, 784, 747, 683, 602, 586, 554, 553, 528, 518, 515, 486, 477, 475, 451, 442, 426, 413, 402], \"x\": [\"I\", \"He\", \"Raskolnikov\", \"And\", \"But\", \"You\", \"one\", \"The\", \"would\", \"know\", \"said\", \"It\", \"could\", \"What\", \"man\", \"like\", \"She\", \"come\", \"though\", \"Sonia\"], \"type\": \"bar\"}], {\"title\": \"Word Frequency\", \"showlegend\": true, \"font\": {\"size\": 20}, \"xaxis\": {\"tickfont\": {\"size\": 16}, \"titlefont\": {\"size\": 16}, \"title\": \"Words\"}, \"yaxis\": {\"tickfont\": {\"size\": 16}, \"titlefont\": {\"size\": 16}, \"title\": \"Number of appearance\"}}, {\"linkText\": \"Export to plot.ly\", \"showLink\": true})});</script>"
      ]
     },
     "metadata": {},
     "output_type": "display_data"
    }
   ],
   "source": [
    "data = [go.Bar(\n",
    "            x=df.word,\n",
    "            y=df.frequency\n",
    "    )]\n",
    "\n",
    "layout = go.Layout(showlegend=True, title=\"Word Frequency\", font=dict(size=Chart_Title_Font_Size),\n",
    "                   yaxis=dict(title='Number of appearance', titlefont=dict(size=yaxis_font_size)\n",
    "                              , tickfont=dict(size=yaxis_font_size)), # tickformat=\".2%\" format y axis into % format\n",
    "                   xaxis=dict(title='Words', titlefont=dict(size=xaxis_font_size)\n",
    "                              , tickfont=dict(size=yaxis_font_size))\n",
    "                  )\n",
    "\n",
    "# py.iplot(data, filename='basic-bar')\n",
    "fig = go.Figure(data=data, layout=layout)\n",
    "iplot(fig, filename='')\n",
    "figs.append(fig)"
   ]
  },
  {
   "cell_type": "code",
   "execution_count": null,
   "metadata": {
    "collapsed": true
   },
   "outputs": [],
   "source": []
  },
  {
   "cell_type": "code",
   "execution_count": null,
   "metadata": {
    "collapsed": true
   },
   "outputs": [],
   "source": []
  },
  {
   "cell_type": "code",
   "execution_count": null,
   "metadata": {
    "collapsed": true
   },
   "outputs": [],
   "source": []
  },
  {
   "cell_type": "code",
   "execution_count": null,
   "metadata": {
    "collapsed": true
   },
   "outputs": [],
   "source": []
  }
 ],
 "metadata": {
  "kernelspec": {
   "display_name": "Python 2",
   "language": "python",
   "name": "python2"
  },
  "language_info": {
   "codemirror_mode": {
    "name": "ipython",
    "version": 2
   },
   "file_extension": ".py",
   "mimetype": "text/x-python",
   "name": "python",
   "nbconvert_exporter": "python",
   "pygments_lexer": "ipython2",
   "version": "2.7.13"
  }
 },
 "nbformat": 4,
 "nbformat_minor": 2
}
