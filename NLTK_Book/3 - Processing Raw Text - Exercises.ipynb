{
 "cells": [
  {
   "cell_type": "code",
   "execution_count": 112,
   "metadata": {
    "collapsed": true
   },
   "outputs": [],
   "source": [
    "import nltk\n",
    "from nltk import word_tokenize\n",
    "from nltk import FreqDist # need this to access \"most_common\" method\n",
    "\n",
    "import urllib2\n",
    "\n",
    "from IPython.display import Image"
   ]
  },
  {
   "cell_type": "raw",
   "metadata": {},
   "source": [
    "1. Define a string s = 'colorless'. Write a Python statement that changes this to \"colourless\" using only the slice and concatenation operations."
   ]
  },
  {
   "cell_type": "code",
   "execution_count": 113,
   "metadata": {
    "collapsed": false
   },
   "outputs": [
    {
     "data": {
      "text/plain": [
       "'colourless'"
      ]
     },
     "execution_count": 113,
     "metadata": {},
     "output_type": "execute_result"
    }
   ],
   "source": [
    "s = 'colorless'\n",
    "s_new = s[0:4]+'u'+s[4:]\n",
    "s_new"
   ]
  },
  {
   "cell_type": "raw",
   "metadata": {},
   "source": [
    "2. We can use the slice notation to remove morphological endings on words. For example, 'dogs'[:-1] removes the last character of dogs, leaving dog. Use slice notation to remove the affixes from these words (we've inserted a hyphen to indicate the affix boundary, but omit this from your strings): dish-es, run-ning, nation-ality, un-do, pre-heat."
   ]
  },
  {
   "cell_type": "code",
   "execution_count": 114,
   "metadata": {
    "collapsed": false
   },
   "outputs": [
    {
     "data": {
      "text/plain": [
       "'airplane'"
      ]
     },
     "execution_count": 114,
     "metadata": {},
     "output_type": "execute_result"
    }
   ],
   "source": [
    "'airplanes'[:-1]"
   ]
  },
  {
   "cell_type": "raw",
   "metadata": {},
   "source": [
    "3. We saw how we can generate an IndexError by indexing beyond the end of a string. Is it possible to construct an index that goes too far to the left, before the start of the string?"
   ]
  },
  {
   "cell_type": "markdown",
   "metadata": {},
   "source": [
    "#### ???"
   ]
  },
  {
   "cell_type": "raw",
   "metadata": {},
   "source": [
    "4. We can specify a \"step\" size for the slice. The following returns every second character within the slice: monty[6:11:2]. It also works in the reverse direction: monty[10:5:-2] Try these for yourself, then experiment with different step values."
   ]
  },
  {
   "cell_type": "code",
   "execution_count": 115,
   "metadata": {
    "collapsed": false
   },
   "outputs": [
    {
     "data": {
      "text/plain": [
       "'acegi'"
      ]
     },
     "execution_count": 115,
     "metadata": {},
     "output_type": "execute_result"
    }
   ],
   "source": [
    "string = 'abcdefghijklmnopqrstuvwxyz'\n",
    "string[0:10:2]"
   ]
  },
  {
   "cell_type": "markdown",
   "metadata": {},
   "source": [
    "Reverse"
   ]
  },
  {
   "cell_type": "code",
   "execution_count": 116,
   "metadata": {
    "collapsed": false
   },
   "outputs": [
    {
     "data": {
      "text/plain": [
       "'zxvtrpnl'"
      ]
     },
     "execution_count": 116,
     "metadata": {},
     "output_type": "execute_result"
    }
   ],
   "source": [
    "string[25:10:-2]"
   ]
  },
  {
   "cell_type": "raw",
   "metadata": {},
   "source": [
    "5. What happens if you ask the interpreter to evaluate monty[::-1]? Explain why this is a reasonable result."
   ]
  },
  {
   "cell_type": "code",
   "execution_count": 117,
   "metadata": {
    "collapsed": false
   },
   "outputs": [
    {
     "data": {
      "text/plain": [
       "'zyxwvutsrqponmlkjihgfedcba'"
      ]
     },
     "execution_count": 117,
     "metadata": {},
     "output_type": "execute_result"
    }
   ],
   "source": [
    "string[::-1]"
   ]
  },
  {
   "cell_type": "code",
   "execution_count": 118,
   "metadata": {
    "collapsed": false
   },
   "outputs": [
    {
     "data": {
      "text/plain": [
       "'!yad doog a si sihT'"
      ]
     },
     "execution_count": 118,
     "metadata": {},
     "output_type": "execute_result"
    }
   ],
   "source": [
    "sentence = 'This is a good day!'\n",
    "sentence[::-1]"
   ]
  },
  {
   "cell_type": "raw",
   "metadata": {},
   "source": [
    "6. Describe the class of strings matched by the following regular expressions.\n",
    "\n",
    "a. [a-zA-Z]+\n",
    "b. [A-Z][a-z]*\n",
    "c. p[aeiou]{,2}t\n",
    "d. \\d+(\\.\\d+)?\n",
    "e. ([^aeiou][aeiou][^aeiou])*\n",
    "f. \\w+|[^\\w\\s]+\n",
    "Test your answers using nltk.re_show()."
   ]
  },
  {
   "cell_type": "raw",
   "metadata": {},
   "source": [
    "a. [a-zA-Z] is a range, + means one or more of previous character\n",
    "b. [A-Z][a-z] means the 1st letter is between A to Z, the 2nd a to z. * means zero or more of previous character\n",
    "c. Start with p, one of aeiou, {,2} means no more than 2 repeats, then the last letter is t\n",
    "d. ???\n",
    "e. \n",
    "f. ???"
   ]
  },
  {
   "cell_type": "raw",
   "metadata": {},
   "source": [
    "e. wordlist = [w for w in nltk.corpus.words.words('en') if w.islower()]\n",
    "[pair for word in wordlist for pair in re.findall(r'([^aeiou][aeiou][^aeiou])*',word)]"
   ]
  },
  {
   "cell_type": "raw",
   "metadata": {},
   "source": [
    "8. Write a utility function that takes a URL as its argument, and returns the contents of the URL, with all HTML markup removed. Use from urllib import request and then  request.urlopen('http://nltk.org/').read().decode('utf8') to access the contents of the URL."
   ]
  },
  {
   "cell_type": "raw",
   "metadata": {},
   "source": [
    "1. Get the url to html format"
   ]
  },
  {
   "cell_type": "code",
   "execution_count": 119,
   "metadata": {
    "collapsed": false
   },
   "outputs": [],
   "source": [
    "import urllib2\n",
    "\n",
    "url = \"http://news.bbc.co.uk/2/hi/health/2284783.stm\"\n",
    "html = urllib2.urlopen(url).read().decode('utf8')"
   ]
  },
  {
   "cell_type": "raw",
   "metadata": {},
   "source": [
    "2. User BeautifulSoup.get_text()"
   ]
  },
  {
   "cell_type": "code",
   "execution_count": 120,
   "metadata": {
    "collapsed": false
   },
   "outputs": [],
   "source": [
    "from bs4 import BeautifulSoup\n",
    "raw = BeautifulSoup(html).get_text()"
   ]
  },
  {
   "cell_type": "raw",
   "metadata": {},
   "source": [
    "3. Tokenization"
   ]
  },
  {
   "cell_type": "code",
   "execution_count": 121,
   "metadata": {
    "collapsed": false
   },
   "outputs": [
    {
     "data": {
      "text/plain": [
       "[u'BBC',\n",
       " u'NEWS',\n",
       " u'|',\n",
       " u'Health',\n",
       " u'|',\n",
       " u'Blondes',\n",
       " u\"'to\",\n",
       " u'die',\n",
       " u'out',\n",
       " u'in',\n",
       " u'200',\n",
       " u\"years'\",\n",
       " u'NEWS',\n",
       " u'SPORT',\n",
       " u'WEATHER',\n",
       " u'WORLD',\n",
       " u'SERVICE',\n",
       " u'A-Z',\n",
       " u'INDEX',\n",
       " u'SEARCH',\n",
       " u'You',\n",
       " u'are',\n",
       " u'in',\n",
       " u':',\n",
       " u'Health',\n",
       " u'News',\n",
       " u'Front',\n",
       " u'Page',\n",
       " u'Africa',\n",
       " u'Americas',\n",
       " u'Asia-Pacific',\n",
       " u'Europe',\n",
       " u'Middle',\n",
       " u'East',\n",
       " u'South',\n",
       " u'Asia',\n",
       " u'UK',\n",
       " u'Business',\n",
       " u'Entertainment',\n",
       " u'Science/Nature',\n",
       " u'Technology',\n",
       " u'Health',\n",
       " u'Medical',\n",
       " u'notes',\n",
       " u'--',\n",
       " u'--',\n",
       " u'--',\n",
       " u'--',\n",
       " u'--',\n",
       " u'--',\n",
       " u'-',\n",
       " u'Talking',\n",
       " u'Point',\n",
       " u'--',\n",
       " u'--',\n",
       " u'--',\n",
       " u'--',\n",
       " u'--',\n",
       " u'--',\n",
       " u'-',\n",
       " u'Country',\n",
       " u'Profiles',\n",
       " u'In',\n",
       " u'Depth',\n",
       " u'--',\n",
       " u'--',\n",
       " u'--',\n",
       " u'--',\n",
       " u'--',\n",
       " u'--',\n",
       " u'-',\n",
       " u'Programmes',\n",
       " u'--',\n",
       " u'--',\n",
       " u'--',\n",
       " u'--',\n",
       " u'--',\n",
       " u'--',\n",
       " u'-',\n",
       " u'SERVICES',\n",
       " u'Daily',\n",
       " u'E-mail',\n",
       " u'News',\n",
       " u'Ticker',\n",
       " u'Mobile/PDAs',\n",
       " u'--',\n",
       " u'--',\n",
       " u'--',\n",
       " u'--',\n",
       " u'--',\n",
       " u'--',\n",
       " u'-',\n",
       " u'Text',\n",
       " u'Only',\n",
       " u'Feedback',\n",
       " u'Help',\n",
       " u'EDITIONS',\n",
       " u'Change',\n",
       " u'to',\n",
       " u'UK',\n",
       " u'Friday',\n",
       " u',',\n",
       " u'27',\n",
       " u'September',\n",
       " u',',\n",
       " u'2002',\n",
       " u',',\n",
       " u'11:51',\n",
       " u'GMT',\n",
       " u'12:51',\n",
       " u'UK',\n",
       " u'Blondes',\n",
       " u\"'to\",\n",
       " u'die',\n",
       " u'out',\n",
       " u'in',\n",
       " u'200',\n",
       " u\"years'\",\n",
       " u'Scientists',\n",
       " u'believe',\n",
       " u'the',\n",
       " u'last',\n",
       " u'blondes',\n",
       " u'will',\n",
       " u'be',\n",
       " u'in',\n",
       " u'Finland',\n",
       " u'The',\n",
       " u'last',\n",
       " u'natural',\n",
       " u'blondes',\n",
       " u'will',\n",
       " u'die',\n",
       " u'out',\n",
       " u'within',\n",
       " u'200',\n",
       " u'years',\n",
       " u',',\n",
       " u'scientists',\n",
       " u'believe',\n",
       " u'.',\n",
       " u'A',\n",
       " u'study',\n",
       " u'by',\n",
       " u'experts',\n",
       " u'in',\n",
       " u'Germany',\n",
       " u'suggests',\n",
       " u'people',\n",
       " u'with',\n",
       " u'blonde',\n",
       " u'hair',\n",
       " u'are',\n",
       " u'an',\n",
       " u'endangered',\n",
       " u'species',\n",
       " u'and',\n",
       " u'will',\n",
       " u'become',\n",
       " u'extinct',\n",
       " u'by',\n",
       " u'2202',\n",
       " u'.',\n",
       " u'Researchers',\n",
       " u'predict',\n",
       " u'the',\n",
       " u'last',\n",
       " u'truly',\n",
       " u'natural',\n",
       " u'blonde',\n",
       " u'will',\n",
       " u'be',\n",
       " u'born',\n",
       " u'in',\n",
       " u'Finland',\n",
       " u'-',\n",
       " u'the',\n",
       " u'country',\n",
       " u'with',\n",
       " u'the',\n",
       " u'highest',\n",
       " u'proportion',\n",
       " u'of',\n",
       " u'blondes',\n",
       " u'.',\n",
       " u'The',\n",
       " u'frequency',\n",
       " u'of',\n",
       " u'blondes',\n",
       " u'may',\n",
       " u'drop',\n",
       " u'but',\n",
       " u'they',\n",
       " u'wo',\n",
       " u\"n't\",\n",
       " u'disappear',\n",
       " u'Prof',\n",
       " u'Jonathan',\n",
       " u'Rees',\n",
       " u',',\n",
       " u'University',\n",
       " u'of',\n",
       " u'Edinburgh',\n",
       " u'But',\n",
       " u'they',\n",
       " u'say',\n",
       " u'too',\n",
       " u'few',\n",
       " u'people',\n",
       " u'now',\n",
       " u'carry',\n",
       " u'the',\n",
       " u'gene',\n",
       " u'for',\n",
       " u'blondes',\n",
       " u'to',\n",
       " u'last',\n",
       " u'beyond',\n",
       " u'the',\n",
       " u'next',\n",
       " u'two',\n",
       " u'centuries',\n",
       " u'.',\n",
       " u'The',\n",
       " u'problem',\n",
       " u'is',\n",
       " u'that',\n",
       " u'blonde',\n",
       " u'hair',\n",
       " u'is',\n",
       " u'caused',\n",
       " u'by',\n",
       " u'a',\n",
       " u'recessive',\n",
       " u'gene',\n",
       " u'.',\n",
       " u'In',\n",
       " u'order',\n",
       " u'for',\n",
       " u'a',\n",
       " u'child',\n",
       " u'to',\n",
       " u'have',\n",
       " u'blonde',\n",
       " u'hair',\n",
       " u',',\n",
       " u'it',\n",
       " u'must',\n",
       " u'have',\n",
       " u'the',\n",
       " u'gene',\n",
       " u'on',\n",
       " u'both',\n",
       " u'sides',\n",
       " u'of',\n",
       " u'the',\n",
       " u'family',\n",
       " u'in',\n",
       " u'the',\n",
       " u'grandparents',\n",
       " u\"'\",\n",
       " u'generation',\n",
       " u'.',\n",
       " u'Dyed',\n",
       " u'rivals',\n",
       " u'The',\n",
       " u'researchers',\n",
       " u'also',\n",
       " u'believe',\n",
       " u'that',\n",
       " u'so-called',\n",
       " u'bottle',\n",
       " u'blondes',\n",
       " u'may',\n",
       " u'be',\n",
       " u'to',\n",
       " u'blame',\n",
       " u'for',\n",
       " u'the',\n",
       " u'demise',\n",
       " u'of',\n",
       " u'their',\n",
       " u'natural',\n",
       " u'rivals',\n",
       " u'.',\n",
       " u'They',\n",
       " u'suggest',\n",
       " u'that',\n",
       " u'dyed-blondes',\n",
       " u'are',\n",
       " u'more',\n",
       " u'attractive',\n",
       " u'to',\n",
       " u'men',\n",
       " u'who',\n",
       " u'choose',\n",
       " u'them',\n",
       " u'as',\n",
       " u'partners',\n",
       " u'over',\n",
       " u'true',\n",
       " u'blondes',\n",
       " u'.',\n",
       " u'Bottle-blondes',\n",
       " u'like',\n",
       " u'Ann',\n",
       " u'Widdecombe',\n",
       " u'may',\n",
       " u'be',\n",
       " u'to',\n",
       " u'blame',\n",
       " u'But',\n",
       " u'Jonathan',\n",
       " u'Rees',\n",
       " u',',\n",
       " u'professor',\n",
       " u'of',\n",
       " u'dermatology',\n",
       " u'at',\n",
       " u'the',\n",
       " u'University',\n",
       " u'of',\n",
       " u'Edinburgh',\n",
       " u'said',\n",
       " u'it',\n",
       " u'was',\n",
       " u'unlikely',\n",
       " u'blondes',\n",
       " u'would',\n",
       " u'die',\n",
       " u'out',\n",
       " u'completely',\n",
       " u'.',\n",
       " u'``',\n",
       " u'Genes',\n",
       " u'do',\n",
       " u\"n't\",\n",
       " u'die',\n",
       " u'out',\n",
       " u'unless',\n",
       " u'there',\n",
       " u'is',\n",
       " u'a',\n",
       " u'disadvantage',\n",
       " u'of',\n",
       " u'having',\n",
       " u'that',\n",
       " u'gene',\n",
       " u'or',\n",
       " u'by',\n",
       " u'chance',\n",
       " u'.',\n",
       " u'They',\n",
       " u'do',\n",
       " u\"n't\",\n",
       " u'disappear',\n",
       " u',',\n",
       " u\"''\",\n",
       " u'he',\n",
       " u'told',\n",
       " u'BBC',\n",
       " u'News',\n",
       " u'Online',\n",
       " u'.',\n",
       " u'``',\n",
       " u'The',\n",
       " u'only',\n",
       " u'reason',\n",
       " u'blondes',\n",
       " u'would',\n",
       " u'disappear',\n",
       " u'is',\n",
       " u'if',\n",
       " u'having',\n",
       " u'the',\n",
       " u'gene',\n",
       " u'was',\n",
       " u'a',\n",
       " u'disadvantage',\n",
       " u'and',\n",
       " u'I',\n",
       " u'do',\n",
       " u'not',\n",
       " u'think',\n",
       " u'that',\n",
       " u'is',\n",
       " u'the',\n",
       " u'case',\n",
       " u'.',\n",
       " u'``',\n",
       " u'The',\n",
       " u'frequency',\n",
       " u'of',\n",
       " u'blondes',\n",
       " u'may',\n",
       " u'drop',\n",
       " u'but',\n",
       " u'they',\n",
       " u'wo',\n",
       " u\"n't\",\n",
       " u'disappear',\n",
       " u'.',\n",
       " u\"''\",\n",
       " u'See',\n",
       " u'also',\n",
       " u':',\n",
       " u'28',\n",
       " u'Mar',\n",
       " u'01',\n",
       " u'|',\n",
       " u'Education',\n",
       " u'What',\n",
       " u'is',\n",
       " u'it',\n",
       " u'about',\n",
       " u'blondes',\n",
       " u'?',\n",
       " u'09',\n",
       " u'Apr',\n",
       " u'99',\n",
       " u'|',\n",
       " u'Health',\n",
       " u'Platinum',\n",
       " u'blondes',\n",
       " u'are',\n",
       " u'labelled',\n",
       " u'as',\n",
       " u'dumb',\n",
       " u'17',\n",
       " u'Apr',\n",
       " u'02',\n",
       " u'|',\n",
       " u'Health',\n",
       " u'Hair',\n",
       " u'dye',\n",
       " u'cancer',\n",
       " u'alert',\n",
       " u'Internet',\n",
       " u'links',\n",
       " u':',\n",
       " u'University',\n",
       " u'of',\n",
       " u'Edinburgh',\n",
       " u'The',\n",
       " u'BBC',\n",
       " u'is',\n",
       " u'not',\n",
       " u'responsible',\n",
       " u'for',\n",
       " u'the',\n",
       " u'content',\n",
       " u'of',\n",
       " u'external',\n",
       " u'internet',\n",
       " u'sites',\n",
       " u'Top',\n",
       " u'Health',\n",
       " u'stories',\n",
       " u'now',\n",
       " u':',\n",
       " u'Heart',\n",
       " u'risk',\n",
       " u'link',\n",
       " u'to',\n",
       " u'big',\n",
       " u'families',\n",
       " u'Back',\n",
       " u'pain',\n",
       " u'drug',\n",
       " u\"'may\",\n",
       " u'aid',\n",
       " u\"diabetics'\",\n",
       " u'Congo',\n",
       " u'Ebola',\n",
       " u'outbreak',\n",
       " u'confirmed',\n",
       " u'Vegetables',\n",
       " u'ward',\n",
       " u'off',\n",
       " u\"Alzheimer's\",\n",
       " u'Polio',\n",
       " u'campaign',\n",
       " u'launched',\n",
       " u'in',\n",
       " u'Iraq',\n",
       " u'Gene',\n",
       " u'defect',\n",
       " u'explains',\n",
       " u'high',\n",
       " u'blood',\n",
       " u'pressure',\n",
       " u'Botox',\n",
       " u\"'may\",\n",
       " u'cause',\n",
       " u'new',\n",
       " u\"wrinkles'\",\n",
       " u'Alien',\n",
       " u\"'abductees\",\n",
       " u\"'\",\n",
       " u'show',\n",
       " u'real',\n",
       " u'symptoms',\n",
       " u'Links',\n",
       " u'to',\n",
       " u'more',\n",
       " u'Health',\n",
       " u'stories',\n",
       " u'are',\n",
       " u'at',\n",
       " u'the',\n",
       " u'foot',\n",
       " u'of',\n",
       " u'the',\n",
       " u'page',\n",
       " u'.',\n",
       " u'E-mail',\n",
       " u'this',\n",
       " u'story',\n",
       " u'to',\n",
       " u'a',\n",
       " u'friend',\n",
       " u'Links',\n",
       " u'to',\n",
       " u'more',\n",
       " u'Health',\n",
       " u'stories',\n",
       " u'In',\n",
       " u'This',\n",
       " u'Section',\n",
       " u'Heart',\n",
       " u'risk',\n",
       " u'link',\n",
       " u'to',\n",
       " u'big',\n",
       " u'families',\n",
       " u'Back',\n",
       " u'pain',\n",
       " u'drug',\n",
       " u\"'may\",\n",
       " u'aid',\n",
       " u\"diabetics'\",\n",
       " u'Congo',\n",
       " u'Ebola',\n",
       " u'outbreak',\n",
       " u'confirmed',\n",
       " u'Vegetables',\n",
       " u'ward',\n",
       " u'off',\n",
       " u\"Alzheimer's\",\n",
       " u'Polio',\n",
       " u'campaign',\n",
       " u'launched',\n",
       " u'in',\n",
       " u'Iraq',\n",
       " u'Gene',\n",
       " u'defect',\n",
       " u'explains',\n",
       " u'high',\n",
       " u'blood',\n",
       " u'pressure',\n",
       " u'Botox',\n",
       " u\"'may\",\n",
       " u'cause',\n",
       " u'new',\n",
       " u\"wrinkles'\",\n",
       " u'Alien',\n",
       " u\"'abductees\",\n",
       " u\"'\",\n",
       " u'show',\n",
       " u'real',\n",
       " u'symptoms',\n",
       " u'How',\n",
       " u'sperm',\n",
       " u'wriggle',\n",
       " u'Bollywood',\n",
       " u'told',\n",
       " u'to',\n",
       " u'stub',\n",
       " u'it',\n",
       " u'out',\n",
       " u'Fears',\n",
       " u'over',\n",
       " u'tuna',\n",
       " u'health',\n",
       " u'risk',\n",
       " u'to',\n",
       " u'babies',\n",
       " u'Public',\n",
       " u'can',\n",
       " u'be',\n",
       " u'taught',\n",
       " u'to',\n",
       " u'spot',\n",
       " u'strokes',\n",
       " u'^^',\n",
       " u'Back',\n",
       " u'to',\n",
       " u'top',\n",
       " u'News',\n",
       " u'Front',\n",
       " u'Page',\n",
       " u'|',\n",
       " u'Africa',\n",
       " u'|',\n",
       " u'Americas',\n",
       " u'|',\n",
       " u'Asia-Pacific',\n",
       " u'|',\n",
       " u'Europe',\n",
       " u'|',\n",
       " u'Middle',\n",
       " u'East',\n",
       " u'|',\n",
       " u'South',\n",
       " u'Asia',\n",
       " u'|',\n",
       " u'UK',\n",
       " u'|',\n",
       " u'Business',\n",
       " u'|',\n",
       " u'Entertainment',\n",
       " u'|',\n",
       " u'Science/Nature',\n",
       " u'|',\n",
       " u'Technology',\n",
       " u'|',\n",
       " u'Health',\n",
       " u'|',\n",
       " u'Talking',\n",
       " u'Point',\n",
       " u'|',\n",
       " u'Country',\n",
       " u'Profiles',\n",
       " u'|',\n",
       " u'In',\n",
       " u'Depth',\n",
       " u'|',\n",
       " u'Programmes',\n",
       " u'--',\n",
       " u'--',\n",
       " u'--',\n",
       " u'--',\n",
       " u'--',\n",
       " u'--',\n",
       " u'--',\n",
       " u'--',\n",
       " u'--',\n",
       " u'--',\n",
       " u'--',\n",
       " u'--',\n",
       " u'--',\n",
       " u'--',\n",
       " u'--',\n",
       " u'--',\n",
       " u'--',\n",
       " u'--',\n",
       " u'--',\n",
       " u'--',\n",
       " u'--',\n",
       " u'--',\n",
       " u'--',\n",
       " u'--',\n",
       " u'--',\n",
       " u'--',\n",
       " u'--',\n",
       " u'--',\n",
       " u'--',\n",
       " u'--',\n",
       " u'--',\n",
       " u'--',\n",
       " u'--',\n",
       " u'--',\n",
       " u'--',\n",
       " u'--',\n",
       " u'--',\n",
       " u'--',\n",
       " u'--',\n",
       " u'--',\n",
       " u'--',\n",
       " u'To',\n",
       " u'BBC',\n",
       " u'Sport',\n",
       " u'>',\n",
       " u'>',\n",
       " u'|',\n",
       " u'To',\n",
       " u'BBC',\n",
       " u'Weather',\n",
       " u'>',\n",
       " u'>',\n",
       " u'|',\n",
       " u'To',\n",
       " u'BBC',\n",
       " u'World',\n",
       " u'Service',\n",
       " u'>',\n",
       " u'>',\n",
       " u'--',\n",
       " u'--',\n",
       " u'--',\n",
       " u'--',\n",
       " u'--',\n",
       " u'--',\n",
       " u'--',\n",
       " u'--',\n",
       " u'--',\n",
       " u'--',\n",
       " u'--',\n",
       " u'--',\n",
       " u'--',\n",
       " u'--',\n",
       " u'--',\n",
       " u'--',\n",
       " u'--',\n",
       " u'--',\n",
       " u'--',\n",
       " u'--',\n",
       " u'--',\n",
       " u'--',\n",
       " u'--',\n",
       " u'--',\n",
       " u'--',\n",
       " u'--',\n",
       " u'--',\n",
       " u'--',\n",
       " u'--',\n",
       " u'--',\n",
       " u'--',\n",
       " u'--',\n",
       " u'--',\n",
       " u'--',\n",
       " u'--',\n",
       " u'--',\n",
       " u'--',\n",
       " u'--',\n",
       " u'--',\n",
       " u'--',\n",
       " u'--',\n",
       " u'\\xa9',\n",
       " u'MMIII',\n",
       " u'|',\n",
       " u'News',\n",
       " u'Sources',\n",
       " u'|',\n",
       " u'Privacy',\n",
       " u'<',\n",
       " u'!',\n",
       " u'--',\n",
       " u'var',\n",
       " u'pCid=',\n",
       " u\"''\",\n",
       " u'uk_bbc_0',\n",
       " u\"''\",\n",
       " u';',\n",
       " u'var',\n",
       " u'w0=1',\n",
       " u';',\n",
       " u'var',\n",
       " u'refR=escape',\n",
       " u'(',\n",
       " u'document.referrer',\n",
       " u')',\n",
       " u';',\n",
       " u'if',\n",
       " u'(',\n",
       " u'refR.length',\n",
       " u'>',\n",
       " u'=252',\n",
       " u')',\n",
       " u'refR=refR.substring',\n",
       " u'(',\n",
       " u'0,252',\n",
       " u')',\n",
       " u'+',\n",
       " u\"''\",\n",
       " u'...',\n",
       " u\"''\",\n",
       " u';',\n",
       " u'//',\n",
       " u'--',\n",
       " u'>',\n",
       " u'<',\n",
       " u'!',\n",
       " u'--',\n",
       " u'var',\n",
       " u'w0=0',\n",
       " u';',\n",
       " u'//',\n",
       " u'--',\n",
       " u'>',\n",
       " u'<',\n",
       " u'!',\n",
       " u'--',\n",
       " u'if',\n",
       " u'(',\n",
       " u'w0',\n",
       " u')',\n",
       " u'{',\n",
       " u'var',\n",
       " u'imgN=',\n",
       " u\"'\",\n",
       " u'<',\n",
       " u'img',\n",
       " u'src=',\n",
       " u\"''\",\n",
       " u'http',\n",
       " u':',\n",
       " u'//server-uk.imrworldwide.com/cgi-bin/count',\n",
       " u'?',\n",
       " u\"ref='+\",\n",
       " u'refR+',\n",
       " u\"'\",\n",
       " u'&',\n",
       " u\"cid='+pCid+\",\n",
       " u\"'\",\n",
       " u\"''\",\n",
       " u'width=1',\n",
       " u'height=1',\n",
       " u'>',\n",
       " u\"'\",\n",
       " u';',\n",
       " u'if',\n",
       " u'(',\n",
       " u'navigator.userAgent.indexOf',\n",
       " u'(',\n",
       " u\"'Mac\",\n",
       " u\"'\",\n",
       " u')',\n",
       " u'!',\n",
       " u'=-1',\n",
       " u')',\n",
       " u'{',\n",
       " u'document.write',\n",
       " u'(',\n",
       " u'imgN',\n",
       " u')',\n",
       " u';',\n",
       " u'}',\n",
       " u'else',\n",
       " u'{',\n",
       " u'document.write',\n",
       " u'(',\n",
       " u\"'\",\n",
       " u'<',\n",
       " u'applet',\n",
       " u'code=',\n",
       " u\"''\",\n",
       " u'Measure.class',\n",
       " u\"''\",\n",
       " u\"'+\",\n",
       " u\"'codebase=\",\n",
       " u\"''\",\n",
       " u'http',\n",
       " u':',\n",
       " u'//server-uk.imrworldwide.com/',\n",
       " u\"''\",\n",
       " u\"'+'width=1\",\n",
       " u'height=2',\n",
       " u'>',\n",
       " u\"'+\",\n",
       " u\"'\",\n",
       " u'<',\n",
       " u'param',\n",
       " u'name=',\n",
       " u\"''\",\n",
       " u'ref',\n",
       " u\"''\",\n",
       " u'value=',\n",
       " u\"''\",\n",
       " u\"'+refR+\",\n",
       " u\"'\",\n",
       " u\"''\",\n",
       " u'>',\n",
       " u\"'+\",\n",
       " u\"'\",\n",
       " u'<',\n",
       " u'param',\n",
       " u'name=',\n",
       " u\"''\",\n",
       " u'cid',\n",
       " u\"''\",\n",
       " u'value=',\n",
       " u\"''\",\n",
       " u\"'+pCid+\",\n",
       " u\"'\",\n",
       " u\"''\",\n",
       " u'>',\n",
       " u'<',\n",
       " u'textflow',\n",
       " u'>',\n",
       " u\"'+imgN+\",\n",
       " u\"'\",\n",
       " u'<',\n",
       " u'/textflow',\n",
       " u'>',\n",
       " u'<',\n",
       " u'/applet',\n",
       " u'>',\n",
       " u\"'\",\n",
       " u')',\n",
       " u';',\n",
       " u'}',\n",
       " u'}',\n",
       " u'document.write',\n",
       " u'(',\n",
       " u'``',\n",
       " u'<',\n",
       " u'COMMENT',\n",
       " u'>',\n",
       " u\"''\",\n",
       " u')',\n",
       " u';',\n",
       " u'//',\n",
       " u'--',\n",
       " u'>',\n",
       " u'var',\n",
       " u'si',\n",
       " u'=',\n",
       " u'document.location+',\n",
       " u\"''\",\n",
       " u\"''\",\n",
       " u';',\n",
       " u'var',\n",
       " u'tsi',\n",
       " u'=',\n",
       " u'si.replace',\n",
       " u'(',\n",
       " u'``',\n",
       " u'.stm',\n",
       " u\"''\",\n",
       " u',',\n",
       " u\"''\",\n",
       " u\"''\",\n",
       " u')',\n",
       " u'.substr',\n",
       " u'(',\n",
       " u'si.length-11',\n",
       " u',',\n",
       " u'si.length',\n",
       " u')',\n",
       " u';',\n",
       " u'if',\n",
       " u'(',\n",
       " u'!',\n",
       " u'tsi.match',\n",
       " u'(',\n",
       " u'/\\\\d\\\\d\\\\d\\\\d\\\\d\\\\d\\\\d/',\n",
       " u')',\n",
       " u')',\n",
       " u'{',\n",
       " u'tsi',\n",
       " u'=',\n",
       " u'0',\n",
       " u';',\n",
       " u'}',\n",
       " u'document.write',\n",
       " u'(',\n",
       " u\"'\",\n",
       " u'<',\n",
       " u'img',\n",
       " u'src=',\n",
       " u\"''\",\n",
       " u'http',\n",
       " u':',\n",
       " u'//stats.bbc.co.uk/o.gif',\n",
       " u'?',\n",
       " u'~RS~s~RS~News~RS~t~RS~HighWeb_Legacy~RS~i~RS~',\n",
       " u\"'\",\n",
       " u'+',\n",
       " u'tsi',\n",
       " u'+',\n",
       " u\"'~RS~p~RS~0~RS~u~RS~/2/hi/health/2284783.stm~RS~r~RS~\",\n",
       " u'(',\n",
       " u'none',\n",
       " u')',\n",
       " u'~RS~a~RS~International~RS~q~RS~~RS~z~RS~35~RS~',\n",
       " u\"''\",\n",
       " u'>',\n",
       " u\"'\",\n",
       " u')',\n",
       " u';']"
      ]
     },
     "execution_count": 121,
     "metadata": {},
     "output_type": "execute_result"
    }
   ],
   "source": [
    "tokens = word_tokenize(raw)\n",
    "tokens"
   ]
  },
  {
   "cell_type": "raw",
   "metadata": {},
   "source": [
    "9. Save some text into a file corpus.txt. Define a function load(f) that reads from the file named in its sole argument, and returns a string containing the text of the file."
   ]
  },
  {
   "cell_type": "code",
   "execution_count": 122,
   "metadata": {
    "collapsed": true
   },
   "outputs": [],
   "source": [
    "file_1 = open('nltk_chap3_ex.txt', 'w')\n",
    "file_1.write(\"The 1st line of the file. \")\n",
    "file_1.close()"
   ]
  },
  {
   "cell_type": "code",
   "execution_count": 123,
   "metadata": {
    "collapsed": true
   },
   "outputs": [],
   "source": [
    "file_1 = open('nltk_chap3_ex.txt', 'a') # \"a\" means append. This will not overwrite the original content.\n",
    "file_1.write(\"World creates the power of nature, but not intelligence. Nor do we know if aliens really exist.\")\n",
    "file_1.close()"
   ]
  },
  {
   "cell_type": "code",
   "execution_count": 124,
   "metadata": {
    "collapsed": false
   },
   "outputs": [
    {
     "data": {
      "text/plain": [
       "'The 1st line of the file. World creates the power of nature, but not intelligence. Nor do we know if aliens really exist.'"
      ]
     },
     "execution_count": 124,
     "metadata": {},
     "output_type": "execute_result"
    }
   ],
   "source": [
    "file_1 = open('nltk_chap3_ex.txt', 'r')\n",
    "raw = file_1.read()\n",
    "file_1.close()\n",
    "raw"
   ]
  },
  {
   "cell_type": "code",
   "execution_count": 125,
   "metadata": {
    "collapsed": false
   },
   "outputs": [
    {
     "data": {
      "text/plain": [
       "[]"
      ]
     },
     "execution_count": 125,
     "metadata": {},
     "output_type": "execute_result"
    }
   ],
   "source": [
    "pattern = '''\n",
    "(?x)\n",
    "'''\n",
    "nltk.regexp_tokenize(pattern, raw)"
   ]
  },
  {
   "cell_type": "raw",
   "metadata": {},
   "source": [
    "10. Rewrite the following loop as a list comprehension:"
   ]
  },
  {
   "cell_type": "raw",
   "metadata": {},
   "source": [
    "11. Define a string raw containing a sentence of your own choosing. Now, split raw on some character other than space, such as 's'."
   ]
  },
  {
   "cell_type": "code",
   "execution_count": 126,
   "metadata": {
    "collapsed": false
   },
   "outputs": [
    {
     "data": {
      "text/plain": [
       "['N',\n",
       " 't t',\n",
       " '',\n",
       " ' l',\n",
       " 'ng ag',\n",
       " ' this is the ',\n",
       " 'nly place where things are right.']"
      ]
     },
     "execution_count": 126,
     "metadata": {},
     "output_type": "execute_result"
    }
   ],
   "source": [
    "raw = \"Not too long ago this is the only place where things are right.\"\n",
    "raw.split('o')"
   ]
  },
  {
   "cell_type": "code",
   "execution_count": 127,
   "metadata": {
    "collapsed": false
   },
   "outputs": [
    {
     "data": {
      "text/plain": [
       "['Not',\n",
       " 'too',\n",
       " 'long',\n",
       " 'ago',\n",
       " 'this',\n",
       " 'is',\n",
       " 'the',\n",
       " 'only',\n",
       " 'place',\n",
       " 'where',\n",
       " 'things',\n",
       " 'are',\n",
       " 'right.']"
      ]
     },
     "execution_count": 127,
     "metadata": {},
     "output_type": "execute_result"
    }
   ],
   "source": [
    "raw.split(' ')"
   ]
  },
  {
   "cell_type": "raw",
   "metadata": {},
   "source": [
    "12. Write a for loop to print out the characters of a string, one per line."
   ]
  },
  {
   "cell_type": "code",
   "execution_count": 128,
   "metadata": {
    "collapsed": false
   },
   "outputs": [
    {
     "name": "stdout",
     "output_type": "stream",
     "text": [
      "L\n",
      "a\n",
      "s\n",
      "t\n",
      ".\n"
     ]
    }
   ],
   "source": [
    "raw = 'Last.'\n",
    "for character in raw:\n",
    "    print character"
   ]
  },
  {
   "cell_type": "raw",
   "metadata": {},
   "source": [
    "14. Create a variable words containing a list of words. Experiment with words.sort() and sorted(words). What is the difference?"
   ]
  },
  {
   "cell_type": "code",
   "execution_count": 132,
   "metadata": {
    "collapsed": false
   },
   "outputs": [
    {
     "data": {
      "text/plain": [
       "['ask', 'ninja', 'supernova', 'tesla']"
      ]
     },
     "execution_count": 132,
     "metadata": {},
     "output_type": "execute_result"
    }
   ],
   "source": [
    "word_list = ['ask', 'tesla', 'ninja' ,'supernova']\n",
    "word_list.sort()\n",
    "word_list"
   ]
  },
  {
   "cell_type": "code",
   "execution_count": 133,
   "metadata": {
    "collapsed": false
   },
   "outputs": [
    {
     "data": {
      "text/plain": [
       "['ask', 'ninja', 'supernova', 'tesla']"
      ]
     },
     "execution_count": 133,
     "metadata": {},
     "output_type": "execute_result"
    }
   ],
   "source": [
    "word_list = ['ask', 'tesla', 'ninja' ,'supernova']\n",
    "sorted(word_list)"
   ]
  },
  {
   "cell_type": "code",
   "execution_count": 135,
   "metadata": {
    "collapsed": false
   },
   "outputs": [
    {
     "data": {
      "text/plain": [
       "['ask', 'tesla', 'ninja', 'supernova']"
      ]
     },
     "execution_count": 135,
     "metadata": {},
     "output_type": "execute_result"
    }
   ],
   "source": [
    "word_list"
   ]
  },
  {
   "cell_type": "raw",
   "metadata": {},
   "source": [
    "word_list.sort() change the order of original list. Whereas sorted(word_list) does not."
   ]
  },
  {
   "cell_type": "code",
   "execution_count": null,
   "metadata": {
    "collapsed": true
   },
   "outputs": [],
   "source": []
  },
  {
   "cell_type": "code",
   "execution_count": null,
   "metadata": {
    "collapsed": true
   },
   "outputs": [],
   "source": []
  },
  {
   "cell_type": "code",
   "execution_count": null,
   "metadata": {
    "collapsed": true
   },
   "outputs": [],
   "source": []
  },
  {
   "cell_type": "code",
   "execution_count": null,
   "metadata": {
    "collapsed": true
   },
   "outputs": [],
   "source": []
  }
 ],
 "metadata": {
  "kernelspec": {
   "display_name": "Python 2",
   "language": "python",
   "name": "python2"
  },
  "language_info": {
   "codemirror_mode": {
    "name": "ipython",
    "version": 2
   },
   "file_extension": ".py",
   "mimetype": "text/x-python",
   "name": "python",
   "nbconvert_exporter": "python",
   "pygments_lexer": "ipython2",
   "version": "2.7.13"
  }
 },
 "nbformat": 4,
 "nbformat_minor": 2
}
