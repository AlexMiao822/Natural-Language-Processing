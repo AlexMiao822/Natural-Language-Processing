{
 "cells": [
  {
   "cell_type": "code",
   "execution_count": 360,
   "metadata": {
    "collapsed": true
   },
   "outputs": [],
   "source": [
    "import nltk\n",
    "from nltk import word_tokenize\n",
    "from nltk import FreqDist # need this to access \"most_common\" method\n",
    "\n",
    "import urllib2\n",
    "\n",
    "from IPython.display import Image\n",
    "\n",
    "import re\n",
    "\n",
    "import random"
   ]
  },
  {
   "cell_type": "raw",
   "metadata": {},
   "source": [
    "1. Define a string s = 'colorless'. Write a Python statement that changes this to \"colourless\" using only the slice and concatenation operations."
   ]
  },
  {
   "cell_type": "code",
   "execution_count": 361,
   "metadata": {
    "collapsed": false
   },
   "outputs": [
    {
     "data": {
      "text/plain": [
       "'colourless'"
      ]
     },
     "execution_count": 361,
     "metadata": {},
     "output_type": "execute_result"
    }
   ],
   "source": [
    "s = 'colorless'\n",
    "s_new = s[0:4]+'u'+s[4:]\n",
    "s_new"
   ]
  },
  {
   "cell_type": "raw",
   "metadata": {},
   "source": [
    "2. We can use the slice notation to remove morphological endings on words. For example, 'dogs'[:-1] removes the last character of dogs, leaving dog. Use slice notation to remove the affixes from these words (we've inserted a hyphen to indicate the affix boundary, but omit this from your strings): dish-es, run-ning, nation-ality, un-do, pre-heat."
   ]
  },
  {
   "cell_type": "code",
   "execution_count": 362,
   "metadata": {
    "collapsed": false
   },
   "outputs": [
    {
     "data": {
      "text/plain": [
       "'airplane'"
      ]
     },
     "execution_count": 362,
     "metadata": {},
     "output_type": "execute_result"
    }
   ],
   "source": [
    "'airplanes'[:-1]"
   ]
  },
  {
   "cell_type": "raw",
   "metadata": {},
   "source": [
    "3. We saw how we can generate an IndexError by indexing beyond the end of a string. Is it possible to construct an index that goes too far to the left, before the start of the string?"
   ]
  },
  {
   "cell_type": "markdown",
   "metadata": {},
   "source": [
    "#### ???"
   ]
  },
  {
   "cell_type": "raw",
   "metadata": {},
   "source": [
    "4. We can specify a \"step\" size for the slice. The following returns every second character within the slice: monty[6:11:2]. It also works in the reverse direction: monty[10:5:-2] Try these for yourself, then experiment with different step values."
   ]
  },
  {
   "cell_type": "code",
   "execution_count": 363,
   "metadata": {
    "collapsed": false
   },
   "outputs": [
    {
     "data": {
      "text/plain": [
       "'acegi'"
      ]
     },
     "execution_count": 363,
     "metadata": {},
     "output_type": "execute_result"
    }
   ],
   "source": [
    "string = 'abcdefghijklmnopqrstuvwxyz'\n",
    "string[0:10:2]"
   ]
  },
  {
   "cell_type": "markdown",
   "metadata": {},
   "source": [
    "Reverse"
   ]
  },
  {
   "cell_type": "code",
   "execution_count": 364,
   "metadata": {
    "collapsed": false
   },
   "outputs": [
    {
     "data": {
      "text/plain": [
       "'zxvtrpnl'"
      ]
     },
     "execution_count": 364,
     "metadata": {},
     "output_type": "execute_result"
    }
   ],
   "source": [
    "string[25:10:-2]"
   ]
  },
  {
   "cell_type": "raw",
   "metadata": {},
   "source": [
    "5. What happens if you ask the interpreter to evaluate monty[::-1]? Explain why this is a reasonable result."
   ]
  },
  {
   "cell_type": "code",
   "execution_count": 365,
   "metadata": {
    "collapsed": false
   },
   "outputs": [
    {
     "data": {
      "text/plain": [
       "'zyxwvutsrqponmlkjihgfedcba'"
      ]
     },
     "execution_count": 365,
     "metadata": {},
     "output_type": "execute_result"
    }
   ],
   "source": [
    "string[::-1]"
   ]
  },
  {
   "cell_type": "code",
   "execution_count": 366,
   "metadata": {
    "collapsed": false
   },
   "outputs": [
    {
     "data": {
      "text/plain": [
       "'!yad doog a si sihT'"
      ]
     },
     "execution_count": 366,
     "metadata": {},
     "output_type": "execute_result"
    }
   ],
   "source": [
    "sentence = 'This is a good day!'\n",
    "sentence[::-1]"
   ]
  },
  {
   "cell_type": "raw",
   "metadata": {},
   "source": [
    "6. Describe the class of strings matched by the following regular expressions.\n",
    "\n",
    "a. [a-zA-Z]+\n",
    "b. [A-Z][a-z]*\n",
    "c. p[aeiou]{,2}t\n",
    "d. \\d+(\\.\\d+)?\n",
    "e. ([^aeiou][aeiou][^aeiou])*\n",
    "f. \\w+|[^\\w\\s]+\n",
    "Test your answers using nltk.re_show()."
   ]
  },
  {
   "cell_type": "raw",
   "metadata": {},
   "source": [
    "a. [a-zA-Z] is a range, + means one or more of previous character\n",
    "b. [A-Z][a-z] means the 1st letter is between A to Z, the 2nd a to z. * means zero or more of previous character\n",
    "c. Start with p, one of aeiou, {,2} means no more than 2 repeats, then the last letter is t\n",
    "d. ???\n",
    "e. \n",
    "f. ???"
   ]
  },
  {
   "cell_type": "raw",
   "metadata": {},
   "source": [
    "e. wordlist = [w for w in nltk.corpus.words.words('en') if w.islower()]\n",
    "[pair for word in wordlist for pair in re.findall(r'([^aeiou][aeiou][^aeiou])*',word)]"
   ]
  },
  {
   "cell_type": "raw",
   "metadata": {},
   "source": [
    "8. Write a utility function that takes a URL as its argument, and returns the contents of the URL, with all HTML markup removed. Use from urllib import request and then  request.urlopen('http://nltk.org/').read().decode('utf8') to access the contents of the URL."
   ]
  },
  {
   "cell_type": "raw",
   "metadata": {},
   "source": [
    "1. Get the url to html format"
   ]
  },
  {
   "cell_type": "code",
   "execution_count": 367,
   "metadata": {
    "collapsed": false
   },
   "outputs": [],
   "source": [
    "import urllib2\n",
    "\n",
    "url = \"http://news.bbc.co.uk/2/hi/health/2284783.stm\"\n",
    "html = urllib2.urlopen(url).read().decode('utf8')"
   ]
  },
  {
   "cell_type": "raw",
   "metadata": {},
   "source": [
    "2. User BeautifulSoup.get_text()"
   ]
  },
  {
   "cell_type": "code",
   "execution_count": 368,
   "metadata": {
    "collapsed": false
   },
   "outputs": [],
   "source": [
    "from bs4 import BeautifulSoup\n",
    "raw = BeautifulSoup(html).get_text()"
   ]
  },
  {
   "cell_type": "raw",
   "metadata": {},
   "source": [
    "3. Tokenization"
   ]
  },
  {
   "cell_type": "code",
   "execution_count": 369,
   "metadata": {
    "collapsed": false
   },
   "outputs": [
    {
     "data": {
      "text/plain": [
       "[u'BBC',\n",
       " u'NEWS',\n",
       " u'|',\n",
       " u'Health',\n",
       " u'|',\n",
       " u'Blondes',\n",
       " u\"'to\",\n",
       " u'die',\n",
       " u'out',\n",
       " u'in']"
      ]
     },
     "execution_count": 369,
     "metadata": {},
     "output_type": "execute_result"
    }
   ],
   "source": [
    "tokens = word_tokenize(raw)\n",
    "tokens[:10]"
   ]
  },
  {
   "cell_type": "raw",
   "metadata": {},
   "source": [
    "9. Save some text into a file corpus.txt. Define a function load(f) that reads from the file named in its sole argument, and returns a string containing the text of the file."
   ]
  },
  {
   "cell_type": "code",
   "execution_count": 370,
   "metadata": {
    "collapsed": true
   },
   "outputs": [],
   "source": [
    "file_1 = open('nltk_chap3_ex.txt', 'w')\n",
    "file_1.write(\"The 1st line of the file. \")\n",
    "file_1.close()"
   ]
  },
  {
   "cell_type": "code",
   "execution_count": 371,
   "metadata": {
    "collapsed": true
   },
   "outputs": [],
   "source": [
    "file_1 = open('nltk_chap3_ex.txt', 'a') # \"a\" means append. This will not overwrite the original content.\n",
    "file_1.write(\"World creates the power of nature, but not intelligence. Nor do we know if aliens really exist.\")\n",
    "file_1.close()"
   ]
  },
  {
   "cell_type": "code",
   "execution_count": 372,
   "metadata": {
    "collapsed": false
   },
   "outputs": [
    {
     "data": {
      "text/plain": [
       "'The 1st line of the file. World creates the power of nature, but not intelligence. Nor do we know if aliens really exist.'"
      ]
     },
     "execution_count": 372,
     "metadata": {},
     "output_type": "execute_result"
    }
   ],
   "source": [
    "file_1 = open('nltk_chap3_ex.txt', 'r')\n",
    "raw = file_1.read()\n",
    "file_1.close()\n",
    "raw"
   ]
  },
  {
   "cell_type": "code",
   "execution_count": 373,
   "metadata": {
    "collapsed": false
   },
   "outputs": [
    {
     "data": {
      "text/plain": [
       "[]"
      ]
     },
     "execution_count": 373,
     "metadata": {},
     "output_type": "execute_result"
    }
   ],
   "source": [
    "pattern = '''\n",
    "(?x)\n",
    "'''\n",
    "nltk.regexp_tokenize(pattern, raw)"
   ]
  },
  {
   "cell_type": "raw",
   "metadata": {},
   "source": [
    "10. Rewrite the following loop as a list comprehension:"
   ]
  },
  {
   "cell_type": "raw",
   "metadata": {},
   "source": [
    "11. Define a string raw containing a sentence of your own choosing. Now, split raw on some character other than space, such as 's'."
   ]
  },
  {
   "cell_type": "code",
   "execution_count": 374,
   "metadata": {
    "collapsed": false
   },
   "outputs": [
    {
     "data": {
      "text/plain": [
       "['N',\n",
       " 't t',\n",
       " '',\n",
       " ' l',\n",
       " 'ng ag',\n",
       " ' this is the ',\n",
       " 'nly place where things are right.']"
      ]
     },
     "execution_count": 374,
     "metadata": {},
     "output_type": "execute_result"
    }
   ],
   "source": [
    "raw = \"Not too long ago this is the only place where things are right.\"\n",
    "raw.split('o')"
   ]
  },
  {
   "cell_type": "code",
   "execution_count": 375,
   "metadata": {
    "collapsed": false
   },
   "outputs": [
    {
     "data": {
      "text/plain": [
       "['Not',\n",
       " 'too',\n",
       " 'long',\n",
       " 'ago',\n",
       " 'this',\n",
       " 'is',\n",
       " 'the',\n",
       " 'only',\n",
       " 'place',\n",
       " 'where',\n",
       " 'things',\n",
       " 'are',\n",
       " 'right.']"
      ]
     },
     "execution_count": 375,
     "metadata": {},
     "output_type": "execute_result"
    }
   ],
   "source": [
    "raw.split(' ')"
   ]
  },
  {
   "cell_type": "raw",
   "metadata": {},
   "source": [
    "12. Write a for loop to print out the characters of a string, one per line."
   ]
  },
  {
   "cell_type": "code",
   "execution_count": 376,
   "metadata": {
    "collapsed": false
   },
   "outputs": [
    {
     "name": "stdout",
     "output_type": "stream",
     "text": [
      "L\n",
      "a\n",
      "s\n",
      "t\n",
      ".\n"
     ]
    }
   ],
   "source": [
    "raw = 'Last.'\n",
    "for character in raw:\n",
    "    print character"
   ]
  },
  {
   "cell_type": "raw",
   "metadata": {},
   "source": [
    "14. Create a variable words containing a list of words. Experiment with words.sort() and sorted(words). What is the difference?"
   ]
  },
  {
   "cell_type": "code",
   "execution_count": 377,
   "metadata": {
    "collapsed": false
   },
   "outputs": [
    {
     "data": {
      "text/plain": [
       "['ask', 'ninja', 'supernova', 'tesla']"
      ]
     },
     "execution_count": 377,
     "metadata": {},
     "output_type": "execute_result"
    }
   ],
   "source": [
    "word_list = ['ask', 'tesla', 'ninja' ,'supernova']\n",
    "word_list.sort()\n",
    "word_list"
   ]
  },
  {
   "cell_type": "code",
   "execution_count": 378,
   "metadata": {
    "collapsed": false
   },
   "outputs": [
    {
     "data": {
      "text/plain": [
       "['ask', 'ninja', 'supernova', 'tesla']"
      ]
     },
     "execution_count": 378,
     "metadata": {},
     "output_type": "execute_result"
    }
   ],
   "source": [
    "word_list = ['ask', 'tesla', 'ninja' ,'supernova']\n",
    "sorted(word_list)"
   ]
  },
  {
   "cell_type": "code",
   "execution_count": 379,
   "metadata": {
    "collapsed": false
   },
   "outputs": [
    {
     "data": {
      "text/plain": [
       "['ask', 'tesla', 'ninja', 'supernova']"
      ]
     },
     "execution_count": 379,
     "metadata": {},
     "output_type": "execute_result"
    }
   ],
   "source": [
    "word_list"
   ]
  },
  {
   "cell_type": "raw",
   "metadata": {},
   "source": [
    "word_list.sort() change the order of original list. Whereas sorted(word_list) does not."
   ]
  },
  {
   "cell_type": "markdown",
   "metadata": {},
   "source": [
    "15"
   ]
  },
  {
   "cell_type": "raw",
   "metadata": {
    "collapsed": true
   },
   "source": [
    "Explore the difference between strings and integers by typing the following at a Python prompt: \"3\" * 7 and 3 * 7. Try converting between strings and integers using int(\"3\") and str(3)."
   ]
  },
  {
   "cell_type": "code",
   "execution_count": 380,
   "metadata": {
    "collapsed": false
   },
   "outputs": [
    {
     "name": "stdout",
     "output_type": "stream",
     "text": [
      "21\n"
     ]
    }
   ],
   "source": [
    "print 3 * 7"
   ]
  },
  {
   "cell_type": "code",
   "execution_count": 381,
   "metadata": {
    "collapsed": false
   },
   "outputs": [
    {
     "name": "stdout",
     "output_type": "stream",
     "text": [
      "3333333\n"
     ]
    }
   ],
   "source": [
    "print \"3\" * 7"
   ]
  },
  {
   "cell_type": "code",
   "execution_count": 382,
   "metadata": {
    "collapsed": false
   },
   "outputs": [
    {
     "name": "stdout",
     "output_type": "stream",
     "text": [
      "3333333\n"
     ]
    }
   ],
   "source": [
    "print str(3)*7"
   ]
  },
  {
   "cell_type": "code",
   "execution_count": 383,
   "metadata": {
    "collapsed": false
   },
   "outputs": [
    {
     "name": "stdout",
     "output_type": "stream",
     "text": [
      "21\n"
     ]
    }
   ],
   "source": [
    "print int(\"3\")*7"
   ]
  },
  {
   "cell_type": "markdown",
   "metadata": {},
   "source": [
    "16."
   ]
  },
  {
   "cell_type": "raw",
   "metadata": {},
   "source": [
    "Use a text editor to create a file called prog.py containing the single line monty = 'Monty Python'. Next, start up a new session with the Python interpreter, and enter the expression monty at the prompt. You will get an error from the interpreter. Now, try the following (note that you have to leave off the .py part of the filename):\n",
    ">>> from prog import monty\n",
    ">>> monty"
   ]
  },
  {
   "cell_type": "code",
   "execution_count": 384,
   "metadata": {
    "collapsed": false
   },
   "outputs": [],
   "source": [
    "with open(\"prog.py\",'w') as prog:\n",
    "    prog.write(\"monty = 'Monty Python'\")\n",
    "    \n",
    "prog.close()"
   ]
  },
  {
   "cell_type": "code",
   "execution_count": 385,
   "metadata": {
    "collapsed": true
   },
   "outputs": [],
   "source": [
    "from prog import monty"
   ]
  },
  {
   "cell_type": "code",
   "execution_count": 386,
   "metadata": {
    "collapsed": false
   },
   "outputs": [
    {
     "data": {
      "text/plain": [
       "'Monty Python'"
      ]
     },
     "execution_count": 386,
     "metadata": {},
     "output_type": "execute_result"
    }
   ],
   "source": [
    "monty"
   ]
  },
  {
   "cell_type": "markdown",
   "metadata": {},
   "source": [
    "17."
   ]
  },
  {
   "cell_type": "raw",
   "metadata": {},
   "source": [
    "What happens when the formatting strings %6s and %-6s are used to display strings that are longer than six characters?"
   ]
  },
  {
   "cell_type": "code",
   "execution_count": 387,
   "metadata": {
    "collapsed": false
   },
   "outputs": [
    {
     "data": {
      "text/plain": [
       "'thisisalongstring'"
      ]
     },
     "execution_count": 387,
     "metadata": {},
     "output_type": "execute_result"
    }
   ],
   "source": [
    "'{:6}'.format('thisisalongstring')"
   ]
  },
  {
   "cell_type": "markdown",
   "metadata": {},
   "source": [
    "If the string is longer than assigned length, it shows everything."
   ]
  },
  {
   "cell_type": "code",
   "execution_count": 388,
   "metadata": {
    "collapsed": false
   },
   "outputs": [
    {
     "data": {
      "text/plain": [
       "'if    '"
      ]
     },
     "execution_count": 388,
     "metadata": {},
     "output_type": "execute_result"
    }
   ],
   "source": [
    "'{:6}'.format('if')"
   ]
  },
  {
   "cell_type": "code",
   "execution_count": 389,
   "metadata": {
    "collapsed": false
   },
   "outputs": [
    {
     "data": {
      "text/plain": [
       "'    if'"
      ]
     },
     "execution_count": 389,
     "metadata": {},
     "output_type": "execute_result"
    }
   ],
   "source": [
    "'{:>6}'.format('if')"
   ]
  },
  {
   "cell_type": "markdown",
   "metadata": {},
   "source": [
    "18."
   ]
  },
  {
   "cell_type": "raw",
   "metadata": {},
   "source": [
    "Read in some text from a corpus, tokenize it, and print the list of all wh-word types that occur. (wh-words in English are used in questions, relative clauses and exclamations: who, which, what, and so on.) Print them in order. Are any words duplicated in this list, because of the presence of case distinctions or punctuation?"
   ]
  },
  {
   "cell_type": "markdown",
   "metadata": {},
   "source": [
    "Here let's take the inauguration speech"
   ]
  },
  {
   "cell_type": "code",
   "execution_count": 390,
   "metadata": {
    "collapsed": true
   },
   "outputs": [],
   "source": [
    "from nltk.corpus import inaugural"
   ]
  },
  {
   "cell_type": "markdown",
   "metadata": {},
   "source": [
    "Let's count the \"wh-\" words in all the inauguration files."
   ]
  },
  {
   "cell_type": "code",
   "execution_count": 391,
   "metadata": {
    "collapsed": false
   },
   "outputs": [
    {
     "data": {
      "text/plain": [
       "[(u'which', 1002),\n",
       " (u'who', 356),\n",
       " (u'when', 162),\n",
       " (u'what', 143),\n",
       " (u'whole', 90),\n",
       " (u'whose', 66),\n",
       " (u'where', 62),\n",
       " (u'whether', 46),\n",
       " (u'while', 45),\n",
       " (u'When', 41),\n",
       " (u'whom', 39),\n",
       " (u'While', 31),\n",
       " (u'whatever', 25),\n",
       " (u'What', 23),\n",
       " (u'wherever', 15),\n",
       " (u'why', 13),\n",
       " (u'whilst', 11),\n",
       " (u'wholly', 9),\n",
       " (u'white', 8),\n",
       " (u'whenever', 8)]"
      ]
     },
     "execution_count": 391,
     "metadata": {},
     "output_type": "execute_result"
    }
   ],
   "source": [
    "fd = nltk.FreqDist(\n",
    "                                word\n",
    "                                for file_ in inaugural.fileids()\n",
    "                                for word in inaugural.words(file_)\n",
    "                                if re.search('^wh.*', word.lower()) \n",
    ")\n",
    "fd.most_common(20)"
   ]
  },
  {
   "cell_type": "code",
   "execution_count": 392,
   "metadata": {
    "collapsed": false
   },
   "outputs": [
    {
     "data": {
      "image/png": "[encoded data removed]",
      "text/plain": [
       "<matplotlib.figure.Figure at 0x11a2b7fd0>"
      ]
     },
     "metadata": {},
     "output_type": "display_data"
    }
   ],
   "source": [
    "fd.plot()"
   ]
  },
  {
   "cell_type": "markdown",
   "metadata": {},
   "source": [
    "20."
   ]
  },
  {
   "cell_type": "raw",
   "metadata": {},
   "source": [
    "Write code to access a favorite webpage and extract some text from it. For example, access a weather site and extract the forecast top temperature for your town or city today."
   ]
  },
  {
   "cell_type": "raw",
   "metadata": {},
   "source": [
    "When you have an url, to access the raw material:\n",
    "\n",
    "raw = urllib2.urlopen(url).read().decode('utf8')"
   ]
  },
  {
   "cell_type": "code",
   "execution_count": 393,
   "metadata": {
    "collapsed": false
   },
   "outputs": [],
   "source": [
    "url = 'https://en.wikipedia.org/wiki/Basketball'\n",
    "\n",
    "raw = urllib2.urlopen(url).read().decode('utf8')\n"
   ]
  },
  {
   "cell_type": "markdown",
   "metadata": {},
   "source": [
    "The next step is important: tokenize the raw material from online"
   ]
  },
  {
   "cell_type": "code",
   "execution_count": 394,
   "metadata": {
    "collapsed": false
   },
   "outputs": [
    {
     "data": {
      "text/plain": [
       "[u'<',\n",
       " u'!',\n",
       " u'DOCTYPE',\n",
       " u'html',\n",
       " u'>',\n",
       " u'<',\n",
       " u'html',\n",
       " u'class=',\n",
       " u\"''\",\n",
       " u'client-nojs']"
      ]
     },
     "execution_count": 394,
     "metadata": {},
     "output_type": "execute_result"
    }
   ],
   "source": [
    "tokens = word_tokenize(raw)\n",
    "tokens[:10]"
   ]
  },
  {
   "cell_type": "markdown",
   "metadata": {},
   "source": [
    "Or, use BeautifulSoup to get the text"
   ]
  },
  {
   "cell_type": "code",
   "execution_count": 395,
   "metadata": {
    "collapsed": true
   },
   "outputs": [],
   "source": [
    "from bs4 import BeautifulSoup"
   ]
  },
  {
   "cell_type": "code",
   "execution_count": 396,
   "metadata": {
    "collapsed": false
   },
   "outputs": [
    {
     "data": {
      "text/plain": [
       "u'\\n\\n\\nBasketb'"
      ]
     },
     "execution_count": 396,
     "metadata": {},
     "output_type": "execute_result"
    }
   ],
   "source": [
    "text = BeautifulSoup(raw).get_text()\n",
    "text[:10]"
   ]
  },
  {
   "cell_type": "code",
   "execution_count": 397,
   "metadata": {
    "collapsed": false
   },
   "outputs": [
    {
     "data": {
      "text/plain": [
       "[u'Basketball',\n",
       " u'-',\n",
       " u'Wikipedia',\n",
       " u'document.documentElement.className',\n",
       " u'=',\n",
       " u'document.documentElement.className.replace',\n",
       " u'(',\n",
       " u'/',\n",
       " u'(',\n",
       " u'^|\\\\s']"
      ]
     },
     "execution_count": 397,
     "metadata": {},
     "output_type": "execute_result"
    }
   ],
   "source": [
    "tokens = word_tokenize(text)\n",
    "tokens[:10]"
   ]
  },
  {
   "cell_type": "markdown",
   "metadata": {},
   "source": [
    "21."
   ]
  },
  {
   "cell_type": "raw",
   "metadata": {},
   "source": [
    "Write a function unknown() that takes a URL as its argument, and returns a list of unknown words that occur on that webpage. In order to do this, extract all substrings consisting of lowercase letters (using re.findall()) and remove any items from this set that occur in the Words Corpus (nltk.corpus.words). Try to categorize these words manually and discuss your findings."
   ]
  },
  {
   "cell_type": "code",
   "execution_count": 398,
   "metadata": {
    "collapsed": false
   },
   "outputs": [
    {
     "data": {
      "text/plain": [
       "[u'A', u'a', u'aa', u'aal', u'aalii']"
      ]
     },
     "execution_count": 398,
     "metadata": {},
     "output_type": "execute_result"
    }
   ],
   "source": [
    "word_list_english = nltk.corpus.words.words('en')\n",
    "word_list_english[:5]"
   ]
  },
  {
   "cell_type": "markdown",
   "metadata": {},
   "source": [
    "!!! Use .isalpha() to filter words only"
   ]
  },
  {
   "cell_type": "code",
   "execution_count": 399,
   "metadata": {
    "collapsed": false
   },
   "outputs": [
    {
     "data": {
      "text/plain": [
       "[u'Basketball',\n",
       " u'Wikipedia',\n",
       " u'function',\n",
       " u'wgCanonicalNamespace',\n",
       " u'wgCanonicalSpecialPageName',\n",
       " u'false',\n",
       " u'wgNamespaceNumber',\n",
       " u'wgPageName',\n",
       " u'Basketball',\n",
       " u'wgTitle']"
      ]
     },
     "execution_count": 399,
     "metadata": {},
     "output_type": "execute_result"
    }
   ],
   "source": [
    "word_only_list_web = [word for word in tokens if word.isalpha()]\n",
    "word_only_list_web[:10]"
   ]
  },
  {
   "cell_type": "code",
   "execution_count": 400,
   "metadata": {
    "collapsed": false
   },
   "outputs": [
    {
     "data": {
      "text/plain": [
       "[u'wikipedia',\n",
       " u'wgcanonicalnamespace',\n",
       " u'wgcanonicalspecialpagename',\n",
       " u'wgnamespacenumber',\n",
       " u'wgpagename',\n",
       " u'wgtitle',\n",
       " u'wgcurrevisionid',\n",
       " u'wgrevisionid',\n",
       " u'wgarticleid',\n",
       " u'wgisarticle']"
      ]
     },
     "execution_count": 400,
     "metadata": {},
     "output_type": "execute_result"
    }
   ],
   "source": [
    "word_not_in_corpus = [word.lower() for word in word_only_list_web \n",
    "                      if word.lower() not in word_list_english]\n",
    "word_not_in_corpus[:10]"
   ]
  },
  {
   "cell_type": "code",
   "execution_count": 401,
   "metadata": {
    "collapsed": false
   },
   "outputs": [
    {
     "data": {
      "text/plain": [
       "[(u'players', 66),\n",
       " (u'games', 59),\n",
       " (u'retrieved', 57),\n",
       " (u'women', 54),\n",
       " (u'rules', 53),\n",
       " (u'teams', 51),\n",
       " (u'nba', 50),\n",
       " (u'fiba', 46),\n",
       " (u'played', 44),\n",
       " (u'states', 26),\n",
       " (u'articles', 26),\n",
       " (u'july', 26),\n",
       " (u'american', 24),\n",
       " (u'feet', 24),\n",
       " (u'naismith', 24),\n",
       " (u'has', 23),\n",
       " (u'called', 23),\n",
       " (u'dribbling', 21),\n",
       " (u'leagues', 21),\n",
       " (u'archived', 20)]"
      ]
     },
     "execution_count": 401,
     "metadata": {},
     "output_type": "execute_result"
    }
   ],
   "source": [
    "fd = nltk.FreqDist(word_not_in_corpus)\n",
    "fd.most_common(20)"
   ]
  },
  {
   "cell_type": "markdown",
   "metadata": {},
   "source": [
    "Most words are in a slightly different form compared with corpus words. e.g. player vs. players, etc."
   ]
  },
  {
   "cell_type": "markdown",
   "metadata": {},
   "source": [
    "Sort the result. Sorting result in the nltk.FreqDist as follow:"
   ]
  },
  {
   "cell_type": "code",
   "execution_count": 402,
   "metadata": {
    "collapsed": false
   },
   "outputs": [],
   "source": [
    "fd_sorted = sorted(fd, key=fd.get, reverse=True)"
   ]
  },
  {
   "cell_type": "markdown",
   "metadata": {
    "collapsed": true
   },
   "source": [
    "19."
   ]
  },
  {
   "cell_type": "raw",
   "metadata": {
    "collapsed": true
   },
   "source": [
    "Create a file consisting of words and (made up) frequencies, where each line consists of a word, the space character, and a positive integer, e.g. fuzzy 53. Read the file into a Python list using  open(filename).readlines(). Next, break each line into its two fields using split(), and convert the number into an integer using int(). The result should be a list of the form:  [['fuzzy', 53], ...]"
   ]
  },
  {
   "cell_type": "code",
   "execution_count": 403,
   "metadata": {
    "collapsed": false
   },
   "outputs": [
    {
     "data": {
      "text/plain": [
       "[['goose', '1\\n'],\n",
       " ['tampa', '52\\n'],\n",
       " ['astronaut', '109\\n'],\n",
       " ['elephant', '8\\n'],\n",
       " ['naruto', '827\\n'],\n",
       " ['trombone', '3\\n']]"
      ]
     },
     "execution_count": 403,
     "metadata": {},
     "output_type": "execute_result"
    }
   ],
   "source": [
    "freq_list = []\n",
    "\n",
    "with open('chap3_ex19.txt', 'r') as f:\n",
    "    for line in f:\n",
    "        freq_list.append(list([line.split(' ')[0], line.split(' ')[1]]))\n",
    "        \n",
    "freq_list"
   ]
  },
  {
   "cell_type": "raw",
   "metadata": {
    "collapsed": true
   },
   "source": [
    "The key here is construct a list for each line by list([a, b]). Then insert each small list to the bigger list."
   ]
  },
  {
   "cell_type": "markdown",
   "metadata": {
    "collapsed": true
   },
   "source": [
    "22."
   ]
  },
  {
   "cell_type": "code",
   "execution_count": 404,
   "metadata": {
    "collapsed": false
   },
   "outputs": [
    {
     "data": {
      "text/plain": [
       "u'\\n\\n\\n\\nHome -'"
      ]
     },
     "execution_count": 404,
     "metadata": {},
     "output_type": "execute_result"
    }
   ],
   "source": [
    "url = \"http://news.bbc.co.uk/\"\n",
    "\n",
    "raw = urllib2.urlopen(url).read().decode('utf8')\n",
    "text = BeautifulSoup(raw).get_text()\n",
    "text[:10]"
   ]
  },
  {
   "cell_type": "markdown",
   "metadata": {},
   "source": [
    "Make sure tokenize text before do anything"
   ]
  },
  {
   "cell_type": "code",
   "execution_count": 405,
   "metadata": {
    "collapsed": false
   },
   "outputs": [
    {
     "data": {
      "text/plain": [
       "[u'Home', u'-', u'BBC', u'News', u'{', u'``', u'@', u'context', u\"''\", u':']"
      ]
     },
     "execution_count": 405,
     "metadata": {},
     "output_type": "execute_result"
    }
   ],
   "source": [
    "tokens = word_tokenize(text)\n",
    "tokens[:10]"
   ]
  },
  {
   "cell_type": "code",
   "execution_count": 406,
   "metadata": {
    "collapsed": false
   },
   "outputs": [
    {
     "data": {
      "text/plain": [
       "[u'H', u'o', u'm', u'e', u'B', u'B', u'C', u'N', u'e', u'w']"
      ]
     },
     "execution_count": 406,
     "metadata": {},
     "output_type": "execute_result"
    }
   ],
   "source": [
    "text_only = [word for word in text if word.isalpha()]\n",
    "text_only[:10]"
   ]
  },
  {
   "cell_type": "code",
   "execution_count": 407,
   "metadata": {
    "collapsed": false
   },
   "outputs": [
    {
     "data": {
      "text/plain": [
       "[u'Home',\n",
       " u'BBC',\n",
       " u'News',\n",
       " u'context',\n",
       " u'http',\n",
       " u'type',\n",
       " u'WebPage',\n",
       " u'url',\n",
       " u'http',\n",
       " u'publisher']"
      ]
     },
     "execution_count": 407,
     "metadata": {},
     "output_type": "execute_result"
    }
   ],
   "source": [
    "letters_only = [letter for letter in tokens if letter.isalpha()]\n",
    "letters_only[:10]"
   ]
  },
  {
   "cell_type": "markdown",
   "metadata": {},
   "source": [
    "23."
   ]
  },
  {
   "cell_type": "markdown",
   "metadata": {},
   "source": [
    "#### The key to use regular expression for splitting is to put square brackets and use \"|\" to separate the delimiters/ words that you want to use to split the sentence."
   ]
  },
  {
   "cell_type": "code",
   "execution_count": 408,
   "metadata": {
    "collapsed": false
   },
   "outputs": [
    {
     "data": {
      "text/plain": [
       "['pleae ',\n",
       " ' ',\n",
       " 'his ',\n",
       " ' saa ',\n",
       " ' sdasd',\n",
       " ' sdasd ',\n",
       " ' sd shi ^ sdisa, ',\n",
       " '',\n",
       " '',\n",
       " ' a \\n& ',\n",
       " '',\n",
       " '',\n",
       " ' ',\n",
       " ' ',\n",
       " '',\n",
       " '',\n",
       " ' ',\n",
       " '',\n",
       " '',\n",
       " '() use i',\n",
       " ' ',\n",
       " '$',\n",
       " ' sdsa']"
      ]
     },
     "execution_count": 408,
     "metadata": {},
     "output_type": "execute_result"
    }
   ],
   "source": [
    "sent = '''pleae ! this * saa * sdasd! sdasd ! sd shi ^ sdisa, not a \n",
    "& not * not not() use it !$* sdsa'''\n",
    "re.split('[!|*|not]',sent)"
   ]
  },
  {
   "cell_type": "markdown",
   "metadata": {},
   "source": [
    "25."
   ]
  },
  {
   "cell_type": "raw",
   "metadata": {},
   "source": [
    "Pig Latin is a simple transformation of English text. Each word of the text is converted as follows: move any consonant (or consonant cluster) that appears at the start of the word to the end, then append ay, e.g. string → ingstray, idle → idleay.  http://en.wikipedia.org/wiki/Pig_Latin"
   ]
  },
  {
   "cell_type": "markdown",
   "metadata": {},
   "source": [
    "Let's first try to find the first vowel in a string"
   ]
  },
  {
   "cell_type": "code",
   "execution_count": 409,
   "metadata": {
    "collapsed": false
   },
   "outputs": [],
   "source": [
    "vowels = ['a','e','i','o','u']\n",
    "\n",
    "def find_position(word):\n",
    "    for letter in string:\n",
    "        if letter in vowels:\n",
    "            position = string.index(letter)\n",
    "    return position\n",
    "     "
   ]
  },
  {
   "cell_type": "markdown",
   "metadata": {},
   "source": [
    "Now re-construct the word"
   ]
  },
  {
   "cell_type": "code",
   "execution_count": 410,
   "metadata": {
    "collapsed": false
   },
   "outputs": [
    {
     "data": {
      "text/plain": [
       "<_sre.SRE_Match at 0x11880d5e0>"
      ]
     },
     "execution_count": 410,
     "metadata": {},
     "output_type": "execute_result"
    }
   ],
   "source": [
    "string='whomwhatever'\n",
    "re.search('[aeiou]',string)"
   ]
  },
  {
   "cell_type": "code",
   "execution_count": 411,
   "metadata": {
    "collapsed": false
   },
   "outputs": [
    {
     "data": {
      "text/plain": [
       "'everwhomwhat'"
      ]
     },
     "execution_count": 411,
     "metadata": {},
     "output_type": "execute_result"
    }
   ],
   "source": [
    "string='whomwhatever'\n",
    "new_string = string[find_position(string):]+string[:find_position(string)]\n",
    "new_string"
   ]
  },
  {
   "cell_type": "markdown",
   "metadata": {},
   "source": [
    "27."
   ]
  },
  {
   "cell_type": "raw",
   "metadata": {},
   "source": [
    "Python's random module includes a function choice() which randomly chooses an item from a sequence, e.g.  choice(\"aehh \") will produce one of four possible characters, with the letter h being twice as frequent as the others. Write a generator expression that produces a sequence of 500 randomly chosen letters drawn from the string \"aehh \", and put this expression inside a call to the ''.join() function, to concatenate them into one long string. You should get a result that looks like uncontrolled sneezing or maniacal laughter: he  haha ee  heheeh eha. Use split() and join() again to normalize the whitespace in this string."
   ]
  },
  {
   "cell_type": "code",
   "execution_count": 412,
   "metadata": {
    "collapsed": false
   },
   "outputs": [
    {
     "data": {
      "text/plain": [
       "'o'"
      ]
     },
     "execution_count": 412,
     "metadata": {},
     "output_type": "execute_result"
    }
   ],
   "source": [
    "random.choice('aeiou')"
   ]
  },
  {
   "cell_type": "markdown",
   "metadata": {},
   "source": [
    "To do something N times, use the itertools. The details are in my personal Github page:\n",
    "https://github.com/thatMeow/My_Python_Skills_Collections/blob/master/Miscellaneous/Iterations/do_something_n_times.py"
   ]
  },
  {
   "cell_type": "code",
   "execution_count": 413,
   "metadata": {
    "collapsed": false
   },
   "outputs": [
    {
     "data": {
      "text/plain": [
       "'ahhahaehhaaaeahhhaeehheehhhaaaheahhhahahahhahhehahhhaaheaeehaaaeaehhhaehaheaheehahheheeheahhehaehhhahhhheaeaheehahhhhheaaahheeheehhahaaehhaehhhaeaaaheaeeaaahhehhhaahaaehhhaaaeehaeeahheehhhhhaaaehhehhhaehhaaaaeaheaahehhheahehhhaaahehaaeaheheahhaeeaeheehehaaaheaehhahheeaaaeheehhehhehheeheaahehehahahhhehhhahhhehhehhhhahahaahheheehhhaeeeehhhhahhheaeaeehhhhhhaehhhahehheheehehhaaehhaeheaehhhehaeeeahhhahhhhahhhhhhhhahahhhhhahahehahahhaheahehhhehahheehhhhhaeahhhhhheaehhehheaaehhhaeaaeehaeaheehhhhehaheee'"
      ]
     },
     "execution_count": 413,
     "metadata": {},
     "output_type": "execute_result"
    }
   ],
   "source": [
    "import itertools\n",
    "\n",
    "string = 'aehh'\n",
    "\n",
    "list_=[]\n",
    "\n",
    "for _ in itertools.repeat(None, 500):\n",
    "    list_.append(random.choice(string))\n",
    "    \n",
    "    \n",
    "result = ''.join(list_)\n",
    "result"
   ]
  },
  {
   "cell_type": "raw",
   "metadata": {},
   "source": [
    "Use .count('x') to count the number of character in a string."
   ]
  },
  {
   "cell_type": "code",
   "execution_count": 414,
   "metadata": {
    "collapsed": false
   },
   "outputs": [
    {
     "name": "stdout",
     "output_type": "stream",
     "text": [
      "Number of letter a is: 130\n",
      "Number of letter e is: 128\n",
      "Number of letter h is: 242\n"
     ]
    }
   ],
   "source": [
    "for letter in 'aeh':\n",
    "    print \"Number of letter \"+ letter + \" is: \" + str(result.count(letter))"
   ]
  },
  {
   "cell_type": "markdown",
   "metadata": {},
   "source": [
    "29."
   ]
  },
  {
   "cell_type": "raw",
   "metadata": {},
   "source": [
    "Readability measures are used to score the reading difficulty of a text, for the purposes of selecting texts of appropriate difficulty for language learners. Let us define μw to be the average number of letters per word, and μs to be the average number of words per sentence, in a given text. The Automated Readability Index (ARI) of the text is defined to be: 4.71 μw + 0.5 μs - 21.43. Compute the ARI score for various sections of the Brown Corpus, including section f (lore) and j (learned). Make use of the fact that nltk.corpus.brown.words() produces a sequence of words, while nltk.corpus.brown.sents() produces a sequence of sentences."
   ]
  },
  {
   "cell_type": "markdown",
   "metadata": {},
   "source": [
    "Let's get the brown corpus in nltk first:"
   ]
  },
  {
   "cell_type": "code",
   "execution_count": 415,
   "metadata": {
    "collapsed": true
   },
   "outputs": [],
   "source": [
    "from nltk.corpus import brown"
   ]
  },
  {
   "cell_type": "markdown",
   "metadata": {},
   "source": [
    "My personal Github page of nltk book, chapter 2, contains the syntax to import nltk corpus and check files, get words, etc.:\n",
    "https://github.com/thatMeow/Natural-Language-Processing/blob/master/NLTK_Book/2%20-%20Accessing%20Text%20Corpora%20and%20Lexical%20Resources.ipynb"
   ]
  },
  {
   "cell_type": "code",
   "execution_count": 416,
   "metadata": {
    "collapsed": false
   },
   "outputs": [
    {
     "data": {
      "text/plain": [
       "[u'ca01', u'ca02', u'ca03', u'ca04', u'ca05']"
      ]
     },
     "execution_count": 416,
     "metadata": {},
     "output_type": "execute_result"
    }
   ],
   "source": [
    "brown.fileids()[:5]"
   ]
  },
  {
   "cell_type": "code",
   "execution_count": 417,
   "metadata": {
    "collapsed": false
   },
   "outputs": [
    {
     "name": "stdout",
     "output_type": "stream",
     "text": [
      "cr07 2456\n",
      "cr08 2371\n",
      "cr09 2332\n"
     ]
    }
   ],
   "source": [
    "for file_ in brown.fileids()[-3:]:\n",
    "    print file_, len(brown.words(file_))"
   ]
  },
  {
   "cell_type": "markdown",
   "metadata": {},
   "source": [
    "Let's check the first file and see the words in it."
   ]
  },
  {
   "cell_type": "code",
   "execution_count": 418,
   "metadata": {
    "collapsed": false
   },
   "outputs": [
    {
     "data": {
      "text/plain": [
       "[u'The', u'Fulton', u'County', u'Grand', u'Jury', ...]"
      ]
     },
     "execution_count": 418,
     "metadata": {},
     "output_type": "execute_result"
    }
   ],
   "source": [
    "sample_words = brown.words('ca01')\n",
    "sample_words"
   ]
  },
  {
   "cell_type": "markdown",
   "metadata": {},
   "source": [
    "### Count number of chapters, sentences, and words in the last 3 files"
   ]
  },
  {
   "cell_type": "code",
   "execution_count": 419,
   "metadata": {
    "collapsed": false
   },
   "outputs": [
    {
     "name": "stdout",
     "output_type": "stream",
     "text": [
      "File name:  cr07\n",
      "Number of raw content:  19973\n",
      "Number of sentences:  184\n",
      "Number of words:  2456\n",
      "Number of unique words:  724\n",
      "\n",
      "\n",
      "File name:  cr08\n",
      "Number of raw content:  20608\n",
      "Number of sentences:  70\n",
      "Number of words:  2371\n",
      "Number of unique words:  1067\n",
      "\n",
      "\n",
      "File name:  cr09\n",
      "Number of raw content:  19645\n",
      "Number of sentences:  99\n",
      "Number of words:  2332\n",
      "Number of unique words:  1072\n",
      "\n",
      "\n"
     ]
    }
   ],
   "source": [
    "for file_ in brown.fileids()[-3:]:\n",
    "    print \"File name: \", file_\n",
    "    print \"Number of raw content: \", len(brown.raw(file_))\n",
    "    print \"Number of sentences: \", len(brown.sents(file_))\n",
    "    print \"Number of words: \", len(brown.words(file_))\n",
    "    print \"Number of unique words: \", len(set(brown.words(file_)))\n",
    "    print \"\\n\""
   ]
  },
  {
   "cell_type": "code",
   "execution_count": 420,
   "metadata": {
    "collapsed": false
   },
   "outputs": [
    {
     "name": "stdout",
     "output_type": "stream",
     "text": [
      "File name:  cr07\n",
      "Number of characters per word:  8\n",
      "Number of words per sentence:  13\n",
      "ARI for file cr07 is:  29.25\n",
      "\n",
      "\n",
      "File name:  cr08\n",
      "Number of characters per word:  8\n",
      "Number of words per sentence:  33\n",
      "ARI for file cr08 is:  49.25\n",
      "\n",
      "\n",
      "File name:  cr09\n",
      "Number of characters per word:  8\n",
      "Number of words per sentence:  23\n",
      "ARI for file cr09 is:  39.25\n",
      "\n",
      "\n"
     ]
    }
   ],
   "source": [
    "for file_ in brown.fileids()[-3:]:\n",
    "    print \"File name: \", file_\n",
    "    print \"Number of characters per word: \", len(brown.raw(file_))/len(brown.words(file_))\n",
    "    print \"Number of words per sentence: \", len(brown.words(file_))/len(brown.sents(file_))\n",
    "    print \"ARI for file \" + file_ + \" is: \", 4.71*(len(brown.raw(file_))/len(brown.words(file_)))+(len(brown.words(file_))/len(brown.sents(file_)))-21.43\n",
    "    print \"\\n\""
   ]
  },
  {
   "cell_type": "markdown",
   "metadata": {},
   "source": [
    "30."
   ]
  },
  {
   "cell_type": "raw",
   "metadata": {},
   "source": [
    "Use the Porter Stemmer to normalize some tokenized text, calling the stemmer on each word. Do the same thing with the Lancaster Stemmer and see if you observe any differences."
   ]
  },
  {
   "cell_type": "markdown",
   "metadata": {},
   "source": [
    "Porter and Lancaster Stemmer can be found in my personal Github page:\n",
    "https://github.com/thatMeow/Natural-Language-Processing/blob/master/NLTK_Book/3%20-%20Processing%20Raw%20Text%20-%20Part%202.ipynb"
   ]
  },
  {
   "cell_type": "markdown",
   "metadata": {},
   "source": [
    "First let's get the Porter and Lancaster Stemmers:"
   ]
  },
  {
   "cell_type": "code",
   "execution_count": 421,
   "metadata": {
    "collapsed": true
   },
   "outputs": [],
   "source": [
    "porter = nltk.PorterStemmer()\n",
    "lancaster = nltk.LancasterStemmer()"
   ]
  },
  {
   "cell_type": "markdown",
   "metadata": {},
   "source": [
    "Now let's write a sentence and tokenize it:"
   ]
  },
  {
   "cell_type": "code",
   "execution_count": 422,
   "metadata": {
    "collapsed": true
   },
   "outputs": [],
   "source": [
    "sent = '''\n",
    "        Writing some words that can use stemmers: lying on the ground \n",
    "        and counting stars. Men and women, American or Chinese.\n",
    "        '''        "
   ]
  },
  {
   "cell_type": "code",
   "execution_count": 423,
   "metadata": {
    "collapsed": true
   },
   "outputs": [],
   "source": [
    "tokens = word_tokenize(sent)"
   ]
  },
  {
   "cell_type": "markdown",
   "metadata": {},
   "source": [
    "Now apply stemmers:"
   ]
  },
  {
   "cell_type": "code",
   "execution_count": 424,
   "metadata": {
    "collapsed": false
   },
   "outputs": [
    {
     "data": {
      "text/plain": [
       "[u'write',\n",
       " 'some',\n",
       " u'word',\n",
       " 'that',\n",
       " 'can',\n",
       " 'use',\n",
       " u'stemmer',\n",
       " ':',\n",
       " u'lie',\n",
       " 'on',\n",
       " 'the',\n",
       " 'ground',\n",
       " 'and',\n",
       " u'count',\n",
       " u'star',\n",
       " '.',\n",
       " 'men',\n",
       " 'and',\n",
       " 'women',\n",
       " ',',\n",
       " 'american',\n",
       " 'or',\n",
       " u'chines',\n",
       " '.']"
      ]
     },
     "execution_count": 424,
     "metadata": {},
     "output_type": "execute_result"
    }
   ],
   "source": [
    "[porter.stem(word) for word in tokens]"
   ]
  },
  {
   "cell_type": "code",
   "execution_count": 425,
   "metadata": {
    "collapsed": false
   },
   "outputs": [
    {
     "data": {
      "text/plain": [
       "['writ',\n",
       " 'som',\n",
       " 'word',\n",
       " 'that',\n",
       " 'can',\n",
       " 'us',\n",
       " 'stem',\n",
       " ':',\n",
       " 'lying',\n",
       " 'on',\n",
       " 'the',\n",
       " 'ground',\n",
       " 'and',\n",
       " 'count',\n",
       " 'star',\n",
       " '.',\n",
       " 'men',\n",
       " 'and',\n",
       " 'wom',\n",
       " ',',\n",
       " 'am',\n",
       " 'or',\n",
       " 'chines',\n",
       " '.']"
      ]
     },
     "execution_count": 425,
     "metadata": {},
     "output_type": "execute_result"
    }
   ],
   "source": [
    "[lancaster.stem(word) for word in tokens]"
   ]
  },
  {
   "cell_type": "markdown",
   "metadata": {},
   "source": [
    "31."
   ]
  },
  {
   "cell_type": "raw",
   "metadata": {},
   "source": [
    "Define the variable saying to contain the list ['After', 'all', 'is', 'said', 'and', 'done', ',', 'more',\n",
    "'is', 'said', 'than', 'done', '.']. Process this list using a for loop, and store the length of each word in a new list lengths. Hint: begin by assigning the empty list to lengths, using lengths = []. Then each time through the loop, use append() to add another length value to the list. Now do the same thing using a list comprehension."
   ]
  },
  {
   "cell_type": "code",
   "execution_count": 426,
   "metadata": {
    "collapsed": false
   },
   "outputs": [
    {
     "data": {
      "text/plain": [
       "[5, 3, 2, 4, 3, 4, 1, 4, 2, 4, 4, 4, 1]"
      ]
     },
     "execution_count": 426,
     "metadata": {},
     "output_type": "execute_result"
    }
   ],
   "source": [
    "word_list = ['After', 'all', 'is', 'said', 'and', 'done', ',', 'more',\n",
    "'is', 'said', 'than', 'done', '.']\n",
    "\n",
    "length_list = []\n",
    "\n",
    "for word in word_list:\n",
    "    length_list.append(len(word))\n",
    "length_list"
   ]
  },
  {
   "cell_type": "raw",
   "metadata": {},
   "source": [
    "Use list comprehension"
   ]
  },
  {
   "cell_type": "code",
   "execution_count": 427,
   "metadata": {
    "collapsed": false
   },
   "outputs": [
    {
     "data": {
      "text/plain": [
       "[5, 3, 2, 4, 3, 4, 1, 4, 2, 4, 4, 4, 1]"
      ]
     },
     "execution_count": 427,
     "metadata": {},
     "output_type": "execute_result"
    }
   ],
   "source": [
    "length_list = []\n",
    "\n",
    "[length_list.append(len(word)) for word in word_list]\n",
    "length_list"
   ]
  },
  {
   "cell_type": "markdown",
   "metadata": {},
   "source": [
    "32."
   ]
  },
  {
   "cell_type": "raw",
   "metadata": {},
   "source": [
    "Define a variable silly to contain the string: 'newly formed bland ideas are inexpressible in an infuriating\n",
    "way'. (This happens to be the legitimate interpretation that bilingual English-Spanish speakers can assign to Chomsky's famous nonsense phrase, colorless green ideas sleep furiously according to Wikipedia). Now write code to perform the following tasks:\n",
    "\n",
    "a. Split silly into a list of strings, one per word, using Python's split() operation, and save this to a variable called  bland.\n",
    "b. Extract the second letter of each word in silly and join them into a string, to get 'eoldrnnnna'.\n",
    "c. Combine the words in bland back into a single string, using join(). Make sure the words in the resulting string are separated with whitespace.\n",
    "d. Print the words of silly in alphabetical order, one per line."
   ]
  },
  {
   "cell_type": "code",
   "execution_count": 428,
   "metadata": {
    "collapsed": false
   },
   "outputs": [],
   "source": [
    "silly = 'newly formed bland ideas are inexpressible in an infuriating way'"
   ]
  },
  {
   "cell_type": "markdown",
   "metadata": {},
   "source": [
    "a. Split silly into a list of strings, one per word, using Python's split() operation, and save this to a variable called  bland."
   ]
  },
  {
   "cell_type": "code",
   "execution_count": 429,
   "metadata": {
    "collapsed": false
   },
   "outputs": [
    {
     "data": {
      "text/plain": [
       "['newly',\n",
       " 'formed',\n",
       " 'bland',\n",
       " 'ideas',\n",
       " 'are',\n",
       " 'inexpressible',\n",
       " 'in',\n",
       " 'an',\n",
       " 'infuriating',\n",
       " 'way']"
      ]
     },
     "execution_count": 429,
     "metadata": {},
     "output_type": "execute_result"
    }
   ],
   "source": [
    "bland = silly.split()\n",
    "bland"
   ]
  },
  {
   "cell_type": "markdown",
   "metadata": {},
   "source": [
    "b. Extract the second letter of each word in silly and join them into a string, to get 'eoldrnnnna'."
   ]
  },
  {
   "cell_type": "code",
   "execution_count": 430,
   "metadata": {
    "collapsed": false
   },
   "outputs": [
    {
     "data": {
      "text/plain": [
       "'eoldrnnnna'"
      ]
     },
     "execution_count": 430,
     "metadata": {},
     "output_type": "execute_result"
    }
   ],
   "source": [
    "second_letter = ''\n",
    "for word in bland:\n",
    "    second_letter += word[1]\n",
    "second_letter"
   ]
  },
  {
   "cell_type": "markdown",
   "metadata": {},
   "source": [
    "c. Combine the words in bland back into a single string, using join(). Make sure the words in the resulting string are separated with whitespace."
   ]
  },
  {
   "cell_type": "code",
   "execution_count": 431,
   "metadata": {
    "collapsed": false
   },
   "outputs": [
    {
     "data": {
      "text/plain": [
       "'newly formed bland ideas are inexpressible in an infuriating way'"
      ]
     },
     "execution_count": 431,
     "metadata": {},
     "output_type": "execute_result"
    }
   ],
   "source": [
    "new_bland = ' '.join(bland)\n",
    "new_bland"
   ]
  },
  {
   "cell_type": "markdown",
   "metadata": {},
   "source": [
    "!!!d. Print the words of silly in alphabetical order, one per line."
   ]
  },
  {
   "cell_type": "raw",
   "metadata": {},
   "source": [
    "Use 'find' method to locate the letter"
   ]
  },
  {
   "cell_type": "code",
   "execution_count": 432,
   "metadata": {
    "collapsed": false
   },
   "outputs": [
    {
     "data": {
      "text/plain": [
       "4"
      ]
     },
     "execution_count": 432,
     "metadata": {},
     "output_type": "execute_result"
    }
   ],
   "source": [
    "string = 'abcdefg'\n",
    "string.find('e')"
   ]
  },
  {
   "cell_type": "code",
   "execution_count": 433,
   "metadata": {
    "collapsed": false
   },
   "outputs": [
    {
     "name": "stdout",
     "output_type": "stream",
     "text": [
      "newly 13 4\n",
      "formed 5 14\n",
      "bland 1 11\n",
      "ideas 8 3\n",
      "are 0 17\n",
      "inexpressible 8 13\n",
      "in 8 13\n",
      "an 0 13\n",
      "infuriating 8 13\n",
      "way 22 0\n"
     ]
    }
   ],
   "source": [
    "alphabet = 'abcdefghijklmnopqrstuvwxyz'\n",
    "for word in bland:\n",
    "    print word, alphabet.find(word[0]), alphabet.find(word[1])"
   ]
  },
  {
   "cell_type": "raw",
   "metadata": {},
   "source": [
    "An easier way is to use sorted() function"
   ]
  },
  {
   "cell_type": "code",
   "execution_count": 434,
   "metadata": {
    "collapsed": false
   },
   "outputs": [
    {
     "data": {
      "text/plain": [
       "['an',\n",
       " 'are',\n",
       " 'bland',\n",
       " 'formed',\n",
       " 'ideas',\n",
       " 'in',\n",
       " 'inexpressible',\n",
       " 'infuriating',\n",
       " 'newly',\n",
       " 'way']"
      ]
     },
     "execution_count": 434,
     "metadata": {},
     "output_type": "execute_result"
    }
   ],
   "source": [
    "sorted(bland)"
   ]
  },
  {
   "cell_type": "markdown",
   "metadata": {},
   "source": [
    "33."
   ]
  },
  {
   "cell_type": "raw",
   "metadata": {},
   "source": [
    "The index() function can be used to look up items in sequences. For example, 'inexpressible'.index('e') tells us the index of the first position of the letter e.\n",
    "\n",
    "a. What happens when you look up a substring, e.g. 'inexpressible'.index('re')?\n",
    "b. Define a variable words containing a list of words. Now use words.index() to look up the position of an individual word.\n",
    "c. Define a variable silly as in the exercise above. Use the index() function in combination with list slicing to build a list phrase consisting of all the words up to (but not including) in in silly."
   ]
  },
  {
   "cell_type": "markdown",
   "metadata": {},
   "source": [
    "a."
   ]
  },
  {
   "cell_type": "code",
   "execution_count": 435,
   "metadata": {
    "collapsed": false
   },
   "outputs": [
    {
     "data": {
      "text/plain": [
       "5"
      ]
     },
     "execution_count": 435,
     "metadata": {},
     "output_type": "execute_result"
    }
   ],
   "source": [
    "string = 'inexpressible'\n",
    "string.index('ress')"
   ]
  },
  {
   "cell_type": "raw",
   "metadata": {},
   "source": [
    "index() function only return the index of 1st letter of the characters that you need to look up."
   ]
  },
  {
   "cell_type": "code",
   "execution_count": 436,
   "metadata": {
    "collapsed": false
   },
   "outputs": [
    {
     "data": {
      "text/plain": [
       "2"
      ]
     },
     "execution_count": 436,
     "metadata": {},
     "output_type": "execute_result"
    }
   ],
   "source": [
    "words = ['word', 'sun', 'bliss', 'samual', 'forest']\n",
    "words.index('bliss')"
   ]
  },
  {
   "cell_type": "markdown",
   "metadata": {},
   "source": [
    "34.!!! This is hard coded question, leave for now unless automated way is found"
   ]
  },
  {
   "cell_type": "raw",
   "metadata": {},
   "source": [
    "Write code to convert nationality adjectives like Canadian and Australian to their corresponding nouns Canada and Australia (see http://en.wikipedia.org/wiki/List_of_adjectival_forms_of_place_names)."
   ]
  },
  {
   "cell_type": "code",
   "execution_count": 437,
   "metadata": {
    "collapsed": true
   },
   "outputs": [],
   "source": [
    "import nltk\n",
    "porter = nltk.PorterStemmer()"
   ]
  },
  {
   "cell_type": "markdown",
   "metadata": {},
   "source": [
    "Try one word using stemmer:"
   ]
  },
  {
   "cell_type": "code",
   "execution_count": 438,
   "metadata": {
    "collapsed": false
   },
   "outputs": [
    {
     "data": {
      "text/plain": [
       "'canadian'"
      ]
     },
     "execution_count": 438,
     "metadata": {},
     "output_type": "execute_result"
    }
   ],
   "source": [
    "porter.stem('Canadian')"
   ]
  },
  {
   "cell_type": "code",
   "execution_count": null,
   "metadata": {
    "collapsed": true
   },
   "outputs": [],
   "source": []
  },
  {
   "cell_type": "markdown",
   "metadata": {
    "collapsed": true
   },
   "source": [
    "36."
   ]
  },
  {
   "cell_type": "code",
   "execution_count": 439,
   "metadata": {
    "collapsed": false
   },
   "outputs": [
    {
     "data": {
      "text/plain": [
       "[u'Oh', u'hai', u'.', u'In', u'teh']"
      ]
     },
     "execution_count": 439,
     "metadata": {},
     "output_type": "execute_result"
    }
   ],
   "source": [
    "words = nltk.corpus.genesis.words('lolcat.txt')\n",
    "words[:5]"
   ]
  },
  {
   "cell_type": "markdown",
   "metadata": {
    "collapsed": true
   },
   "source": [
    "37."
   ]
  },
  {
   "cell_type": "raw",
   "metadata": {},
   "source": [
    "Read about the re.sub() function for string substitution using regular expressions, using help(re.sub) and by consulting the further readings for this chapter. Use re.sub in writing code to remove HTML tags from an HTML file, and to normalize whitespace."
   ]
  },
  {
   "cell_type": "code",
   "execution_count": 440,
   "metadata": {
    "collapsed": false
   },
   "outputs": [
    {
     "data": {
      "text/plain": [
       "'Thzzzzz zzzzz whzzzzz things go well'"
      ]
     },
     "execution_count": 440,
     "metadata": {},
     "output_type": "execute_result"
    }
   ],
   "source": [
    "sent = \"This is where things go well\"\n",
    "re.sub('is|ere','zzzzz',sent)"
   ]
  },
  {
   "cell_type": "markdown",
   "metadata": {},
   "source": [
    "Let's try remove html tags"
   ]
  },
  {
   "cell_type": "code",
   "execution_count": 441,
   "metadata": {
    "collapsed": true
   },
   "outputs": [],
   "source": [
    "import urllib2\n",
    "from bs4 import BeautifulSoup"
   ]
  },
  {
   "cell_type": "code",
   "execution_count": 442,
   "metadata": {
    "collapsed": false
   },
   "outputs": [],
   "source": [
    "link = \"https://en.wikipedia.org/wiki/Natural_language\"\n",
    "raw = urllib2.urlopen(link).read().decode('utf-8')"
   ]
  },
  {
   "cell_type": "code",
   "execution_count": 443,
   "metadata": {
    "collapsed": false
   },
   "outputs": [
    {
     "data": {
      "text/plain": [
       "[u'<', u'!', u'DOCTYPE', u'html', u'>']"
      ]
     },
     "execution_count": 443,
     "metadata": {},
     "output_type": "execute_result"
    }
   ],
   "source": [
    "tokens = word_tokenize(raw)\n",
    "tokens[:5]"
   ]
  },
  {
   "cell_type": "code",
   "execution_count": 444,
   "metadata": {
    "collapsed": false
   },
   "outputs": [
    {
     "data": {
      "text/plain": [
       "u'(window.RLQ=window.RLQ||[]).push(function(){mw.config.set({wgCanonicalNamespace:,wgCanonicalSpecialPageName:false,wgNamespaceNumber:0,wgPageName:Natural_language,wgTitle:Natural language,wgCurRevisionId:769673929,wgRevisionId:769673929,wgArticleId:21173,wgIsArticle:true,wgIsRedirect:false,wgAction:view,wgUserName:null,wgUserGroups:[*],wgCategories:[Use dmy dates from July 2012,Natural language processing,Neuropsychological assessment,Language,Philosophical logic,Philosophy of language],wgBreakFrames:false,wgPageContentLanguage:en,wgPageContentModel:wikitext,wgSeparatorTransformTable:[,],wgDigitTransformTable:[,],wgDefaultDateFormat:dmy,wgMonthNames:[,January,February,March,April,May,June,July,August,September,October,November,December],wgMonthNamesShort:[,Jan,Feb,Mar,Apr,May,Jun,Jul,Aug,Sep,Oct,Nov,Dec],wgRelevantPageName:Natural_language,wgRelevantArticleId:21173,wgRequestId:WRZL-ApAMFwAAHeLHZ0AAAAB,wgIsProbablyEditable:true,wgRestrictionEdit:[],wgRestrictionMove:[],wgFlaggedRevsParams:{tags:{}},wgStableRevisionId:null,wgWikiEditorEnabledModules:{toolbar:true,dialogs:true,preview:false,publish:false},wgBetaFeaturesFeatures:[],wgMediaViewerOnClick:true,wgMediaViewerEnabledByDefault:false,wgPopupsShouldSendModuleToUser:false,wgPopupsConflictsWithNavPopupGadget:false,wgVisualEditor:{pageLanguageCode:en,pageLanguageDir:ltr,usePageImages:true,usePageDescriptions:true},wgPreferredVariant:en,wgMFDisplayWikibaseDescriptions:{search:true,nearby:true,watchlist:true,tagline:false},wgRelatedArticles:null,wgRelatedArticlesUseCirrusSearch:true,wgRelatedArticlesOnlyUseCirrusSearch:false,wgULSCurrentAutonym:English,wgNoticeProject:wikipedia,wgCentralNoticeCookiesToDelete:[],wgCentralNoticeCategoriesUsingLegacy:[Fundraising,fundraising],wgCategoryTreePageCategoryOptions:{mode:0,hideprefix:20,showcount:true,namespaces:false},wgWikibaseItemId:Q33742,wgCentralAuthMobileDomain:false,wgVisualEditorToolbarScrollOffset:0,wgVisualEditorUnsupportedEditParams:[preload,preloadparams,preloadtitle,undo,undoafter,veswitched],wgEditSubmitButtonLabelPublish:false});mw.loader.state({ext.globalCssJs.user.styles:ready,ext.globalCssJs.site.styles:ready,site.styles:ready,noscript:ready,user.styles:ready,user:ready,user.options:loading,user.tokens:loading,ext.cite.styles:ready,wikibase.client.init:ready,ext.visualEditor.desktopArticleTarget.noscript:ready,ext.uls.interlanguage:ready,ext.wikimediaBadges:ready,mediawiki.legacy.shared:ready,mediawiki.legacy.commonPrint:ready,mediawiki.sectionAnchor:ready,mediawiki.skinning.interface:ready,skins.vector.styles:ready,ext.globalCssJs.user:ready,ext.globalCssJs.site:ready});mw.loader.implement(user.options@0j3lz3q,function($,jQuery,require,module){mw.user.options.set({variant:en});});mw.loader.implement(user.tokens@1dqfd7l,function ( $, jQuery, require, module ) {mw.user.tokens.set({editToken:+,patrolToken:+,watchToken:+,csrfToken:+});/*@nomin*/;});mw.loader.load([ext.cite.a11y,mediawiki.toc,site,mediawiki.page.startup,mediawiki.user,mediawiki.hidpi,mediawiki.page.ready,mediawiki.searchSuggest,ext.gadget.teahouse,ext.gadget.ReferenceTooltips,ext.gadget.watchlist-notice,ext.gadget.DRN-wizard,ext.gadget.charinsert,ext.gadget.refToolbar,ext.gadget.extra-toolbar-buttons,ext.gadget.switcher,ext.gadget.featured-articles-links,ext.centralauth.centralautologin,ext.visualEditor.desktopArticleTarget.init,ext.visualEditor.targetLoader,ext.eventLogging.subscriber,ext.wikimediaEvents,ext.navigationTiming,ext.uls.eventlogger,ext.uls.init,ext.uls.interface,ext.quicksurveys.init,ext.centralNotice.geoIP,ext.centralNotice.startUp,skins.vector.js]);});Jump to:<!-- NewPP limit reportParsed by mw1257Cached time: 20170512235748Cache expiry: 2592000Dynamic content: falseCPU time usage: 0.100 secondsReal time usage: 0.142 secondsPreprocessor visited node count: 515/1000000Preprocessor generated node count: 0/1500000Post\\u2010expand include size: 18503/2097152 bytesTemplate argument size: 400/2097152 bytesHighest expansion depth: 12/40Expensive parser function count: 1/500Lua time usage: 0.038/10.000 secondsLua memory usage: 1.81 MB/50 MB--><!--Transclusion expansion time report (%,ms,calls,template)100.00%  114.594      1 -total 44.70%   51.228      1 Template:Reflist 37.94%   43.472      2 Template:Cite_book 16.97%   19.441      1 Template:Neuropsychology 15.39%   17.633      1 Template:About 15.03%   17.224      1 Template:Sidebar_with_collapsible_lists 10.91%   12.500      1 Template:Use_dmy_dates  6.84%    7.837      1 Template:DMCA  5.86%    6.720      1 Template:Dated_maintenance_category  4.30%    4.929      2 Template:Main--><!-- Saved in parser cache with key enwiki:pcache:idhash:21173-0!*!0!!en!*!* and timestamp 20170512235748 and revision id 769673929 -->Retrieved from ;additional terms may apply.  By using this site, you agree to the '"
      ]
     },
     "execution_count": 444,
     "metadata": {},
     "output_type": "execute_result"
    }
   ],
   "source": [
    "re.sub('<.*>|\\n|\\t|\"|\\\\\\\\','',raw)"
   ]
  },
  {
   "cell_type": "markdown",
   "metadata": {},
   "source": [
    "38."
   ]
  },
  {
   "cell_type": "raw",
   "metadata": {},
   "source": [
    "An interesting challenge for tokenization is words that have been split across a line-break. E.g. if long-term is split, then we have the string long-\\nterm.\n",
    "\n",
    "1. Write a regular expression that identifies words that are hyphenated at a line-break. The expression will need to include the \\n character.\n",
    "2. Use re.sub() to remove the \\n character from these words.\n",
    "3. How might you identify words that should not remain hyphenated once the newline is removed, e.g.  'encyclo-\\npedia'?x"
   ]
  },
  {
   "cell_type": "raw",
   "metadata": {},
   "source": [
    "1."
   ]
  },
  {
   "cell_type": "code",
   "execution_count": 445,
   "metadata": {
    "collapsed": false
   },
   "outputs": [
    {
     "data": {
      "text/plain": [
       "[]"
      ]
     },
     "execution_count": 445,
     "metadata": {},
     "output_type": "execute_result"
    }
   ],
   "source": [
    "sent = \"\"\"bla bla bla infor-\n",
    "... mation bla bla bla\"\"\"\n",
    "[word for word in sent if re.search('-\\n', word)]"
   ]
  },
  {
   "cell_type": "raw",
   "metadata": {},
   "source": [
    "2."
   ]
  },
  {
   "cell_type": "code",
   "execution_count": 446,
   "metadata": {
    "collapsed": false
   },
   "outputs": [
    {
     "data": {
      "text/plain": [
       "'-\\nb-\\nl-\\na-\\n -\\nb-\\nl-\\na-\\n -\\nb-\\nl-\\na-\\n -\\ni-\\nn-\\nf-\\no-\\nr-\\n--\\n\\n-\\nm-\\na-\\nt-\\ni-\\no-\\nn-\\n -\\nb-\\nl-\\na-\\n -\\nb-\\nl-\\na-\\n -\\nb-\\nl-\\na-\\n'"
      ]
     },
     "execution_count": 446,
     "metadata": {},
     "output_type": "execute_result"
    }
   ],
   "source": [
    "re.sub('','-\\n', sent)"
   ]
  },
  {
   "cell_type": "markdown",
   "metadata": {},
   "source": [
    "39."
   ]
  },
  {
   "cell_type": "raw",
   "metadata": {},
   "source": [
    "Read the Wikipedia entry on Soundex. Implement this algorithm in Python."
   ]
  },
  {
   "cell_type": "markdown",
   "metadata": {},
   "source": [
    "https://en.wikipedia.org/wiki/Soundex"
   ]
  },
  {
   "cell_type": "markdown",
   "metadata": {},
   "source": [
    "#### Rules of Soundex"
   ]
  },
  {
   "cell_type": "raw",
   "metadata": {},
   "source": [
    "1. Retain the first letter of the name and drop all other occurrences of a, e, i, o, u, y, h, w.\n",
    "\n",
    "2. Replace consonants with digits as follows (after the first letter):\n",
    "b, f, p, v → 1\n",
    "c, g, j, k, q, s, x, z → 2\n",
    "d, t → 3\n",
    "l → 4\n",
    "m, n → 5\n",
    "r → 6\n",
    "\n",
    "3. If two or more letters with the same number are adjacent in the original name (before step 1), only retain the first letter; also two letters with the same number separated by 'h' or 'w' are coded as a single number, whereas such letters separated by a vowel are coded twice. This rule also applies to the first letter.\n",
    "\n",
    "4. If you have too few letters in your word that you can't assign three numbers, append with zeros until there are three numbers. If you have more than 3 letters, just retain the first 3 numbers."
   ]
  },
  {
   "cell_type": "raw",
   "metadata": {},
   "source": [
    "Using this algorithm, both \"Robert\" and \"Rupert\" return the same string \"R163\" while \"Rubin\" yields \"R150\"."
   ]
  },
  {
   "cell_type": "code",
   "execution_count": 447,
   "metadata": {
    "collapsed": false
   },
   "outputs": [
    {
     "data": {
      "text/plain": [
       "'j25'"
      ]
     },
     "execution_count": 447,
     "metadata": {},
     "output_type": "execute_result"
    }
   ],
   "source": [
    "word = 'jasonnon'\n",
    "\n",
    "def soundex(word):\n",
    "    soundex_word = word[0]\n",
    "    word = re.sub('[aeiouyhw]','',word[1:]) # use regex's sub() method to replace letters\n",
    "    \n",
    "    def consonants_digit(letter):\n",
    "        if letter in 'bfpv':\n",
    "            return 1\n",
    "        elif letter in 'cgjkqsxz':\n",
    "            return 2\n",
    "        elif letter in 'dt':\n",
    "            return 3\n",
    "        elif letter == 'l':\n",
    "            return 4\n",
    "        elif letter in 'mn':\n",
    "            return 5\n",
    "        else:\n",
    "            return 6\n",
    "    \n",
    "    for i in range(len(word)):\n",
    "        soundex_word = soundex_word + str(consonants_digit(word[i]))\n",
    "    # so far step 1 and step 2 are done, for step 3:\n",
    "    def drop_step_3(word):\n",
    "        for i in range(len(word)-1):\n",
    "            if word[i] == word[i+1]:\n",
    "                word = word.replace(word[i],'z', 1)\n",
    "        word = re.sub('z','',word)\n",
    "        return word\n",
    "\n",
    "    return drop_step_3(soundex_word) \n",
    "        \n",
    "soundex(word)"
   ]
  },
  {
   "cell_type": "code",
   "execution_count": null,
   "metadata": {
    "collapsed": true
   },
   "outputs": [],
   "source": []
  },
  {
   "cell_type": "markdown",
   "metadata": {},
   "source": [
    "41."
   ]
  },
  {
   "cell_type": "raw",
   "metadata": {},
   "source": [
    "Rewrite the following nested loop as a nested list comprehension"
   ]
  },
  {
   "cell_type": "raw",
   "metadata": {},
   "source": [
    ">>> sent = ['The', 'dog', 'gave', 'John', 'the', 'newspaper']\n",
    ">>> result = []\n",
    ">>> for word in sent:\n",
    "...     word_len = (word, len(word))\n",
    "...     result.append(word_len)\n",
    ">>> result\n",
    "[('The', 3), ('dog', 3), ('gave', 4), ('John', 4), ('the', 3), ('newspaper', 9)]"
   ]
  },
  {
   "cell_type": "code",
   "execution_count": 448,
   "metadata": {
    "collapsed": false
   },
   "outputs": [
    {
     "data": {
      "text/plain": [
       "[('The', 3),\n",
       " ('dog', 3),\n",
       " ('gave', 4),\n",
       " ('John', 4),\n",
       " ('the', 3),\n",
       " ('newspaper', 9)]"
      ]
     },
     "execution_count": 448,
     "metadata": {},
     "output_type": "execute_result"
    }
   ],
   "source": [
    "word_list = ['The', 'dog', 'gave', 'John', 'the', 'newspaper']\n",
    "[(word, len(word)) for word in word_list]"
   ]
  },
  {
   "cell_type": "markdown",
   "metadata": {},
   "source": [
    "#### The first time I worked on this I got stuck"
   ]
  },
  {
   "cell_type": "raw",
   "metadata": {},
   "source": [
    "Rewrite the following nested loop as a nested list comprehension"
   ]
  },
  {
   "cell_type": "raw",
   "metadata": {},
   "source": [
    ">>> words = ['attribution', 'confabulation', 'elocution',\n",
    "...          'sequoia', 'tenacious', 'unidirectional']\n",
    ">>> vsequences = set()\n",
    ">>> for word in words:\n",
    "...     vowels = []\n",
    "...     for char in word:\n",
    "...         if char in 'aeiou':\n",
    "...             vowels.append(char)\n",
    "...     vsequences.add(''.join(vowels))\n",
    ">>> sorted(vsequences)\n",
    "['aiuio', 'eaiou', 'eouio', 'euoia', 'oauaio', 'uiieioa']"
   ]
  },
  {
   "cell_type": "markdown",
   "metadata": {},
   "source": [
    "An answer from stack overflow:\n",
    "\n",
    "http://stackoverflow.com/questions/43964923/python-nested-list-comprehension-in-nltk"
   ]
  },
  {
   "cell_type": "code",
   "execution_count": 452,
   "metadata": {
    "collapsed": false
   },
   "outputs": [
    {
     "data": {
      "text/plain": [
       "['aiuio', 'eaiou', 'eouio', 'euoia', 'oauaio', 'uiieioa']"
      ]
     },
     "execution_count": 452,
     "metadata": {},
     "output_type": "execute_result"
    }
   ],
   "source": [
    "words = ['attribution', 'confabulation', 'elocution', 'sequoia', 'tenacious', 'unidirectional']\n",
    "\n",
    "sorted(set([\"\".join([char for char in word if char in 'aeiou']) for word in words]))"
   ]
  },
  {
   "cell_type": "markdown",
   "metadata": {},
   "source": [
    "#### The key here is put the \"if\" condition with the char loop, then do the word loop"
   ]
  },
  {
   "cell_type": "code",
   "execution_count": null,
   "metadata": {
    "collapsed": true
   },
   "outputs": [],
   "source": []
  },
  {
   "cell_type": "code",
   "execution_count": null,
   "metadata": {
    "collapsed": true
   },
   "outputs": [],
   "source": []
  },
  {
   "cell_type": "code",
   "execution_count": null,
   "metadata": {
    "collapsed": true
   },
   "outputs": [],
   "source": []
  },
  {
   "cell_type": "code",
   "execution_count": null,
   "metadata": {
    "collapsed": true
   },
   "outputs": [],
   "source": []
  },
  {
   "cell_type": "code",
   "execution_count": null,
   "metadata": {
    "collapsed": true
   },
   "outputs": [],
   "source": []
  },
  {
   "cell_type": "code",
   "execution_count": null,
   "metadata": {
    "collapsed": true
   },
   "outputs": [],
   "source": []
  },
  {
   "cell_type": "code",
   "execution_count": null,
   "metadata": {
    "collapsed": true
   },
   "outputs": [],
   "source": []
  },
  {
   "cell_type": "code",
   "execution_count": null,
   "metadata": {
    "collapsed": true
   },
   "outputs": [],
   "source": []
  },
  {
   "cell_type": "code",
   "execution_count": null,
   "metadata": {
    "collapsed": true
   },
   "outputs": [],
   "source": []
  }
 ],
 "metadata": {
  "kernelspec": {
   "display_name": "Python 2",
   "language": "python",
   "name": "python2"
  },
  "language_info": {
   "codemirror_mode": {
    "name": "ipython",
    "version": 2
   },
   "file_extension": ".py",
   "mimetype": "text/x-python",
   "name": "python",
   "nbconvert_exporter": "python",
   "pygments_lexer": "ipython2",
   "version": "2.7.13"
  }
 },
 "nbformat": 4,
 "nbformat_minor": 2
}
